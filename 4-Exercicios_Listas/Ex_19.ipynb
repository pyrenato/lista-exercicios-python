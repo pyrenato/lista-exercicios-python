{
 "cells": [
  {
   "cell_type": "code",
   "execution_count": null,
   "metadata": {},
   "outputs": [],
   "source": [
    "sistemas = ['Windows Server', 'Unix', 'Linux', 'Netware', 'Mac OS', 'Outro']"
   ]
  },
  {
   "cell_type": "code",
   "execution_count": null,
   "metadata": {},
   "outputs": [],
   "source": [
    "lista_votos = []"
   ]
  },
  {
   "cell_type": "code",
   "execution_count": null,
   "metadata": {},
   "outputs": [],
   "source": [
    "# Loop de inserção dos dados"
   ]
  },
  {
   "cell_type": "code",
   "execution_count": null,
   "metadata": {},
   "outputs": [],
   "source": [
    "print('''Sistemas Disponíveis\n",
    "1 - Windows Server\n",
    "2 - Unix\n",
    "3 - Linux\n",
    "4 - Netware\n",
    "5 - Mac OS\n",
    "6 - Outro''')\n",
    "\n",
    "# Validação do código\n",
    "while True:\n",
    "    voto = int(input('Digite o código do melhor sistema para servidores: '))\n",
    "    if voto == 0:\n",
    "        break\n",
    "    elif voto < 0 or voto > 6:\n",
    "        print('Código inválido!')\n",
    "    else:\n",
    "        # Na hora de acionar o voto à lista é diminuído 1 do valor pois em Python os índices se inciam por 0\n",
    "        lista_votos.append(voto-1)"
   ]
  },
  {
   "cell_type": "code",
   "execution_count": null,
   "metadata": {},
   "outputs": [],
   "source": [
    "# Apresentação dos dados"
   ]
  },
  {
   "cell_type": "code",
   "execution_count": null,
   "metadata": {},
   "outputs": [],
   "source": [
    "print(f\"{'Sistema Operacional':5} {'Votos':>10} {'Percentual':>15}\")\n",
    "print(f\"{'-'* 20:5}{'-' * 5:>10} {'-' * 10:>15}\")\n",
    "\n",
    "# Laço para o cálculo do percentual e de apresentação dos votos nos sistemas\n",
    "for so in range(len(sistemas)):\n",
    "    percentual = (100 * lista_votos.count(so)) /  len(lista_votos)\n",
    "    print(f'{sistemas[so]:18} {lista_votos.count(so):^15} {percentual:>10.1f}%')\n",
    "\n",
    "print(f\"{'-' * 20:5}{'-' * 5:>10}\")\n",
    "print(f\"{'Total':20}{len(lista_votos):^15}\")"
   ]
  }
 ],
 "metadata": {
  "kernelspec": {
   "display_name": "Python 3",
   "language": "python",
   "name": "python3"
  },
  "language_info": {
   "codemirror_mode": {
    "name": "ipython",
    "version": 3
   },
   "file_extension": ".py",
   "mimetype": "text/x-python",
   "name": "python",
   "nbconvert_exporter": "python",
   "pygments_lexer": "ipython3",
   "version": "3.6.5"
  }
 },
 "nbformat": 4,
 "nbformat_minor": 2
}
