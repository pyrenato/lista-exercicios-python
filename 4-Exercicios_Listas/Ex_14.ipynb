{
 "cells": [
  {
   "cell_type": "code",
   "execution_count": null,
   "metadata": {},
   "outputs": [],
   "source": [
    "# Lista com as perguntas"
   ]
  },
  {
   "cell_type": "code",
   "execution_count": null,
   "metadata": {},
   "outputs": [],
   "source": [
    "perguntas = ['Telefonou para a vítima? ',\n",
    "'Esteve no local do crime? ',\n",
    "'Mora perto da vítima? ',\n",
    "'Devia para a vítima? ',\n",
    "'Já trabalhou com a vítima? ']"
   ]
  },
  {
   "cell_type": "code",
   "execution_count": null,
   "metadata": {},
   "outputs": [],
   "source": [
    "respostas = []"
   ]
  },
  {
   "cell_type": "code",
   "execution_count": null,
   "metadata": {},
   "outputs": [],
   "source": [
    "# Loop de inserção das respostas às perguntas"
   ]
  },
  {
   "cell_type": "code",
   "execution_count": null,
   "metadata": {},
   "outputs": [],
   "source": [
    "print(\"Responda \\'s\\' para sim e \\'n\\' para não\")\n",
    "for perg in range(5):\n",
    "    while True:\n",
    "        resp = input(perguntas[perg]).lower()[0]\n",
    "        if resp in 'sn':\n",
    "            respostas.append(resp)\n",
    "            break"
   ]
  },
  {
   "cell_type": "code",
   "execution_count": null,
   "metadata": {},
   "outputs": [],
   "source": [
    "# Apresentação dos dados"
   ]
  },
  {
   "cell_type": "code",
   "execution_count": null,
   "metadata": {},
   "outputs": [],
   "source": [
    "if respostas.count('s') == 2:\n",
    "    print('Suspeito')\n",
    "elif respostas.count('s') >= 3 and respostas.count('s') <= 4:\n",
    "    print('Cúmplice')\n",
    "elif respostas.count('s') == 5:\n",
    "    print('Assassino')\n",
    "else:\n",
    "    print('Inocente')"
   ]
  }
 ],
 "metadata": {
  "kernelspec": {
   "display_name": "Python 3",
   "language": "python",
   "name": "python3"
  },
  "language_info": {
   "codemirror_mode": {
    "name": "ipython",
    "version": 3
   },
   "file_extension": ".py",
   "mimetype": "text/x-python",
   "name": "python",
   "nbconvert_exporter": "python",
   "pygments_lexer": "ipython3",
   "version": "3.6.5"
  }
 },
 "nbformat": 4,
 "nbformat_minor": 2
}
