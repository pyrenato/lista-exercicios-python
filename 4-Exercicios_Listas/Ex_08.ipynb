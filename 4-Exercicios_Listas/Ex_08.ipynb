{
 "cells": [
  {
   "cell_type": "code",
   "execution_count": null,
   "metadata": {},
   "outputs": [],
   "source": [
    "lista_idades = []"
   ]
  },
  {
   "cell_type": "code",
   "execution_count": null,
   "metadata": {},
   "outputs": [],
   "source": [
    "lista_alturas = []"
   ]
  },
  {
   "cell_type": "code",
   "execution_count": null,
   "metadata": {},
   "outputs": [],
   "source": [
    "# Loop de inserção dos dados"
   ]
  },
  {
   "cell_type": "code",
   "execution_count": null,
   "metadata": {},
   "outputs": [],
   "source": [
    "for pessoa in range(5):\n",
    "    idade = int(input(f'Digite a idade da {pessoa+1}ª pessoa: '))\n",
    "    lista_idades.append(idade)\n",
    "    altura = float(input(f'Digite a altura da {pessoa+1}ª pessoa: '))\n",
    "    lista_alturas.append(altura)"
   ]
  },
  {
   "cell_type": "code",
   "execution_count": null,
   "metadata": {},
   "outputs": [],
   "source": [
    "print('Os dados inseridos na ordrem invertida são: ')\n",
    "# O range() com os parâmetros irá percorrer a lista de trás pra frente\n",
    "for pessoa in range(len(lista_idades)-1, -1, -1):\n",
    "    print(lista_idades[pessoa])\n",
    "    print(lista_alturas[pessoa])\n",
    "    "
   ]
  }
 ],
 "metadata": {
  "kernelspec": {
   "display_name": "Python 3",
   "language": "python",
   "name": "python3"
  },
  "language_info": {
   "codemirror_mode": {
    "name": "ipython",
    "version": 3
   },
   "file_extension": ".py",
   "mimetype": "text/x-python",
   "name": "python",
   "nbconvert_exporter": "python",
   "pygments_lexer": "ipython3",
   "version": "3.6.5"
  }
 },
 "nbformat": 4,
 "nbformat_minor": 2
}
