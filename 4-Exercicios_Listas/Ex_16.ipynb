{
 "cells": [
  {
   "cell_type": "code",
   "execution_count": null,
   "metadata": {},
   "outputs": [],
   "source": [
    "salario = 200"
   ]
  },
  {
   "cell_type": "code",
   "execution_count": null,
   "metadata": {},
   "outputs": [],
   "source": [
    "# Lista que serão inseridas as quantidades salários nos devidos intervalos"
   ]
  },
  {
   "cell_type": "code",
   "execution_count": null,
   "metadata": {},
   "outputs": [],
   "source": [
    "intervalo_salarios = [0, 0, 0, 0, 0, 0, 0, 0, 0, 0]"
   ]
  },
  {
   "cell_type": "code",
   "execution_count": null,
   "metadata": {},
   "outputs": [],
   "source": [
    "# Lista com a identificação dos intervalos"
   ]
  },
  {
   "cell_type": "code",
   "execution_count": null,
   "metadata": {},
   "outputs": [],
   "source": [
    "valores_intervalos = ['R$ 200 - R$ 299: ', 'R$ 300 - R$ 399: ', 'R$ 400 - R$ 499: ',\n",
    "                      'R$ 500 - R$ 599: ', 'R$ 600 - R$ 699: ', 'R$ 700 - R$ 799: ',\n",
    "                      'R$ 800 - R$ 899: ', 'R$ 900 - R$ 999: ', 'Acima de R$ 1000: ']"
   ]
  },
  {
   "cell_type": "code",
   "execution_count": null,
   "metadata": {},
   "outputs": [],
   "source": [
    "# Loop de inserção dos dados\n",
    "while True:\n",
    "    venda = float(input('Digite o valor da venda do vendedor (-1 para sair): '))\n",
    "    # Quebra do laço\n",
    "    if venda == -1:\n",
    "        break\n",
    "    else:\n",
    "        # Cálculo da porcentagem da comissão com a soma do salário\n",
    "        salario_total = salario + (venda * (9 / 100))\n",
    "        # Essa variável vai ajudar na caputra do índice da lista\n",
    "        intervalo = (salario_total // 100) - 1\n",
    "        # Se o intervalo for menor que 1 atribui-se o valor 1, pois posteriormente esse valor virá a ser zero\n",
    "        if intervalo < 1:\n",
    "            intevalo = 1\n",
    "        # Caso seja maior que 9 atribui-se o valor 9, pois é o maior índice válido da lista\n",
    "        elif intervalo > 9:\n",
    "            intervalo = 9\n",
    "        # Como os índices em Python se iniciam por 0 é diminuído 1 na variável \n",
    "        intervalo -= 1\n",
    "        # Acrescenta-se 1 no intervalo em que o salário se encontra\n",
    "        intervalo_salarios[int(intervalo)] += 1"
   ]
  },
  {
   "cell_type": "code",
   "execution_count": null,
   "metadata": {},
   "outputs": [],
   "source": [
    "# Apresentação dos dados"
   ]
  },
  {
   "cell_type": "code",
   "execution_count": null,
   "metadata": {},
   "outputs": [],
   "source": [
    "for indice in range(len(valores_intervalos)):\n",
    "    print(valores_intervalos[indice], intervalo_salarios[indice])"
   ]
  }
 ],
 "metadata": {
  "kernelspec": {
   "display_name": "Python 3",
   "language": "python",
   "name": "python3"
  },
  "language_info": {
   "codemirror_mode": {
    "name": "ipython",
    "version": 3
   },
   "file_extension": ".py",
   "mimetype": "text/x-python",
   "name": "python",
   "nbconvert_exporter": "python",
   "pygments_lexer": "ipython3",
   "version": "3.6.5"
  }
 },
 "nbformat": 4,
 "nbformat_minor": 2
}
