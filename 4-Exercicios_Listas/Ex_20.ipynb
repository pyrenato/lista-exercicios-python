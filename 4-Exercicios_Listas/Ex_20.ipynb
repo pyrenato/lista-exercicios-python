{
 "cells": [
  {
   "cell_type": "code",
   "execution_count": null,
   "metadata": {},
   "outputs": [],
   "source": [
    "lista_salarios = []"
   ]
  },
  {
   "cell_type": "code",
   "execution_count": null,
   "metadata": {},
   "outputs": [],
   "source": [
    "lista_abonos = []"
   ]
  },
  {
   "cell_type": "code",
   "execution_count": null,
   "metadata": {},
   "outputs": [],
   "source": [
    "# Loop de inserção dos dados"
   ]
  },
  {
   "cell_type": "code",
   "execution_count": null,
   "metadata": {},
   "outputs": [],
   "source": [
    "print('Projeção de Gastos com Abono')\n",
    "print('=' * 28)\n",
    "while True:\n",
    "    salario = float(input('Salário (0 para sair): '))\n",
    "    if salario == 0:\n",
    "        break\n",
    "    else:\n",
    "        lista_salarios.append(salario)\n",
    "        \n",
    "        # Cálculo do abono\n",
    "        abono = salario * (20 / 100)\n",
    "        \n",
    "        # Verificação do valor do abono\n",
    "        if abono < 100:\n",
    "            abono = 100\n",
    "            lista_abonos.append(abono)\n",
    "        else:\n",
    "            lista_abonos.append(abono)"
   ]
  },
  {
   "cell_type": "code",
   "execution_count": null,
   "metadata": {},
   "outputs": [],
   "source": [
    "# Apresentação dos dados"
   ]
  },
  {
   "cell_type": "code",
   "execution_count": null,
   "metadata": {},
   "outputs": [],
   "source": [
    "print(f\"{'Salário':^13} - {'Abono':^10}\")\n",
    "for salario in range(len(lista_salarios)):\n",
    "    print(f'R$ {lista_salarios[salario]:>10.2f} - R$ {lista_abonos[salario]:<10.2f}')"
   ]
  },
  {
   "cell_type": "code",
   "execution_count": null,
   "metadata": {},
   "outputs": [],
   "source": [
    "print(f'''\n",
    "Foram processados {len(lista_salarios)} colaboradores\n",
    "Total gasto com abono: R$ {sum(lista_abonos):.2f}\n",
    "Quantidade de valores mínimos pagos: {lista_abonos.count(100)}\n",
    "Maior valor de abono pago: R$ {max(lista_abonos):.2f}''')"
   ]
  }
 ],
 "metadata": {
  "kernelspec": {
   "display_name": "Python 3",
   "language": "python",
   "name": "python3"
  },
  "language_info": {
   "codemirror_mode": {
    "name": "ipython",
    "version": 3
   },
   "file_extension": ".py",
   "mimetype": "text/x-python",
   "name": "python",
   "nbconvert_exporter": "python",
   "pygments_lexer": "ipython3",
   "version": "3.6.5"
  }
 },
 "nbformat": 4,
 "nbformat_minor": 2
}
