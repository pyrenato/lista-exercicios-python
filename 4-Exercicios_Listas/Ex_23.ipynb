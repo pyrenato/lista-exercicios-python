{
 "cells": [
  {
   "cell_type": "code",
   "execution_count": null,
   "metadata": {},
   "outputs": [],
   "source": [
    "# Função que converte os bytes para megabytes"
   ]
  },
  {
   "cell_type": "code",
   "execution_count": null,
   "metadata": {},
   "outputs": [],
   "source": [
    "def converte (bytes):\n",
    "    mb = (bytes / 1024) / 1024\n",
    "    return mb"
   ]
  },
  {
   "cell_type": "code",
   "execution_count": null,
   "metadata": {},
   "outputs": [],
   "source": [
    "# Função que retorna a percentagem do uso de dados"
   ]
  },
  {
   "cell_type": "code",
   "execution_count": null,
   "metadata": {},
   "outputs": [],
   "source": [
    "def percentagem (bytes):\n",
    "    tamanho_total = 0\n",
    "    # Laço que faz a varredura de todos os bytes somando-os a uma variável chamada tamanho_total\n",
    "    for espaco in range(len(arquivo)):\n",
    "        dados = arquivo[espaco][15:]\n",
    "        tamanho_total += int(dados)\n",
    "    \n",
    "    # Cálculo da percentagem\n",
    "    return (100 * bytes) / tamanho_total"
   ]
  },
  {
   "cell_type": "code",
   "execution_count": null,
   "metadata": {},
   "outputs": [],
   "source": [
    "# Abertura do arquivo usuarios.txt que contém os dados que serão utilizados"
   ]
  },
  {
   "cell_type": "code",
   "execution_count": null,
   "metadata": {},
   "outputs": [],
   "source": [
    "with open ('usuarios.txt', 'r') as arq:\n",
    "    # A funça readlines() lê o arquivo e separa em uma lista com cada linha do arquivo sendo uma string\n",
    "    arquivo = arq.readlines()"
   ]
  },
  {
   "cell_type": "code",
   "execution_count": null,
   "metadata": {},
   "outputs": [],
   "source": [
    "# Apresentação dos dados"
   ]
  },
  {
   "cell_type": "code",
   "execution_count": null,
   "metadata": {},
   "outputs": [],
   "source": [
    "print('ACME Inc.               Uso do espaço em disco pelos usuários')\n",
    "print('-' * 64)\n",
    "print(f\"{'Nr.':4} {'Usuário':15} {'Espaço Utilizado':20} {'Porcentagem':20}\")\n",
    "\n",
    "for pessoa in range(len(arquivo)):\n",
    "    # Slicing da string para que retorne apenas o nome\n",
    "    nome = arquivo[pessoa][:15].capitalize()\n",
    "    # Slicing da string para que retorne apenas o uso de dados\n",
    "    dados = arquivo[pessoa][15:]\n",
    "    \n",
    "    # Ao chamar as funções é necessário transformar a string em int, isso é feito por meio da função int()\n",
    "    print(f'{pessoa+1:<4} {nome:15} {converte(int(dados)):>10.2f} MB {percentagem(int(dados)):>15.2f}%')"
   ]
  }
 ],
 "metadata": {
  "kernelspec": {
   "display_name": "Python 3",
   "language": "python",
   "name": "python3"
  },
  "language_info": {
   "codemirror_mode": {
    "name": "ipython",
    "version": 3
   },
   "file_extension": ".py",
   "mimetype": "text/x-python",
   "name": "python",
   "nbconvert_exporter": "python",
   "pygments_lexer": "ipython3",
   "version": "3.6.5"
  }
 },
 "nbformat": 4,
 "nbformat_minor": 2
}
