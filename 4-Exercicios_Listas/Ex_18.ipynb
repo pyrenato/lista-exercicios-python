{
 "cells": [
  {
   "cell_type": "code",
   "execution_count": null,
   "metadata": {},
   "outputs": [],
   "source": [
    "lista_votos = []"
   ]
  },
  {
   "cell_type": "code",
   "execution_count": null,
   "metadata": {},
   "outputs": [],
   "source": [
    "# Criação de um dicionário"
   ]
  },
  {
   "cell_type": "code",
   "execution_count": null,
   "metadata": {},
   "outputs": [],
   "source": [
    "qtd_votos = {}"
   ]
  },
  {
   "cell_type": "code",
   "execution_count": null,
   "metadata": {},
   "outputs": [],
   "source": [
    "melhor_jogador = 0"
   ]
  },
  {
   "cell_type": "code",
   "execution_count": null,
   "metadata": {},
   "outputs": [],
   "source": [
    "mais_votos = 0"
   ]
  },
  {
   "cell_type": "code",
   "execution_count": null,
   "metadata": {},
   "outputs": [],
   "source": [
    "maior_percentual = 0"
   ]
  },
  {
   "cell_type": "code",
   "execution_count": null,
   "metadata": {},
   "outputs": [],
   "source": [
    "# Laço de repetição para inserção dos dados"
   ]
  },
  {
   "cell_type": "code",
   "execution_count": null,
   "metadata": {},
   "outputs": [],
   "source": [
    "while True:\n",
    "    voto = int(input('Número do jogador (0 para encerrar): '))\n",
    "    if voto == 0:\n",
    "        break\n",
    "    elif voto < 0 or voto > 23:\n",
    "        print('Jogador inválido! Digite de 1 a 23.')\n",
    "    else:\n",
    "        lista_votos.append(voto)"
   ]
  },
  {
   "cell_type": "code",
   "execution_count": null,
   "metadata": {},
   "outputs": [],
   "source": [
    "# Laço para contabilizar os votos e adicioná-los ao dicionário"
   ]
  },
  {
   "cell_type": "code",
   "execution_count": null,
   "metadata": {},
   "outputs": [],
   "source": [
    "for num in range(24):\n",
    "    contador = lista_votos.count(num)\n",
    "    if contador == 0:\n",
    "        pass\n",
    "    else:\n",
    "        qtd_votos[num] = contador"
   ]
  },
  {
   "cell_type": "code",
   "execution_count": null,
   "metadata": {},
   "outputs": [],
   "source": [
    "# Apresentação dos dados"
   ]
  },
  {
   "cell_type": "code",
   "execution_count": null,
   "metadata": {},
   "outputs": [],
   "source": [
    "print(f\"Jogador {'Votos':>8} Percentual\")\n",
    "for chave, valor in qtd_votos.items():\n",
    "    \n",
    "    # Cálculo do percentual\n",
    "    percentual = (100 * valor) / len(lista_votos)\n",
    "    \n",
    "    # Verificação do melhor jogador, com mais votos e maior percentual\n",
    "    if valor > mais_votos:\n",
    "        melhor_jogador = chave\n",
    "        mais_votos = valor\n",
    "        maior_percentual = percentual\n",
    "    \n",
    "    # Apresentação da tabela com os valores\n",
    "    print(f'{chave:4} {valor:>9} {percentual:>10.1f}%')\n",
    "print(f'O melhor jogador foi o número {melhor_jogador}, com {mais_votos} votos, correspondendo a {maior_percentual}% do total de votos')"
   ]
  }
 ],
 "metadata": {
  "kernelspec": {
   "display_name": "Python 3",
   "language": "python",
   "name": "python3"
  },
  "language_info": {
   "codemirror_mode": {
    "name": "ipython",
    "version": 3
   },
   "file_extension": ".py",
   "mimetype": "text/x-python",
   "name": "python",
   "nbconvert_exporter": "python",
   "pygments_lexer": "ipython3",
   "version": "3.6.5"
  }
 },
 "nbformat": 4,
 "nbformat_minor": 2
}
