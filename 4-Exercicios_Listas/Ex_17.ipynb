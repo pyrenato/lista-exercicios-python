{
 "cells": [
  {
   "cell_type": "code",
   "execution_count": null,
   "metadata": {},
   "outputs": [],
   "source": [
    "while True:\n",
    "    nome = input('Digite o nome do atleta: ')\n",
    "    if nome == '':\n",
    "        break\n",
    "    else:\n",
    "        # A cada execução do laço a lista é zerada\n",
    "        lista_saltos = []\n",
    "        \n",
    "        # Laço de captação dos dados\n",
    "        for slt in range(5):\n",
    "            salto = float(input(f'{slt+1}º salto: '))\n",
    "            lista_saltos.append(salto)\n",
    "        \n",
    "        # Cálculo da média\n",
    "        media = sum(lista_saltos) / len(lista_saltos)\n",
    "        \n",
    "        # Ordenação dos dados da lista em ordem decrescente\n",
    "        lista_saltos.sort(reverse=True)\n",
    "        \n",
    "    # Apresentação dos dados\n",
    "    print(f'''\\nResultado Final:\n",
    "Atleta: {nome}\n",
    "Saltos: ''', end = '')\n",
    "    \n",
    "    for slt in range(5):\n",
    "        if slt == len(lista_saltos)-1:\n",
    "            print(f'{lista_saltos[slt]}')\n",
    "        else:\n",
    "            print(f'{lista_saltos[slt]} - ', end = '')\n",
    "    print(f'Média dos saltos: {media:.2f}')"
   ]
  }
 ],
 "metadata": {
  "kernelspec": {
   "display_name": "Python 3",
   "language": "python",
   "name": "python3"
  },
  "language_info": {
   "codemirror_mode": {
    "name": "ipython",
    "version": 3
   },
   "file_extension": ".py",
   "mimetype": "text/x-python",
   "name": "python",
   "nbconvert_exporter": "python",
   "pygments_lexer": "ipython3",
   "version": "3.6.5"
  }
 },
 "nbformat": 4,
 "nbformat_minor": 2
}
