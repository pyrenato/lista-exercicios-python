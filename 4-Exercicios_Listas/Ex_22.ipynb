{
 "cells": [
  {
   "cell_type": "code",
   "execution_count": null,
   "metadata": {},
   "outputs": [],
   "source": [
    "lista_defeitos = []"
   ]
  },
  {
   "cell_type": "code",
   "execution_count": null,
   "metadata": {},
   "outputs": [],
   "source": [
    "defeitos = ['1- necessita da esfera', '2- necessita de limpeza ', '3- necessita troca do cabo ou conector', '4- quebrado ou inutilizado']"
   ]
  },
  {
   "cell_type": "code",
   "execution_count": null,
   "metadata": {},
   "outputs": [],
   "source": [
    "# Impressão dos códigos dos defeitos"
   ]
  },
  {
   "cell_type": "code",
   "execution_count": null,
   "metadata": {},
   "outputs": [],
   "source": [
    "print('Situação')\n",
    "for defeito in defeitos:\n",
    "    print(defeito)"
   ]
  },
  {
   "cell_type": "code",
   "execution_count": null,
   "metadata": {},
   "outputs": [],
   "source": [
    "# Loop de inserção dos dados"
   ]
  },
  {
   "cell_type": "code",
   "execution_count": null,
   "metadata": {},
   "outputs": [],
   "source": [
    "while True:\n",
    "    codigo = int(input('Digite o código do defeito (0 para sair): '))\n",
    "    if codigo == 0:\n",
    "        break\n",
    "    elif codigo < 0 or codigo > 4:\n",
    "        print('Código inválido!')\n",
    "    else:\n",
    "        lista_defeitos.append(codigo)"
   ]
  },
  {
   "cell_type": "code",
   "execution_count": null,
   "metadata": {},
   "outputs": [],
   "source": [
    "# Apresentação dos dados"
   ]
  },
  {
   "cell_type": "code",
   "execution_count": null,
   "metadata": {},
   "outputs": [],
   "source": [
    "print(f'Quantidade de mouses: {len(lista_defeitos)}')\n",
    "\n",
    "print(f\"\\n{'Situação':40} {'Quantidade':20} {'Percentual':20}\")\n",
    "for defeito in range(4):\n",
    "    # Cálculo do percentual\n",
    "    percentual = (100 * lista_defeitos.count(defeito+1)) / len(lista_defeitos)\n",
    "    print(f'{defeitos[defeito]:44} {lista_defeitos.count(defeito+1):<18} {percentual:.1f}%')"
   ]
  }
 ],
 "metadata": {
  "kernelspec": {
   "display_name": "Python 3",
   "language": "python",
   "name": "python3"
  },
  "language_info": {
   "codemirror_mode": {
    "name": "ipython",
    "version": 3
   },
   "file_extension": ".py",
   "mimetype": "text/x-python",
   "name": "python",
   "nbconvert_exporter": "python",
   "pygments_lexer": "ipython3",
   "version": "3.6.5"
  }
 },
 "nbformat": 4,
 "nbformat_minor": 2
}
