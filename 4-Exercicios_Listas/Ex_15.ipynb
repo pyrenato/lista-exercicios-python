{
 "cells": [
  {
   "cell_type": "code",
   "execution_count": 2,
   "metadata": {},
   "outputs": [],
   "source": [
    "lista_notas = []"
   ]
  },
  {
   "cell_type": "code",
   "execution_count": 14,
   "metadata": {},
   "outputs": [],
   "source": [
    "acima_media = 0"
   ]
  },
  {
   "cell_type": "code",
   "execution_count": 15,
   "metadata": {},
   "outputs": [],
   "source": [
    "contador = 0"
   ]
  },
  {
   "cell_type": "code",
   "execution_count": null,
   "metadata": {},
   "outputs": [],
   "source": [
    "# Loop de inserção de dados"
   ]
  },
  {
   "cell_type": "code",
   "execution_count": 3,
   "metadata": {},
   "outputs": [],
   "source": [
    "while True:\n",
    "    nota = float(input('Digite uma nota (-1 para sair): '))\n",
    "    if nota == -1:\n",
    "        break\n",
    "    else:\n",
    "        lista_notas.append(nota)"
   ]
  },
  {
   "cell_type": "code",
   "execution_count": null,
   "metadata": {},
   "outputs": [],
   "source": [
    "# Cálculo da média"
   ]
  },
  {
   "cell_type": "code",
   "execution_count": 10,
   "metadata": {},
   "outputs": [],
   "source": [
    "media = sum(lista_notas) / len(lista_notas)"
   ]
  },
  {
   "cell_type": "code",
   "execution_count": null,
   "metadata": {},
   "outputs": [],
   "source": [
    "# Apresentação dos dados"
   ]
  },
  {
   "cell_type": "code",
   "execution_count": 16,
   "metadata": {},
   "outputs": [
    {
     "name": "stdout",
     "output_type": "stream",
     "text": [
      "Quantidade de valores lidos: 9\n",
      "Valores informados: 1.0 2.0 3.0 5.0 9.0 78.0 1.0 5.0 6.0 \n",
      "Valores informados na ordem inversa: 6.0 5.0 1.0 78.0 9.0 5.0 3.0 2.0 1.0 \n",
      "Soma dos valores: 110.0\n",
      "Média dos valores: 12.22\n",
      "Quantidade de valores acima da média: 1\n",
      "Quantidade de valores abaixo de 7: 7\n",
      "Obrigado por usar o programa\n"
     ]
    }
   ],
   "source": [
    "print(f'''Quantidade de valores lidos: {len(lista_notas)}\n",
    "Valores informados: ''', end='')\n",
    "\n",
    "for nota in lista_notas:\n",
    "    print(nota, end=' ')\n",
    "print('\\nValores informados na ordem inversa: ', end='')\n",
    "\n",
    "for nota in range(len(lista_notas) - 1, -1, -1):\n",
    "    print(lista_notas[nota], end=' ')\n",
    "print(f'''\\nSoma dos valores: {sum(lista_notas)}\n",
    "Média dos valores: {media:.2f}\n",
    "Quantidade de valores acima da média: ''', end='')\n",
    "\n",
    "for nota in lista_notas:\n",
    "    if nota > media:\n",
    "        acima_media += 1\n",
    "    elif nota < 7:\n",
    "        contador += 1\n",
    "print(f'''{acima_media}\n",
    "Quantidade de valores abaixo de 7: {contador}\n",
    "Obrigado por usar o programa''')"
   ]
  },
  {
   "cell_type": "code",
   "execution_count": null,
   "metadata": {},
   "outputs": [],
   "source": []
  }
 ],
 "metadata": {
  "kernelspec": {
   "display_name": "Python 3",
   "language": "python",
   "name": "python3"
  },
  "language_info": {
   "codemirror_mode": {
    "name": "ipython",
    "version": 3
   },
   "file_extension": ".py",
   "mimetype": "text/x-python",
   "name": "python",
   "nbconvert_exporter": "python",
   "pygments_lexer": "ipython3",
   "version": "3.6.5"
  }
 },
 "nbformat": 4,
 "nbformat_minor": 2
}
