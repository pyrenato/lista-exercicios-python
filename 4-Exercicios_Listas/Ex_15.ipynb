{
 "cells": [
  {
   "cell_type": "code",
   "execution_count": null,
   "metadata": {},
   "outputs": [],
   "source": [
    "lista_notas = []"
   ]
  },
  {
   "cell_type": "code",
   "execution_count": null,
   "metadata": {},
   "outputs": [],
   "source": [
    "acima_media = 0"
   ]
  },
  {
   "cell_type": "code",
   "execution_count": null,
   "metadata": {},
   "outputs": [],
   "source": [
    "contador = 0"
   ]
  },
  {
   "cell_type": "code",
   "execution_count": null,
   "metadata": {},
   "outputs": [],
   "source": [
    "# Loop de inserção de dados"
   ]
  },
  {
   "cell_type": "code",
   "execution_count": null,
   "metadata": {},
   "outputs": [],
   "source": [
    "while True:\n",
    "    nota = float(input('Digite uma nota (-1 para sair): '))\n",
    "    if nota == -1:\n",
    "        break\n",
    "    else:\n",
    "        lista_notas.append(nota)"
   ]
  },
  {
   "cell_type": "code",
   "execution_count": null,
   "metadata": {},
   "outputs": [],
   "source": [
    "# Cálculo da média"
   ]
  },
  {
   "cell_type": "code",
   "execution_count": null,
   "metadata": {},
   "outputs": [],
   "source": [
    "media = sum(lista_notas) / len(lista_notas)"
   ]
  },
  {
   "cell_type": "code",
   "execution_count": null,
   "metadata": {},
   "outputs": [],
   "source": [
    "# Apresentação dos dados"
   ]
  },
  {
   "cell_type": "code",
   "execution_count": null,
   "metadata": {},
   "outputs": [],
   "source": [
    "print(f'''Quantidade de valores lidos: {len(lista_notas)}\n",
    "Valores informados: ''', end='')\n",
    "for nota in lista_notas:\n",
    "    print(nota, end=' ')\n",
    "\n",
    "print('\\nValores informados na ordem inversa: ', end='')\n",
    "\n",
    "# Laço para apresntação dos dados na ordem inversa\n",
    "for nota in range(len(lista_notas) - 1, -1, -1):\n",
    "    print(lista_notas[nota], end=' ')\n",
    "\n",
    "print(f'''\\nSoma dos valores: {sum(lista_notas)}\n",
    "Média dos valores: {media:.2f}\n",
    "Quantidade de valores acima da média: ''', end='')\n",
    "\n",
    "# Validação das notas acima da média, bem como a quantidade de valores abaixo de 7\n",
    "for nota in lista_notas:\n",
    "    if nota > media:\n",
    "        acima_media += 1\n",
    "    elif nota < 7:\n",
    "        contador += 1\n",
    "print(f'''{acima_media}\n",
    "Quantidade de valores abaixo de 7: {contador}\n",
    "Obrigado por usar o programa''')"
   ]
  }
 ],
 "metadata": {
  "kernelspec": {
   "display_name": "Python 3",
   "language": "python",
   "name": "python3"
  },
  "language_info": {
   "codemirror_mode": {
    "name": "ipython",
    "version": 3
   },
   "file_extension": ".py",
   "mimetype": "text/x-python",
   "name": "python",
   "nbconvert_exporter": "python",
   "pygments_lexer": "ipython3",
   "version": "3.6.5"
  }
 },
 "nbformat": 4,
 "nbformat_minor": 2
}
