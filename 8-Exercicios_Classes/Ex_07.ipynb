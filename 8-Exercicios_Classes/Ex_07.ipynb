{
 "cells": [
  {
   "cell_type": "code",
   "execution_count": null,
   "metadata": {},
   "outputs": [],
   "source": [
    "class Bichinho:\n",
    "    # Inicialização dos atributos da classe\n",
    "    def __init__(self, nome, fome, saude, idade):\n",
    "        self.set_nome(nome)\n",
    "        self.set_fome(fome)\n",
    "        self.set_saude(saude)\n",
    "        self.set_idade(idade)\n",
    "    \n",
    "    # Métodos para definir os atributos\n",
    "    def set_nome(self, nome):\n",
    "        self.nome = nome\n",
    "        \n",
    "    def set_fome(self, fome):\n",
    "        self.fome = fome\n",
    "        \n",
    "    def set_saude(self, saude):\n",
    "        self.saude = saude\n",
    "        \n",
    "    def set_idade(self, idade):\n",
    "        self.idade = idade\n",
    "        \n",
    "    # Métodos para retornar os valores dos atributos\n",
    "    def get_nome(self):\n",
    "        return self.nome\n",
    "    \n",
    "    def get_fome(self):\n",
    "        return self.fome\n",
    "    \n",
    "    def get_saude(self):\n",
    "        return self.saude\n",
    "    \n",
    "    def get_idade(self):\n",
    "        return self.idade\n",
    "    \n",
    "    # Método para calcular o humor do bichinho\n",
    "    def humor(self):\n",
    "        humor = self.get_fome() * self.get_saude()\n",
    "        return humor"
   ]
  },
  {
   "cell_type": "code",
   "execution_count": null,
   "metadata": {},
   "outputs": [],
   "source": [
    "# Criação do Objeto"
   ]
  },
  {
   "cell_type": "code",
   "execution_count": null,
   "metadata": {},
   "outputs": [],
   "source": [
    "bolinha = Bichinho('Bolinha', 2, 2, 3)"
   ]
  },
  {
   "cell_type": "code",
   "execution_count": null,
   "metadata": {},
   "outputs": [],
   "source": [
    "bolinha.nome, bolinha.fome, bolinha.saude, bolinha.idade"
   ]
  },
  {
   "cell_type": "code",
   "execution_count": null,
   "metadata": {},
   "outputs": [],
   "source": [
    "# Teste dos métodos"
   ]
  },
  {
   "cell_type": "code",
   "execution_count": null,
   "metadata": {},
   "outputs": [],
   "source": [
    "bolinha.set_fome(4)"
   ]
  },
  {
   "cell_type": "code",
   "execution_count": null,
   "metadata": {},
   "outputs": [],
   "source": [
    "bolinha.set_saude(3)"
   ]
  },
  {
   "cell_type": "code",
   "execution_count": null,
   "metadata": {},
   "outputs": [],
   "source": [
    "bolinha.humor()"
   ]
  }
 ],
 "metadata": {
  "kernelspec": {
   "display_name": "Python 3",
   "language": "python",
   "name": "python3"
  },
  "language_info": {
   "codemirror_mode": {
    "name": "ipython",
    "version": 3
   },
   "file_extension": ".py",
   "mimetype": "text/x-python",
   "name": "python",
   "nbconvert_exporter": "python",
   "pygments_lexer": "ipython3",
   "version": "3.6.5"
  }
 },
 "nbformat": 4,
 "nbformat_minor": 2
}
