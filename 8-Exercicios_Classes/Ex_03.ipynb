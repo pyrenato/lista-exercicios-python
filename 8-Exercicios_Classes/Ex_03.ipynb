{
 "cells": [
  {
   "cell_type": "code",
   "execution_count": null,
   "metadata": {},
   "outputs": [],
   "source": [
    "class Retangulo:\n",
    "    # Inicialização dos atributos da classe\n",
    "    def __init__(self, base, altura):\n",
    "        self.set_base(base)\n",
    "        self.set_altura(altura)\n",
    "    \n",
    "    # Função para alterar o valor da base\n",
    "    def set_base(self, base):\n",
    "        self.base = base\n",
    "        \n",
    "    # Função para alterar o valor da altura\n",
    "    def set_altura(self, altura):\n",
    "        self.altura = altura\n",
    "        \n",
    "    # Função para retornar o valor da base\n",
    "    def get_base(self):\n",
    "        return self.base\n",
    "\n",
    "    # Função para retornar o valor da altura\n",
    "    def get_altura(self):\n",
    "        return self.altura\n",
    "    \n",
    "    # Função para calcular a área\n",
    "    def calcula_area(self):\n",
    "        return self.base * self.altura\n",
    "    \n",
    "    # Função para calcular o perímetro\n",
    "    def  calcula_perimetro(self):\n",
    "        return 2 * (self.base + self.altura)"
   ]
  },
  {
   "cell_type": "code",
   "execution_count": null,
   "metadata": {},
   "outputs": [],
   "source": [
    "# Captação dos dados"
   ]
  },
  {
   "cell_type": "code",
   "execution_count": null,
   "metadata": {},
   "outputs": [],
   "source": [
    "base = float(input('Digite o valor da base em m²: '))"
   ]
  },
  {
   "cell_type": "code",
   "execution_count": null,
   "metadata": {},
   "outputs": [],
   "source": [
    "altura = float(input('Digite o valor da altura em m²: '))"
   ]
  },
  {
   "cell_type": "code",
   "execution_count": null,
   "metadata": {},
   "outputs": [],
   "source": [
    "# Criação do objeto"
   ]
  },
  {
   "cell_type": "code",
   "execution_count": null,
   "metadata": {},
   "outputs": [],
   "source": [
    "ret = Retangulo(base, altura)"
   ]
  },
  {
   "cell_type": "code",
   "execution_count": null,
   "metadata": {},
   "outputs": [],
   "source": [
    "# Apresentação dos dados"
   ]
  },
  {
   "cell_type": "code",
   "execution_count": null,
   "metadata": {},
   "outputs": [],
   "source": [
    "print(f'''\n",
    "Serão necessários {ret.calcula_area()} m² de piso para preencher toda a área.\n",
    "Serão necessários {ret.calcula_perimetro()} m² de rodapés.''')"
   ]
  }
 ],
 "metadata": {
  "kernelspec": {
   "display_name": "Python 3",
   "language": "python",
   "name": "python3"
  },
  "language_info": {
   "codemirror_mode": {
    "name": "ipython",
    "version": 3
   },
   "file_extension": ".py",
   "mimetype": "text/x-python",
   "name": "python",
   "nbconvert_exporter": "python",
   "pygments_lexer": "ipython3",
   "version": "3.6.5"
  }
 },
 "nbformat": 4,
 "nbformat_minor": 2
}
