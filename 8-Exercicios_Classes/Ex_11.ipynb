{
 "cells": [
  {
   "cell_type": "code",
   "execution_count": null,
   "metadata": {},
   "outputs": [],
   "source": [
    "# Criação da classe"
   ]
  },
  {
   "cell_type": "code",
   "execution_count": null,
   "metadata": {},
   "outputs": [],
   "source": [
    "class Carro:\n",
    "    # Inicialização dos atributos\n",
    "    def __init__(self, consumo = 0, tanque = 0):\n",
    "        self.consumo = consumo\n",
    "        self.tanque = tanque\n",
    "        \n",
    "    def abastecer(self, litros):\n",
    "        self.tanque += litros\n",
    "        \n",
    "    def andar(self, km):\n",
    "        autonomia = self.consumo * self.tanque\n",
    "        autonomia -= km\n",
    "        \n",
    "        # Verificação para o tanque não ficar negativo\n",
    "        if autonomia < 0:\n",
    "            autonomia = 0\n",
    "            \n",
    "        self.tanque -= (autonomia / self.consumo)\n",
    "       \n",
    "    def obter_gasolina(self):\n",
    "        print(f'Tanque: {self.tanque:.2f} litros')"
   ]
  },
  {
   "cell_type": "code",
   "execution_count": null,
   "metadata": {},
   "outputs": [],
   "source": [
    "# Criação do objeto e chamada dos métodos"
   ]
  },
  {
   "cell_type": "code",
   "execution_count": null,
   "metadata": {},
   "outputs": [],
   "source": [
    "fusca = Carro(15)"
   ]
  },
  {
   "cell_type": "code",
   "execution_count": null,
   "metadata": {},
   "outputs": [],
   "source": [
    "fusca.abastecer(20)"
   ]
  },
  {
   "cell_type": "code",
   "execution_count": null,
   "metadata": {},
   "outputs": [],
   "source": [
    "fusca.andar(100)"
   ]
  },
  {
   "cell_type": "code",
   "execution_count": null,
   "metadata": {},
   "outputs": [],
   "source": [
    "fusca.obter_gasolina()"
   ]
  }
 ],
 "metadata": {
  "kernelspec": {
   "display_name": "Python 3",
   "language": "python",
   "name": "python3"
  },
  "language_info": {
   "codemirror_mode": {
    "name": "ipython",
    "version": 3
   },
   "file_extension": ".py",
   "mimetype": "text/x-python",
   "name": "python",
   "nbconvert_exporter": "python",
   "pygments_lexer": "ipython3",
   "version": "3.6.5"
  }
 },
 "nbformat": 4,
 "nbformat_minor": 2
}
