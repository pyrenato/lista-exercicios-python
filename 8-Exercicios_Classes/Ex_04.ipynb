{
 "cells": [
  {
   "cell_type": "code",
   "execution_count": null,
   "metadata": {},
   "outputs": [],
   "source": [
    "class Pessoa:\n",
    "    # Inicialização dos atributos da classe\n",
    "    def __init__(self, nome, idade, peso, altura):\n",
    "        self.nome = nome\n",
    "        self.idade = idade\n",
    "        self.peso = peso\n",
    "        self.altura = altura\n",
    "    \n",
    "    # Método para envelhecer a pessoa da classe\n",
    "    def envelhecer(self, anos):\n",
    "        self.idade += anos\n",
    "        self.crescer(anos)\n",
    "        return self.idade\n",
    "    \n",
    "    # Método para engordar a pessoa da classe\n",
    "    def engordar(self, peso):\n",
    "        self.peso += peso\n",
    "        return self.peso\n",
    "    \n",
    "    # Método para emagrecer a pessoa da classe\n",
    "    def emagrecer(self, peso):\n",
    "        self.peso -= peso\n",
    "        return self.peso\n",
    "    \n",
    "    # Método para crescer\n",
    "    def crescer(self, anos):\n",
    "        if self.idade <= 21:\n",
    "            crescimento = 0.05\n",
    "        else:\n",
    "            crescimento = 0\n",
    "            \n",
    "        self.altura += anos * crescimento\n",
    "    "
   ]
  },
  {
   "cell_type": "code",
   "execution_count": null,
   "metadata": {},
   "outputs": [],
   "source": [
    "joao = Pessoa('João', 15, 63.5, 1.75)"
   ]
  },
  {
   "cell_type": "code",
   "execution_count": null,
   "metadata": {},
   "outputs": [],
   "source": [
    "joao.altura"
   ]
  },
  {
   "cell_type": "code",
   "execution_count": null,
   "metadata": {},
   "outputs": [],
   "source": [
    "joao.envelhecer(15)"
   ]
  }
 ],
 "metadata": {
  "kernelspec": {
   "display_name": "Python 3",
   "language": "python",
   "name": "python3"
  },
  "language_info": {
   "codemirror_mode": {
    "name": "ipython",
    "version": 3
   },
   "file_extension": ".py",
   "mimetype": "text/x-python",
   "name": "python",
   "nbconvert_exporter": "python",
   "pygments_lexer": "ipython3",
   "version": "3.6.5"
  }
 },
 "nbformat": 4,
 "nbformat_minor": 2
}
