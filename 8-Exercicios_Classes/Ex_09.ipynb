{
 "cells": [
  {
   "cell_type": "code",
   "execution_count": null,
   "metadata": {},
   "outputs": [],
   "source": [
    "class Ponto:\n",
    "    # Inicialização dos atributos do objeto Ponto\n",
    "    def __init__(self, x = 0, y = 0):\n",
    "        self.x = x\n",
    "        self.y = y\n",
    "    \n",
    "    # Método que imprime os valores do ponto\n",
    "    def imprime_valores(self):\n",
    "        print(f'X: {self.x}\\nY: {self.y}')"
   ]
  },
  {
   "cell_type": "code",
   "execution_count": null,
   "metadata": {},
   "outputs": [],
   "source": [
    "class Retangulo:\n",
    "    # Os atibutos têm uma inicialização pré definida para não surgir problema mais a frente no código\n",
    "    def __init__(self, largura = 0, altura = 0, vertice = Ponto()):\n",
    "        self.largura = largura\n",
    "        self.altura = altura\n",
    "        self.vertice = vertice\n",
    "        \n",
    "    # Método que retorna o ponto central do retângulo já instanciando um objeto Ponto\n",
    "    def get_centro(self):\n",
    "        x = (self.vertice.x + self.largura) / 2\n",
    "        y = (self.vertice.y + self.altura) / 2\n",
    "        return Ponto(x, y)"
   ]
  },
  {
   "cell_type": "code",
   "execution_count": null,
   "metadata": {},
   "outputs": [],
   "source": [
    "# Menu\n",
    "while True:\n",
    "    print('''\n",
    "1 - Definir a altura e largura do retângulo\n",
    "2 - Imprimir os valores do ponto central\n",
    "3 - Sair do programa''')\n",
    "    opcao = int(input('Digite um opção: '))\n",
    "    \n",
    "    if opcao == 1:\n",
    "        largura = float(input('Digite a largura do retângulo: '))\n",
    "        altura = float(input('Digite a altura do retângulo: '))\n",
    "        # Criação do objeto \n",
    "        ret = Retangulo(largura, altura)\n",
    "        \n",
    "    elif opcao == 2:\n",
    "        # Validação que verifica se o objeto já existe\n",
    "        try:\n",
    "            ponto_central = ret.get_centro()\n",
    "            ponto_central.imprime_valores()\n",
    "            \n",
    "        # Caso não exista é criado um com os valores padrões especificados na classe\n",
    "        except NameError:\n",
    "            ret = Retangulo()\n",
    "            ponto_central = ret.get_centro()\n",
    "            ponto_central.imprime_valores()\n",
    "    \n",
    "    # Finaliza o programa \n",
    "    elif opcao == 3:\n",
    "        break\n",
    "    \n",
    "    else:\n",
    "        print('Opção inválida!')"
   ]
  }
 ],
 "metadata": {
  "kernelspec": {
   "display_name": "Python 3",
   "language": "python",
   "name": "python3"
  },
  "language_info": {
   "codemirror_mode": {
    "name": "ipython",
    "version": 3
   },
   "file_extension": ".py",
   "mimetype": "text/x-python",
   "name": "python",
   "nbconvert_exporter": "python",
   "pygments_lexer": "ipython3",
   "version": "3.6.5"
  }
 },
 "nbformat": 4,
 "nbformat_minor": 2
}
