{
 "cells": [
  {
   "cell_type": "code",
   "execution_count": null,
   "metadata": {},
   "outputs": [],
   "source": [
    "# Criação da classe"
   ]
  },
  {
   "cell_type": "code",
   "execution_count": null,
   "metadata": {},
   "outputs": [],
   "source": [
    "class Bola:\n",
    "    # Iniciação dos atributos da classe\n",
    "    def __init__(self, cor, circunferencia, material):\n",
    "        self.cor = cor\n",
    "        self.circunferencia = circunferencia\n",
    "        self.material = material\n",
    "        \n",
    "    # Função para trocar a cor\n",
    "    def troca_cor(self, cor):\n",
    "        self.cor = cor\n",
    "    \n",
    "    # Função para mostrar a cor\n",
    "    def mostra_cor(self):\n",
    "        print(f'Cor: {self.cor}')"
   ]
  },
  {
   "cell_type": "code",
   "execution_count": null,
   "metadata": {},
   "outputs": [],
   "source": [
    "b = Bola('azul', 3, 'plástico')"
   ]
  },
  {
   "cell_type": "code",
   "execution_count": null,
   "metadata": {},
   "outputs": [],
   "source": [
    "b.troca_cor('lilás')"
   ]
  },
  {
   "cell_type": "code",
   "execution_count": null,
   "metadata": {},
   "outputs": [],
   "source": [
    "b.mostra_cor()"
   ]
  }
 ],
 "metadata": {
  "kernelspec": {
   "display_name": "Python 3",
   "language": "python",
   "name": "python3"
  },
  "language_info": {
   "codemirror_mode": {
    "name": "ipython",
    "version": 3
   },
   "file_extension": ".py",
   "mimetype": "text/x-python",
   "name": "python",
   "nbconvert_exporter": "python",
   "pygments_lexer": "ipython3",
   "version": "3.6.5"
  }
 },
 "nbformat": 4,
 "nbformat_minor": 2
}
