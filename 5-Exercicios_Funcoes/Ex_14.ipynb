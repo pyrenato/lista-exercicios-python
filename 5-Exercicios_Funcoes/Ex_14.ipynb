{
 "cells": [
  {
   "cell_type": "code",
   "execution_count": null,
   "metadata": {},
   "outputs": [],
   "source": [
    "# Função que gera todas as combinações possíveis dos números somados que são iguais a 15"
   ]
  },
  {
   "cell_type": "code",
   "execution_count": null,
   "metadata": {},
   "outputs": [],
   "source": [
    "def gera_combinacoes(lista, num): \n",
    "    # Para cada linha na lista irá ser verificado a coluna e o número\n",
    "    for lin in lista:\n",
    "        for col in lista:            \n",
    "            if num + lin + col == 15 and (num != lin and num != col and lin != col):\n",
    "                # Caso a soma das 3 variáveis dê 15 e nenhuma seja igual à outra, serão adiconados na lista combinacoes\n",
    "                combinacoes.append((num, lin, col))"
   ]
  },
  {
   "cell_type": "code",
   "execution_count": null,
   "metadata": {},
   "outputs": [],
   "source": [
    "# Função que imprime as matrizes do quadrado mágico"
   ]
  },
  {
   "cell_type": "code",
   "execution_count": null,
   "metadata": {},
   "outputs": [],
   "source": [
    "def quadrado_magico(combinacoes, linha):\n",
    "    linha1 = linha\n",
    "    # Para cada linha na lista de combinações será verificado se a soma dos três números é igual a 15\n",
    "    for lin in range(len(combinacoes)):\n",
    "        linha2 = combinacoes[lin]\n",
    "        for col in range(len(combinacoes)):\n",
    "            linha3 = combinacoes[col]\n",
    "            # Verificação se a soma das colunas e das diagonais (principal e secundária) resulta em 15\n",
    "            if (linha1[0] + linha2[0] + linha3[0] == 15) and\\\n",
    "            (linha1[1] + linha2[1] + linha3[1] == 15) and\\\n",
    "            (linha1[2] + linha2[2] + linha3[2] == 15) and\\\n",
    "            (linha1[0] + linha2[1] + linha3[2] == 15) and\\\n",
    "            (linha1[2] + linha2[1] + linha3[0] == 15):\n",
    "\n",
    "                  if (linha1[0] not in linha2) and\\\n",
    "                      (linha1[1] not in linha2) and\\\n",
    "                      (linha1[2] not in linha2):\n",
    "                    \n",
    "                    # Apresentação dos dados\n",
    "                    print(linha1)\n",
    "                    print(linha2)\n",
    "                    print(linha3)\n",
    "                    print()"
   ]
  },
  {
   "cell_type": "code",
   "execution_count": null,
   "metadata": {},
   "outputs": [],
   "source": [
    "lista = [1, 2, 3, 4, 5, 6, 7, 8, 9]"
   ]
  },
  {
   "cell_type": "code",
   "execution_count": null,
   "metadata": {},
   "outputs": [],
   "source": [
    "combinacoes = []"
   ]
  },
  {
   "cell_type": "code",
   "execution_count": null,
   "metadata": {},
   "outputs": [],
   "source": [
    "# Laço que irá inserir os números de 1 a 9"
   ]
  },
  {
   "cell_type": "code",
   "execution_count": null,
   "metadata": {},
   "outputs": [],
   "source": [
    "for num in range(1,10):    \n",
    "    gera_combinacoes(lista, num)"
   ]
  },
  {
   "cell_type": "code",
   "execution_count": null,
   "metadata": {},
   "outputs": [],
   "source": [
    "# Laço que irá montar as matrizes 3x3 dos quadrados mágicos"
   ]
  },
  {
   "cell_type": "code",
   "execution_count": null,
   "metadata": {},
   "outputs": [],
   "source": [
    "for linha in combinacoes:\n",
    "    quadrado_magico(combinacoes, linha)"
   ]
  }
 ],
 "metadata": {
  "kernelspec": {
   "display_name": "Python 3",
   "language": "python",
   "name": "python3"
  },
  "language_info": {
   "codemirror_mode": {
    "name": "ipython",
    "version": 3
   },
   "file_extension": ".py",
   "mimetype": "text/x-python",
   "name": "python",
   "nbconvert_exporter": "python",
   "pygments_lexer": "ipython3",
   "version": "3.6.5"
  }
 },
 "nbformat": 4,
 "nbformat_minor": 2
}
