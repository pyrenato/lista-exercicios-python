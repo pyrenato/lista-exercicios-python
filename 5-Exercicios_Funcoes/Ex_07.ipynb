{
 "cells": [
  {
   "cell_type": "code",
   "execution_count": null,
   "metadata": {},
   "outputs": [],
   "source": [
    "# Declaração da função"
   ]
  },
  {
   "cell_type": "code",
   "execution_count": null,
   "metadata": {},
   "outputs": [],
   "source": [
    "def valor_pagamento(prestacao, dias_atrasados):\n",
    "    valor_total = 0\n",
    "    if dias_atrasados > 0:\n",
    "        # Cálculo da multa\n",
    "        multa = prestacao * 0.03\n",
    "        # Cálculo dos juros\n",
    "        juros = dias_atrasados * 0.1\n",
    "        # Cálculo do valor total da prestação\n",
    "        valor_total = prestacao + (prestacao + multa) * (juros / 100)\n",
    "    else:\n",
    "        valor_total = prestacao\n",
    "    return valor_total"
   ]
  },
  {
   "cell_type": "code",
   "execution_count": null,
   "metadata": {},
   "outputs": [],
   "source": [
    "# Lista das prestações"
   ]
  },
  {
   "cell_type": "code",
   "execution_count": null,
   "metadata": {},
   "outputs": [],
   "source": [
    "lista_prestacoes = []"
   ]
  },
  {
   "cell_type": "code",
   "execution_count": null,
   "metadata": {},
   "outputs": [],
   "source": [
    "# Laço para inserção dos dados"
   ]
  },
  {
   "cell_type": "code",
   "execution_count": null,
   "metadata": {},
   "outputs": [],
   "source": [
    "while True:\n",
    "    prestacao = float(input('Digite o valor da prestação: '))\n",
    "    if prestacao == 0:\n",
    "        break\n",
    "    else:\n",
    "        dias_atrasados = int(input('Digite a quantidade de dias atrasados: '))\n",
    "        # Chamada da função\n",
    "        valor_prestacao = valor_pagamento(prestacao, dias_atrasados)\n",
    "        lista_prestacoes.append(valor_prestacao)\n",
    "        print(f'Valor a ser pago R$ {valor_prestacao:.2f}')"
   ]
  },
  {
   "cell_type": "code",
   "execution_count": null,
   "metadata": {},
   "outputs": [],
   "source": [
    "# Apresentação dos dados"
   ]
  },
  {
   "cell_type": "code",
   "execution_count": null,
   "metadata": {},
   "outputs": [],
   "source": [
    "print(f'''Relatório Final:\n",
    "Quantidade de prestações pagas: {len(lista_prestacoes)}\n",
    "Valor total de prestações pagas: R$ {sum(lista_prestacoes):.2f}\n",
    "''')"
   ]
  }
 ],
 "metadata": {
  "kernelspec": {
   "display_name": "Python 3",
   "language": "python",
   "name": "python3"
  },
  "language_info": {
   "codemirror_mode": {
    "name": "ipython",
    "version": 3
   },
   "file_extension": ".py",
   "mimetype": "text/x-python",
   "name": "python",
   "nbconvert_exporter": "python",
   "pygments_lexer": "ipython3",
   "version": "3.6.5"
  }
 },
 "nbformat": 4,
 "nbformat_minor": 2
}
