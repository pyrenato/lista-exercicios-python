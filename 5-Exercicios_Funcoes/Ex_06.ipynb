{
 "cells": [
  {
   "cell_type": "code",
   "execution_count": null,
   "metadata": {},
   "outputs": [],
   "source": [
    "# Declaração das funções"
   ]
  },
  {
   "cell_type": "code",
   "execution_count": null,
   "metadata": {},
   "outputs": [],
   "source": [
    "# Função para converter a hora\n",
    "def converte_hora(horas):\n",
    "    if horas > 12:\n",
    "        return horas - 12\n",
    "    else:\n",
    "        return horas"
   ]
  },
  {
   "cell_type": "code",
   "execution_count": null,
   "metadata": {},
   "outputs": [],
   "source": [
    "# Função para mostrar a hora\n",
    "def mostra_hora(horas, minutos):\n",
    "    \n",
    "    # a função zfill() preenche com 0 à esquerda uma string\n",
    "    if horas < 10:\n",
    "        horas = str(horas).zfill(2)\n",
    "    if minutos < 10:\n",
    "        minutos = str(minutos).zfill(2)\n",
    "    \n",
    "    print(f'{horas}:{minutos} {horario}')"
   ]
  },
  {
   "cell_type": "code",
   "execution_count": null,
   "metadata": {},
   "outputs": [],
   "source": [
    "# Função que retorna o AM ou PM\n",
    "def am_pm(horas):\n",
    "    if horas < 12:\n",
    "        return 'A.M.'\n",
    "    else:\n",
    "        return 'P.M.'"
   ]
  },
  {
   "cell_type": "code",
   "execution_count": null,
   "metadata": {},
   "outputs": [],
   "source": [
    "# Laço de inserção dos dados"
   ]
  },
  {
   "cell_type": "code",
   "execution_count": null,
   "metadata": {},
   "outputs": [],
   "source": [
    "while True:\n",
    "    horas = int(input('Digite as horas (-1 para sair): '))\n",
    "    if horas < 0:\n",
    "        break\n",
    "    else:\n",
    "        minutos = int(input('Digite os minutos: '))\n",
    "        if minutos < 0:\n",
    "            break\n",
    "        else:\n",
    "            # Chamada da função que retorna seu valor em uma variável\n",
    "            horario = am_pm(horas)\n",
    "            \n",
    "            # Chamada de uma função dentro de outra função\n",
    "            mostra_hora(converte_hora(horas), minutos)"
   ]
  }
 ],
 "metadata": {
  "kernelspec": {
   "display_name": "Python 3",
   "language": "python",
   "name": "python3"
  },
  "language_info": {
   "codemirror_mode": {
    "name": "ipython",
    "version": 3
   },
   "file_extension": ".py",
   "mimetype": "text/x-python",
   "name": "python",
   "nbconvert_exporter": "python",
   "pygments_lexer": "ipython3",
   "version": "3.6.5"
  }
 },
 "nbformat": 4,
 "nbformat_minor": 2
}
