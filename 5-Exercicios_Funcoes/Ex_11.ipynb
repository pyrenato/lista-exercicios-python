{
 "cells": [
  {
   "cell_type": "code",
   "execution_count": null,
   "metadata": {},
   "outputs": [],
   "source": [
    "# Declaração da função de validação da data"
   ]
  },
  {
   "cell_type": "code",
   "execution_count": null,
   "metadata": {},
   "outputs": [],
   "source": [
    "def valida_data(data):\n",
    "    dia = int(data[:2])\n",
    "    mes = int(data[3:5])\n",
    "    ano = int(data[6:])\n",
    "    \n",
    "    meses_31 = (1,3,5,7,8,10,12)\n",
    "    meses_30 = (4,6,9,11)\n",
    "    \n",
    "    # Verificação se é um ano bissexto ou não\n",
    "    if ano % 400 == 0:\n",
    "        bissexto = True\n",
    "    elif ano % 4 == 0 and ano % 100 != 0:\n",
    "        bissexto = True\n",
    "    else:\n",
    "        bissexto = False\n",
    "    \n",
    "    # Inicialmente a data começa como válida, sendo que qualquer irregularidade irá torná-la inválida   \n",
    "    data_valida = True\n",
    "    \n",
    "    # Validação nos meses de 31 dias\n",
    "    if mes in meses_31:\n",
    "        if dia < 1 or dia > 31:\n",
    "            data_valida = False\n",
    "\n",
    "    # Validação nos meses de 30 dias\n",
    "    elif mes in meses_30:\n",
    "        if dia < 1 or dia > 30:\n",
    "            data_valida = False\n",
    "\n",
    "    # Validação do mês de fevereiro, pois dependendo do ano tem 29 ou 28 dias\n",
    "    else:\n",
    "        if bissexto is True:\n",
    "            # Validação se o mês é fevereiro\n",
    "            if mes == 2:\n",
    "                # Validação do fevereiro com 29 dias\n",
    "                if dia < 1 or dia > 29:\n",
    "                    data_valida = False\n",
    "\n",
    "            # Essa validação serve para não aceitar um mês maior que 12\n",
    "            else:\n",
    "                data_valida = False\n",
    "        else:\n",
    "            if mes == 2:\n",
    "                # Validação do fevereiro com 28 dias\n",
    "                if dia < 1 or dia > 28:\n",
    "                    data_valida = False\n",
    "            else:\n",
    "                data_valida = False\n",
    "    return data_valida"
   ]
  },
  {
   "cell_type": "code",
   "execution_count": null,
   "metadata": {},
   "outputs": [],
   "source": [
    "# Declaração da função que escreve o nome por extenso"
   ]
  },
  {
   "cell_type": "code",
   "execution_count": null,
   "metadata": {},
   "outputs": [],
   "source": [
    "def mes_por_extenso(data):\n",
    "    dia = int(data[:2])\n",
    "    mes = int(data[3:5])\n",
    "    ano = int(data[6:])\n",
    "    \n",
    "    meses_do_ano = ['janeiro', 'fevereiro', 'março', 'abril',\n",
    "                   'maio', 'junho', 'julho', 'agosto',\n",
    "                   'setembro', 'outubro', 'novembro', 'dezembro']\n",
    "\n",
    "    print(f'{dia} de {meses_do_ano[mes-1]} de {ano}')"
   ]
  },
  {
   "cell_type": "code",
   "execution_count": null,
   "metadata": {},
   "outputs": [],
   "source": [
    "# Inserção da data"
   ]
  },
  {
   "cell_type": "code",
   "execution_count": null,
   "metadata": {},
   "outputs": [],
   "source": [
    "data = input('Digite uma data no formato dd/mm/aaaa: ')"
   ]
  },
  {
   "cell_type": "code",
   "execution_count": null,
   "metadata": {},
   "outputs": [],
   "source": [
    "# Chamada das funções"
   ]
  },
  {
   "cell_type": "code",
   "execution_count": null,
   "metadata": {},
   "outputs": [],
   "source": [
    "if valida_data(data) is False:\n",
    "    print('Data inválida!')"
   ]
  },
  {
   "cell_type": "code",
   "execution_count": null,
   "metadata": {},
   "outputs": [],
   "source": [
    "mes_por_extenso(data)"
   ]
  }
 ],
 "metadata": {
  "kernelspec": {
   "display_name": "Python 3",
   "language": "python",
   "name": "python3"
  },
  "language_info": {
   "codemirror_mode": {
    "name": "ipython",
    "version": 3
   },
   "file_extension": ".py",
   "mimetype": "text/x-python",
   "name": "python",
   "nbconvert_exporter": "python",
   "pygments_lexer": "ipython3",
   "version": "3.6.5"
  }
 },
 "nbformat": 4,
 "nbformat_minor": 2
}
