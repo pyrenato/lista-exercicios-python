{
 "cells": [
  {
   "cell_type": "code",
   "execution_count": null,
   "metadata": {},
   "outputs": [],
   "source": [
    "# Funções de validação dos valores mínimos e máximos permitidos"
   ]
  },
  {
   "cell_type": "code",
   "execution_count": null,
   "metadata": {},
   "outputs": [],
   "source": [
    "def valida_linhas(linhas):\n",
    "    if linhas < 1:\n",
    "        linhas = 1\n",
    "        print('Por padrão o valor mínimo de linha é 1. Este valor será atribuído.')\n",
    "    elif linhas > 20:\n",
    "        linhas = 20\n",
    "        print('Por padrão o valor máximo de linhas é 20. Este valor será atribuído.')\n",
    "    \n",
    "    return linhas"
   ]
  },
  {
   "cell_type": "code",
   "execution_count": null,
   "metadata": {},
   "outputs": [],
   "source": [
    "def valida_colunas(colunas):\n",
    "    if colunas < 1:\n",
    "        colunas = 1\n",
    "        print('Por padrão o valor mínimo de coluna é 1. Este valor será atribuído.')\n",
    "    elif colunas > 20:\n",
    "        colunas = 20\n",
    "        print('Por padrão o valor máximo de colunas é 20. Este valor será atribuído.')\n",
    "    \n",
    "    return colunas"
   ]
  },
  {
   "cell_type": "code",
   "execution_count": null,
   "metadata": {},
   "outputs": [],
   "source": [
    "# Função para desenhar a moldura"
   ]
  },
  {
   "cell_type": "code",
   "execution_count": null,
   "metadata": {},
   "outputs": [],
   "source": [
    "def desenha_moldura(linhas, colunas):\n",
    "    for lin in range(0, linhas):\n",
    "        # Verificação se é a primeira ou última repetição do loop, que são impressas as bordas de cima e de baixo\n",
    "        if lin == 0 or lin == linhas - 1:\n",
    "            # Adiciona o sinal no ínicio da borda\n",
    "            print('+', end = ' ')\n",
    "            # Laço que irá imprimir os - em cada coluna (com execeção dos primeiros e últimos valores)\n",
    "            for col in range(1, colunas -1):\n",
    "                print('-', end = ' ')\n",
    "            # Inserção do sinal de + na borda final\n",
    "            if colunas > 1:\n",
    "                print('+')\n",
    "            else:\n",
    "                print()\n",
    "                \n",
    "        # Construção das bordas laterais\n",
    "        else:\n",
    "            # Borda da esquerda\n",
    "            print('|', end =  ' ')\n",
    "            # Laço para inserção dos espaços (é como se fizesem o papel dos - nas bordas)\n",
    "            for col in range(1, colunas - 1):\n",
    "                print(' ', end = ' ')\n",
    "            # Borda da direita\n",
    "            if colunas > 1:\n",
    "                print('|')\n",
    "            else:\n",
    "                print()"
   ]
  },
  {
   "cell_type": "code",
   "execution_count": null,
   "metadata": {},
   "outputs": [],
   "source": [
    "linhas = int(input('Digite a quantidade de linhas: '))"
   ]
  },
  {
   "cell_type": "code",
   "execution_count": null,
   "metadata": {},
   "outputs": [],
   "source": [
    "linhas = valida_linhas(linhas)"
   ]
  },
  {
   "cell_type": "code",
   "execution_count": null,
   "metadata": {},
   "outputs": [],
   "source": [
    "colunas = int(input('Digite a quantidade de colunas: '))"
   ]
  },
  {
   "cell_type": "code",
   "execution_count": null,
   "metadata": {},
   "outputs": [],
   "source": [
    "colunas = valida_colunas(colunas)"
   ]
  },
  {
   "cell_type": "code",
   "execution_count": null,
   "metadata": {},
   "outputs": [],
   "source": [
    "# Chamada da função"
   ]
  },
  {
   "cell_type": "code",
   "execution_count": null,
   "metadata": {},
   "outputs": [],
   "source": [
    "desenha_moldura(linhas, colunas)"
   ]
  }
 ],
 "metadata": {
  "kernelspec": {
   "display_name": "Python 3",
   "language": "python",
   "name": "python3"
  },
  "language_info": {
   "codemirror_mode": {
    "name": "ipython",
    "version": 3
   },
   "file_extension": ".py",
   "mimetype": "text/x-python",
   "name": "python",
   "nbconvert_exporter": "python",
   "pygments_lexer": "ipython3",
   "version": "3.6.5"
  }
 },
 "nbformat": 4,
 "nbformat_minor": 2
}
