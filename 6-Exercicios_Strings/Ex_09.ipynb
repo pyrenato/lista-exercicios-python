{
 "cells": [
  {
   "cell_type": "code",
   "execution_count": 10,
   "metadata": {},
   "outputs": [],
   "source": [
    "def verifica_cpf(cpf):\n",
    "    # Retirada dos pontos e hífen do cpf\n",
    "    novo_cpf = cpf[:3]\n",
    "    novo_cpf += cpf[4:7]\n",
    "    novo_cpf += cpf[8:11]\n",
    "    novo_cpf += cpf[12:]\n",
    "    \n",
    "    \n",
    "    for num in len(cpf):\n",
    "        \n",
    "    return novo_cpf"
   ]
  },
  {
   "cell_type": "code",
   "execution_count": 11,
   "metadata": {},
   "outputs": [],
   "source": [
    "validador = False"
   ]
  },
  {
   "cell_type": "code",
   "execution_count": 12,
   "metadata": {},
   "outputs": [],
   "source": [
    "while validador is False:\n",
    "    cpf = input('Digite o CPF no formato xxx.xxx.xxx-xx: ')\n",
    "    if cpf[3] == '.' and cpf[7] == '.' and cpf[11] == '-':\n",
    "        validador = True\n",
    "    else:\n",
    "        print('CPF no formato inválido!')"
   ]
  },
  {
   "cell_type": "code",
   "execution_count": 13,
   "metadata": {},
   "outputs": [
    {
     "data": {
      "text/plain": [
       "'12345678988'"
      ]
     },
     "execution_count": 13,
     "metadata": {},
     "output_type": "execute_result"
    }
   ],
   "source": [
    "verifica_cpf(cpf)"
   ]
  },
  {
   "cell_type": "code",
   "execution_count": null,
   "metadata": {},
   "outputs": [],
   "source": []
  }
 ],
 "metadata": {
  "kernelspec": {
   "display_name": "Python 3",
   "language": "python",
   "name": "python3"
  },
  "language_info": {
   "codemirror_mode": {
    "name": "ipython",
    "version": 3
   },
   "file_extension": ".py",
   "mimetype": "text/x-python",
   "name": "python",
   "nbconvert_exporter": "python",
   "pygments_lexer": "ipython3",
   "version": "3.6.5"
  }
 },
 "nbformat": 4,
 "nbformat_minor": 2
}
