{
 "cells": [
  {
   "cell_type": "code",
   "execution_count": null,
   "metadata": {},
   "outputs": [],
   "source": [
    "'''Os cálculos de validação desse programa foram baseados nos cálculos desse site:\n",
    "https://dicasdeprogramacao.com.br/algoritmo-para-validar-cpf/'''"
   ]
  },
  {
   "cell_type": "code",
   "execution_count": null,
   "metadata": {},
   "outputs": [],
   "source": [
    "def valida_cpf(cpf):\n",
    "    # Retirada dos pontos e hífen do cpf\n",
    "    cpf_completo = cpf[:3]\n",
    "    cpf_completo += cpf[4:7]\n",
    "    cpf_completo += cpf[8:11]\n",
    "    cpf_completo += cpf[12:]\n",
    "    \n",
    "    # Retirada dos dígitos verificadores\n",
    "    cpf = cpf_completo[:9]\n",
    "    digito = cpf_completo[9:]\n",
    "    \n",
    "    # Primeira validação\n",
    "    cont = 0\n",
    "    total = 0\n",
    "    # Multiplicação dos 9 primeiros dígitos pela sequência decrescente de números de 10 à 2, somando os resultado\n",
    "    for num in range(10, 1, -1):\n",
    "        total += int(cpf[cont]) * num \n",
    "        cont += 1\n",
    "    # O resto da divisão tem de ser igual ao primeiro dígito verificador para que seja um CPF válido\n",
    "    if total * 10 % 11 == int(digito[0]):\n",
    "        validacao = True\n",
    "    else:\n",
    "        validacao = False\n",
    "        \n",
    "    # Segunda validação\n",
    "    cont = 0\n",
    "    total = 0\n",
    "    # Multiplicação dos 9 dígitos + o 1º dígito verificador por uma sequencia decresente de 11 a 2, somando os resultados\n",
    "    cpf = cpf + digito[0]\n",
    "    for num in range(11, 1, -1):\n",
    "        total += int(cpf[cont]) * num\n",
    "        cont += 1\n",
    "    # O resto da divisão deve ser igual ao 2º dígito verificador para que seja um CPF válido\n",
    "    if total * 10 % 11 == int(digito[1]):\n",
    "        validacao = True\n",
    "    else:\n",
    "        validacao = False\n",
    "    return validacao"
   ]
  },
  {
   "cell_type": "code",
   "execution_count": null,
   "metadata": {},
   "outputs": [],
   "source": [
    "def verifica_iguais(cpf):\n",
    "    # Retirada dos pontos e hífen do cpf\n",
    "    cpf_completo = cpf[:3]\n",
    "    cpf_completo += cpf[4:7]\n",
    "    cpf_completo += cpf[8:11]\n",
    "    cpf_completo += cpf[12:]\n",
    "    \n",
    "    # Laço que percorre cada número do cpf verificando se o anterior é igual ao próximo\n",
    "    for num in range(len(cpf_completo)):\n",
    "        # Caso seja a última execução do laço o seguinte torna-se o próprio último número\n",
    "        if num == len(cpf_completo)-1:\n",
    "            anterior = cpf_completo[num-1]\n",
    "            seguinte = cpf_completo[num]\n",
    "        else:\n",
    "            anterior = cpf_completo[num]\n",
    "            seguinte = cpf_completo[num+1]\n",
    "            \n",
    "        if anterior == seguinte:\n",
    "            iguais = True\n",
    "        else:\n",
    "            # Caso seja falso o loop é parado \n",
    "            iguais = False\n",
    "            break\n",
    "    return iguais"
   ]
  },
  {
   "cell_type": "code",
   "execution_count": null,
   "metadata": {},
   "outputs": [],
   "source": [
    "validador = False"
   ]
  },
  {
   "cell_type": "code",
   "execution_count": null,
   "metadata": {},
   "outputs": [],
   "source": [
    "# Validação do CPF conforme o formato xxx.xxx.xxx-xx"
   ]
  },
  {
   "cell_type": "code",
   "execution_count": null,
   "metadata": {},
   "outputs": [],
   "source": [
    "while validador is False:\n",
    "    cpf = input('Digite o CPF no formato xxx.xxx.xxx-xx: ')\n",
    "    if cpf[3] == '.' and cpf[7] == '.' and cpf[11] == '-':\n",
    "        validador = True\n",
    "    else:\n",
    "        print('CPF no formato inválido!')"
   ]
  },
  {
   "cell_type": "code",
   "execution_count": null,
   "metadata": {},
   "outputs": [],
   "source": [
    "# Chamada das funções de verificação do CPF"
   ]
  },
  {
   "cell_type": "code",
   "execution_count": null,
   "metadata": {},
   "outputs": [],
   "source": [
    "if verifica_iguais(cpf):\n",
    "    print('CPF inválido!')\n",
    "else:\n",
    "    if valida_cpf(cpf):\n",
    "        print('CPF válido!')\n",
    "    else:\n",
    "        print('CPF inválido!')"
   ]
  }
 ],
 "metadata": {
  "kernelspec": {
   "display_name": "Python 3",
   "language": "python",
   "name": "python3"
  },
  "language_info": {
   "codemirror_mode": {
    "name": "ipython",
    "version": 3
   },
   "file_extension": ".py",
   "mimetype": "text/x-python",
   "name": "python",
   "nbconvert_exporter": "python",
   "pygments_lexer": "ipython3",
   "version": "3.6.5"
  }
 },
 "nbformat": 4,
 "nbformat_minor": 2
}
