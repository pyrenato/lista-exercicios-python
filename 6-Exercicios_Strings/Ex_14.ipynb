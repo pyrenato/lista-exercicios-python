{
 "cells": [
  {
   "cell_type": "code",
   "execution_count": null,
   "metadata": {},
   "outputs": [],
   "source": [
    "# Importação do módulo aleatório para a escolha da letra "
   ]
  },
  {
   "cell_type": "code",
   "execution_count": null,
   "metadata": {},
   "outputs": [],
   "source": [
    "from random import randint"
   ]
  },
  {
   "cell_type": "code",
   "execution_count": null,
   "metadata": {},
   "outputs": [],
   "source": [
    "# Alfabeto em leet em um dicionáro (os caracteres foram pegos da Wikipédia)"
   ]
  },
  {
   "cell_type": "code",
   "execution_count": null,
   "metadata": {},
   "outputs": [],
   "source": [
    "leet = {\n",
    "    'a' : ['4', '@', '^', 'ä', 'ª', 'aye'],\n",
    "    'b' : ['8', '6', '|3', 'ß', 'P>', '|:'],\n",
    "    'c' : ['[', '¢', '<', '('],\n",
    "    'd' : ['|))', 'o|', '[)', 'I>', '|>', '?'],\n",
    "    'e' : ['3', '&', '£', 'ë', '[-', '€', 'ê', '|=-'],\n",
    "    'f' : ['|=', 'ph', '|#'],\n",
    "    'g' : ['6', '&', '(_+', '9', 'C-', 'gee', '(,'],\n",
    "    'h' : ['#', '/-/', '[-]', '{=}', '<~>', '|-|', ']~[', '}{', ']-[', '8', '}-{'],\n",
    "    'i' : ['1', '!', '|', '&', 'eye', '3y3', 'ï', '][', '[]'],\n",
    "    'j' : ['j', ';', '_/', '</', '(/'],\n",
    "    'k' : ['X', '|<', '|{', ']{', '}<', '|('],\n",
    "    'l' : ['1', '7', '1_', '|', '|_', '#', '¬', '£'],\n",
    "    'm' : ['//.', '^^', '|v|', '[V]', '{V}', '|\\/|', '(u)', '[]V[]', '(V)', 'IVI'],\n",
    "    'n' : ['//', '^/', '|\\|', '/\\/', '[\\]', '<\\>', '{\\}', '[]\\[]', 'n', '/V', '₪'],\n",
    "    'o' : ['0', '()' , '*', 'ö'],\n",
    "    'p' : ['|^', '|*', '|o', '|^(o)', '|>', '|\"', '9', '[]D', '|̊,', '|7'],\n",
    "    'q' : ['q', '9', '(_,)', 'o,'],\n",
    "    'r' : ['|2', '|?', '|^', 'lz', '[z', '12', 'Я'],\n",
    "    's' : ['5', '$', 'z', '§', 'ehs'],\n",
    "    't' : ['7', '+', '-|-', '1', '\"|\"'],\n",
    "    'u' : ['(_)', '|_|', 'v', 'ü'],\n",
    "    'v' : ['\\/'],\n",
    "    'w' : ['\\/\\/', 'vv', '\\^/', '(n)', '\\V/', '\\//', '\\X/', '\\|/'],\n",
    "    'x' : ['><', 'Ж', 'ecks', ')('],\n",
    "    'y' : ['Y', 'j', '`/', '¥'],\n",
    "    'z' : ['2', 'z', '~\\_', '~/_', '%'],\n",
    "    ' ': ' '}"
   ]
  },
  {
   "cell_type": "code",
   "execution_count": null,
   "metadata": {},
   "outputs": [],
   "source": [
    "frase = input('Digite uma frase: ')"
   ]
  },
  {
   "cell_type": "code",
   "execution_count": null,
   "metadata": {},
   "outputs": [],
   "source": [
    "# Apresentação dos dados"
   ]
  },
  {
   "cell_type": "code",
   "execution_count": null,
   "metadata": {},
   "outputs": [],
   "source": [
    "for letra in frase:\n",
    "    letra_leet = leet[letra]\n",
    "    print(letra_leet[randint(0, len(letra_leet) - 1)], end = ' ')"
   ]
  }
 ],
 "metadata": {
  "kernelspec": {
   "display_name": "Python 3",
   "language": "python",
   "name": "python3"
  },
  "language_info": {
   "codemirror_mode": {
    "name": "ipython",
    "version": 3
   },
   "file_extension": ".py",
   "mimetype": "text/x-python",
   "name": "python",
   "nbconvert_exporter": "python",
   "pygments_lexer": "ipython3",
   "version": "3.6.5"
  }
 },
 "nbformat": 4,
 "nbformat_minor": 2
}
