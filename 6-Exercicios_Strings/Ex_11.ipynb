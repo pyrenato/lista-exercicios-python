{
 "cells": [
  {
   "cell_type": "code",
   "execution_count": null,
   "metadata": {},
   "outputs": [],
   "source": [
    "# Importação do módulo que irá ajudar a gerar a palavara aleatória"
   ]
  },
  {
   "cell_type": "code",
   "execution_count": null,
   "metadata": {},
   "outputs": [],
   "source": [
    "from random import randint"
   ]
  },
  {
   "cell_type": "code",
   "execution_count": null,
   "metadata": {},
   "outputs": [],
   "source": [
    "# Função que irá verificar se a letra digitada há na palavra e adicionar a determinada lista"
   ]
  },
  {
   "cell_type": "code",
   "execution_count": null,
   "metadata": {},
   "outputs": [],
   "source": [
    "def adivinha(letra):\n",
    "    if letra in palavra and letra not in letras_corretas:\n",
    "        letras_corretas.append(letra)\n",
    "    elif letra not in palavra and letra not in letras_erradas:\n",
    "        letras_erradas.append(letra)"
   ]
  },
  {
   "cell_type": "code",
   "execution_count": null,
   "metadata": {},
   "outputs": [],
   "source": [
    "# Função para escolher uma palavra do arquivo"
   ]
  },
  {
   "cell_type": "code",
   "execution_count": null,
   "metadata": {},
   "outputs": [],
   "source": [
    "def escolhe_palavra():\n",
    "    with open ('palavras.txt', 'r') as arq:\n",
    "        banco_palavras = arq.readlines()\n",
    "    return banco_palavras[randint(0, len(banco_palavras)-1)].strip()"
   ]
  },
  {
   "cell_type": "code",
   "execution_count": null,
   "metadata": {},
   "outputs": [],
   "source": [
    "# Função para verificar se o jogador venceu o jogo"
   ]
  },
  {
   "cell_type": "code",
   "execution_count": null,
   "metadata": {},
   "outputs": [],
   "source": [
    "def venceu():\n",
    "    if '_' not in esconde_letra():\n",
    "        return True\n",
    "    else:\n",
    "        return False"
   ]
  },
  {
   "cell_type": "code",
   "execution_count": null,
   "metadata": {},
   "outputs": [],
   "source": [
    "# Função que verifica se o jogo terminou"
   ]
  },
  {
   "cell_type": "code",
   "execution_count": null,
   "metadata": {},
   "outputs": [],
   "source": [
    "def terminou():\n",
    "    if venceu() is True or len(letras_erradas) == 6:\n",
    "        return True\n",
    "    else:\n",
    "        return False"
   ]
  },
  {
   "cell_type": "code",
   "execution_count": null,
   "metadata": {},
   "outputs": [],
   "source": [
    "# Função para mostrar os _ no lugar onde não tem a letra ainda"
   ]
  },
  {
   "cell_type": "code",
   "execution_count": null,
   "metadata": {},
   "outputs": [],
   "source": [
    "def esconde_letra():\n",
    "    mostra_palavra = ''\n",
    "    for letra in palavra:\n",
    "        if letra not in letras_corretas:\n",
    "            mostra_palavra += '_'\n",
    "        else:\n",
    "            mostra_palavra += letra\n",
    "    return mostra_palavra"
   ]
  },
  {
   "cell_type": "code",
   "execution_count": null,
   "metadata": {},
   "outputs": [],
   "source": [
    "# Função que mostra o status do jogo"
   ]
  },
  {
   "cell_type": "code",
   "execution_count": null,
   "metadata": {},
   "outputs": [],
   "source": [
    "def status_jogo():\n",
    "    print(f'\\nPalavra: {esconde_letra()}')\n",
    "    print(f'Letras erradas: ', end = '')\n",
    "    for letra in letras_erradas:\n",
    "        print(letra, end = ' ')\n",
    "    print(f'\\nLetra corretas: ', end = '')\n",
    "    for letra in letras_corretas:\n",
    "        print(letra, end = ' ')"
   ]
  },
  {
   "cell_type": "code",
   "execution_count": null,
   "metadata": {},
   "outputs": [],
   "source": [
    "# Declaração das variáveis"
   ]
  },
  {
   "cell_type": "code",
   "execution_count": null,
   "metadata": {},
   "outputs": [],
   "source": [
    "palavra = escolhe_palavra()"
   ]
  },
  {
   "cell_type": "code",
   "execution_count": null,
   "metadata": {},
   "outputs": [],
   "source": [
    "letras_corretas = []"
   ]
  },
  {
   "cell_type": "code",
   "execution_count": null,
   "metadata": {},
   "outputs": [],
   "source": [
    "letras_erradas = []"
   ]
  },
  {
   "cell_type": "code",
   "execution_count": null,
   "metadata": {},
   "outputs": [],
   "source": [
    "# Execução do jogo"
   ]
  },
  {
   "cell_type": "code",
   "execution_count": null,
   "metadata": {},
   "outputs": [],
   "source": [
    "while not terminou():\n",
    "    status_jogo()\n",
    "    letra_inserida = input('Digite uma letra: ')\n",
    "    adivinha(letra_inserida)\n",
    "\n",
    "if venceu():\n",
    "    print('\\nParabéns, você venceu!')\n",
    "else:\n",
    "    print(f'\\nGame over! Você perdeu. A palavra era {palavra}')"
   ]
  }
 ],
 "metadata": {
  "kernelspec": {
   "display_name": "Python 3",
   "language": "python",
   "name": "python3"
  },
  "language_info": {
   "codemirror_mode": {
    "name": "ipython",
    "version": 3
   },
   "file_extension": ".py",
   "mimetype": "text/x-python",
   "name": "python",
   "nbconvert_exporter": "python",
   "pygments_lexer": "ipython3",
   "version": "3.6.5"
  }
 },
 "nbformat": 4,
 "nbformat_minor": 2
}
