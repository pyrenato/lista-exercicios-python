{
 "cells": [
  {
   "cell_type": "code",
   "execution_count": null,
   "metadata": {},
   "outputs": [],
   "source": [
    "import random"
   ]
  },
  {
   "cell_type": "code",
   "execution_count": null,
   "metadata": {},
   "outputs": [],
   "source": [
    "# Função para escolher uma palavra do banco de palavras"
   ]
  },
  {
   "cell_type": "code",
   "execution_count": null,
   "metadata": {},
   "outputs": [],
   "source": [
    "def escolhe_palavra():\n",
    "    with open('palavras.txt', 'r') as arq:\n",
    "        banco_palavras = arq.readlines()\n",
    "    return banco_palavras[random.randint(0, len(banco_palavras) - 1)].strip().upper()"
   ]
  },
  {
   "cell_type": "code",
   "execution_count": null,
   "metadata": {},
   "outputs": [],
   "source": [
    "# Função que embaralha as palavras"
   ]
  },
  {
   "cell_type": "code",
   "execution_count": null,
   "metadata": {},
   "outputs": [],
   "source": [
    "def embaralha_palavra(palavra):\n",
    "    palavra_embaralhada = list(palavra)\n",
    "    random.shuffle(palavra_embaralhada)\n",
    "    palavra_embaralhada = ' '.join(palavra_embaralhada)\n",
    "    return palavra_embaralhada"
   ]
  },
  {
   "cell_type": "code",
   "execution_count": null,
   "metadata": {},
   "outputs": [],
   "source": [
    "# Função que verifica se a palavra está correta"
   ]
  },
  {
   "cell_type": "code",
   "execution_count": null,
   "metadata": {},
   "outputs": [],
   "source": [
    "def verifica_palavra(palavra_inserida):\n",
    "    if palavra_inserida == palavra:\n",
    "        return True\n",
    "    else:\n",
    "        return False"
   ]
  },
  {
   "cell_type": "code",
   "execution_count": null,
   "metadata": {},
   "outputs": [],
   "source": [
    "# Execução do Jogo"
   ]
  },
  {
   "cell_type": "code",
   "execution_count": null,
   "metadata": {},
   "outputs": [],
   "source": [
    "palavra = escolhe_palavra()\n",
    "print(embaralha_palavra(palavra))\n",
    "\n",
    "palavra_inserida = input('Digite a palavra:').upper()\n",
    "\n",
    "if verifica_palavra(palavra_inserida):\n",
    "    print('Parabéns, você acertou!')\n",
    "else:\n",
    "    print(f'Game over, você erro! A palavra era {palavra}')"
   ]
  }
 ],
 "metadata": {
  "kernelspec": {
   "display_name": "Python 3",
   "language": "python",
   "name": "python3"
  },
  "language_info": {
   "codemirror_mode": {
    "name": "ipython",
    "version": 3
   },
   "file_extension": ".py",
   "mimetype": "text/x-python",
   "name": "python",
   "nbconvert_exporter": "python",
   "pygments_lexer": "ipython3",
   "version": "3.6.5"
  }
 },
 "nbformat": 4,
 "nbformat_minor": 2
}
