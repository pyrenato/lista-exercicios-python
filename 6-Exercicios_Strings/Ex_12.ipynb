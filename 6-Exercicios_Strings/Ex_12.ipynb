{
 "cells": [
  {
   "cell_type": "code",
   "execution_count": null,
   "metadata": {},
   "outputs": [],
   "source": [
    "telefone = input('Telefone: ')"
   ]
  },
  {
   "cell_type": "code",
   "execution_count": null,
   "metadata": {},
   "outputs": [],
   "source": [
    "# Retirada do hifen no telefone"
   ]
  },
  {
   "cell_type": "code",
   "execution_count": null,
   "metadata": {},
   "outputs": [],
   "source": [
    "tel_sem_hifen = ''\n",
    "for num in telefone:\n",
    "    if num == '-':\n",
    "        pass\n",
    "    else:\n",
    "        tel_sem_hifen += num"
   ]
  },
  {
   "cell_type": "code",
   "execution_count": null,
   "metadata": {},
   "outputs": [],
   "source": [
    "# Validação da quantidade de dígitos do telefone e apresentação dos dados"
   ]
  },
  {
   "cell_type": "code",
   "execution_count": null,
   "metadata": {},
   "outputs": [],
   "source": [
    "if len(tel_sem_hifen) == 7:\n",
    "    print(f'O telefone possui {len(tel_sem_hifen)} dígitos. Será acrescentado o dígito 3 na frente')\n",
    "    tel_sem_hifen = '3' + tel_sem_hifen\n",
    "else:\n",
    "    print(f'O telefone possui {len(tel_sem_hifen)} dígitos.')\n",
    "print(f'''Telefone sem formatação: {tel_sem_hifen}\n",
    "Telefone com formatação: {tel_sem_hifen[0:4]}-{tel_sem_hifen[4:]}''')"
   ]
  }
 ],
 "metadata": {
  "kernelspec": {
   "display_name": "Python 3",
   "language": "python",
   "name": "python3"
  },
  "language_info": {
   "codemirror_mode": {
    "name": "ipython",
    "version": 3
   },
   "file_extension": ".py",
   "mimetype": "text/x-python",
   "name": "python",
   "nbconvert_exporter": "python",
   "pygments_lexer": "ipython3",
   "version": "3.6.5"
  }
 },
 "nbformat": 4,
 "nbformat_minor": 2
}
