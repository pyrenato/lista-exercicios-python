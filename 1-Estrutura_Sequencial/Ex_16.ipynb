{
 "cells": [
  {
   "cell_type": "code",
   "execution_count": null,
   "metadata": {},
   "outputs": [],
   "source": [
    "from math import ceil"
   ]
  },
  {
   "cell_type": "code",
   "execution_count": null,
   "metadata": {},
   "outputs": [],
   "source": [
    "area = float(input('Digite o tamanho em m² da área a ser pintada: '))"
   ]
  },
  {
   "cell_type": "code",
   "execution_count": null,
   "metadata": {},
   "outputs": [],
   "source": [
    "# Cálculo para descobrir quantos litros de tinta serão necessários para pintar a área desejada"
   ]
  },
  {
   "cell_type": "code",
   "execution_count": null,
   "metadata": {},
   "outputs": [],
   "source": [
    "litros_tinta = area / 3"
   ]
  },
  {
   "cell_type": "code",
   "execution_count": null,
   "metadata": {},
   "outputs": [],
   "source": [
    "# Cálculo para descobrir a quantidade de latas necessárias"
   ]
  },
  {
   "cell_type": "code",
   "execution_count": null,
   "metadata": {},
   "outputs": [],
   "source": [
    "latas_tinta = litros_tinta / 18"
   ]
  },
  {
   "cell_type": "code",
   "execution_count": null,
   "metadata": {},
   "outputs": [],
   "source": [
    "'''Essa função ceil() da biblioteca math arredonda o número para cima, pois ela retorna o próximo número inteiro depois da casa decimal.\n",
    "O Python possui uma função built in chamada round(), onde ele arredonda o número,contudo nesse caso não é viável.\n",
    "Por exemplo:\n",
    "caso o valor da latas_tinta fosse igual a 5.3 o round() transformaria em 5 e cinco latas não seriam suficientes para pintar toda a área.\n",
    "Já a função ceil transforma esses mesmos 5.3 em 6, ou seja, daria para pintar toda a área e ainda sobraria tinta. \n",
    "Visto que não há a possibilidade de comprar frações de uma lata de tinta.'''"
   ]
  },
  {
   "cell_type": "code",
   "execution_count": null,
   "metadata": {},
   "outputs": [],
   "source": [
    "preco_total = ceil(latas_tinta) * 80"
   ]
  },
  {
   "cell_type": "code",
   "execution_count": null,
   "metadata": {},
   "outputs": [],
   "source": [
    "print(f'''Para pintar {area:.2f} m², será necessário comprar {latas_tinta:.0f} latas de tinta.\n",
    "Valor total: R$ {preco_total:.2f}''')"
   ]
  }
 ],
 "metadata": {
  "kernelspec": {
   "display_name": "Python 3",
   "language": "python",
   "name": "python3"
  },
  "language_info": {
   "codemirror_mode": {
    "name": "ipython",
    "version": 3
   },
   "file_extension": ".py",
   "mimetype": "text/x-python",
   "name": "python",
   "nbconvert_exporter": "python",
   "pygments_lexer": "ipython3",
   "version": "3.6.5"
  }
 },
 "nbformat": 4,
 "nbformat_minor": 2
}
