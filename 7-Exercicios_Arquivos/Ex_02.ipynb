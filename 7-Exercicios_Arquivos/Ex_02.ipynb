{
 "cells": [
  {
   "cell_type": "code",
   "execution_count": null,
   "metadata": {},
   "outputs": [],
   "source": [
    "# Função para converter byte para mega"
   ]
  },
  {
   "cell_type": "code",
   "execution_count": null,
   "metadata": {},
   "outputs": [],
   "source": [
    "def byte_mega(byte):\n",
    "    resultado = byte * (1024 ** -2)\n",
    "    return resultado"
   ]
  },
  {
   "cell_type": "code",
   "execution_count": null,
   "metadata": {},
   "outputs": [],
   "source": [
    "# Função para retornar o percentual"
   ]
  },
  {
   "cell_type": "code",
   "execution_count": null,
   "metadata": {},
   "outputs": [],
   "source": [
    "def percentual(num):\n",
    "    total = sum(lista_dados)\n",
    "    return (100 * num) / total"
   ]
  },
  {
   "cell_type": "code",
   "execution_count": null,
   "metadata": {},
   "outputs": [],
   "source": [
    "# Abrir o arquivo de leitura dos dados"
   ]
  },
  {
   "cell_type": "code",
   "execution_count": null,
   "metadata": {},
   "outputs": [],
   "source": [
    "arquivo = open('usuarios.txt', 'r')\n",
    "novo_arquivo = arquivo.read().split()\n",
    "arquivo.close()"
   ]
  },
  {
   "cell_type": "code",
   "execution_count": null,
   "metadata": {},
   "outputs": [],
   "source": [
    "# Criando o arquivo que serão inseridos os resultados"
   ]
  },
  {
   "cell_type": "code",
   "execution_count": null,
   "metadata": {},
   "outputs": [],
   "source": [
    "resultado = open('resultado.txt', 'a')"
   ]
  },
  {
   "cell_type": "code",
   "execution_count": null,
   "metadata": {},
   "outputs": [],
   "source": [
    "# Variáveis"
   ]
  },
  {
   "cell_type": "code",
   "execution_count": null,
   "metadata": {},
   "outputs": [],
   "source": [
    "lista_dados = []\n",
    "lista_nomes = []"
   ]
  },
  {
   "cell_type": "code",
   "execution_count": null,
   "metadata": {},
   "outputs": [],
   "source": [
    "for linha in range(len(novo_arquivo)):\n",
    "    if linha % 2 != 0:\n",
    "        num = novo_arquivo[linha]\n",
    "        lista_dados.append(float(num))\n",
    "    else:\n",
    "        lista_nomes.append(novo_arquivo[linha])"
   ]
  },
  {
   "cell_type": "code",
   "execution_count": null,
   "metadata": {},
   "outputs": [],
   "source": [
    "# Gravação dos dados no arquivo"
   ]
  },
  {
   "cell_type": "code",
   "execution_count": null,
   "metadata": {},
   "outputs": [],
   "source": [
    "resultado.write(f\"{'ACME Inc.':<}{'Uso do espaço em disco pelos usuários':^60}\\n\")\n",
    "resultado.write('-' * 58)\n",
    "resultado.write(f\"\\n{'Nr.':<3} {'Usuário':<15} {'Espaço Utilizado':>12} {'% do uso':>13}\")\n",
    "for pessoa in range(len(lista_dados)):\n",
    "    resultado.write(f\"\\n{pessoa+1:<3} {lista_nomes[pessoa]:<15} {byte_mega(lista_dados[pessoa]):>12.2f} MB {percentual(lista_dados[pessoa]):>11.2f} %\")\n",
    "    \n",
    "resultado.write(f'\\nEspaço total ocupado: {byte_mega(sum(lista_dados)):.2f} MB')\n",
    "resultado.write(f'\\nEspaço médio ocupado: {byte_mega((sum(lista_dados)/len(lista_dados))):.2f} MB')"
   ]
  },
  {
   "cell_type": "code",
   "execution_count": null,
   "metadata": {},
   "outputs": [],
   "source": [
    "# Apresentação dos dados"
   ]
  },
  {
   "cell_type": "code",
   "execution_count": null,
   "metadata": {},
   "outputs": [],
   "source": [
    "with open('resultado.txt', 'r') as arq:\n",
    "    arquivo = arq.readlines()"
   ]
  },
  {
   "cell_type": "code",
   "execution_count": null,
   "metadata": {},
   "outputs": [],
   "source": [
    "print(arquivo)"
   ]
  }
 ],
 "metadata": {
  "kernelspec": {
   "display_name": "Python 3",
   "language": "python",
   "name": "python3"
  },
  "language_info": {
   "codemirror_mode": {
    "name": "ipython",
    "version": 3
   },
   "file_extension": ".py",
   "mimetype": "text/x-python",
   "name": "python",
   "nbconvert_exporter": "python",
   "pygments_lexer": "ipython3",
   "version": "3.6.5"
  }
 },
 "nbformat": 4,
 "nbformat_minor": 2
}
