{
 "cells": [
  {
   "cell_type": "code",
   "execution_count": null,
   "metadata": {},
   "outputs": [],
   "source": [
    "from sys import exit"
   ]
  },
  {
   "cell_type": "code",
   "execution_count": null,
   "metadata": {},
   "outputs": [],
   "source": [
    "num1 = float(input('Digite um número: '))"
   ]
  },
  {
   "cell_type": "code",
   "execution_count": null,
   "metadata": {},
   "outputs": [],
   "source": [
    "num2 = float(input('Digite outro número: '))"
   ]
  },
  {
   "cell_type": "code",
   "execution_count": null,
   "metadata": {},
   "outputs": [],
   "source": [
    "operacao = input('Digite a operação que deseja realizar (+,-,*,/): ')"
   ]
  },
  {
   "cell_type": "code",
   "execution_count": null,
   "metadata": {},
   "outputs": [],
   "source": [
    "# Validação do operador escolhido"
   ]
  },
  {
   "cell_type": "code",
   "execution_count": null,
   "metadata": {},
   "outputs": [],
   "source": [
    "if operacao == '+':\n",
    "    resultado = num1 + num2\n",
    "elif operacao == '-':\n",
    "    resultado = num1 - num2\n",
    "elif operacao == '*':\n",
    "    resultado = num1 * num2\n",
    "elif operacao == '/':\n",
    "    resultado = num1 / num2\n",
    "else:\n",
    "    print('Operador inválido!')\n",
    "    exit()"
   ]
  },
  {
   "cell_type": "code",
   "execution_count": null,
   "metadata": {},
   "outputs": [],
   "source": [
    "print(f'{num1} {operacao} {num2} = {resultado:.2f}')"
   ]
  },
  {
   "cell_type": "code",
   "execution_count": null,
   "metadata": {},
   "outputs": [],
   "source": [
    "'''Números decimais não podem ser classificados como par ou ímpar,\n",
    "por isso a validação está dentro do if que verifica se o resultado é inteiro'''"
   ]
  },
  {
   "cell_type": "code",
   "execution_count": null,
   "metadata": {},
   "outputs": [],
   "source": [
    "if round(resultado) == resultado:\n",
    "    print(f'{resultado:.0f} é inteiro', end='')\n",
    "    if resultado % 2 == 0:\n",
    "        print(', par e', end='')\n",
    "    else:\n",
    "        print(', ímpar e', end='')\n",
    "else:\n",
    "    print(f'{resultado:.2f} é decimal e', end='')\n",
    "\n",
    "if resultado > 0:\n",
    "    print(' positivo')\n",
    "else:\n",
    "    print(' negativo')"
   ]
  }
 ],
 "metadata": {
  "kernelspec": {
   "display_name": "Python 3",
   "language": "python",
   "name": "python3"
  },
  "language_info": {
   "codemirror_mode": {
    "name": "ipython",
    "version": 3
   },
   "file_extension": ".py",
   "mimetype": "text/x-python",
   "name": "python",
   "nbconvert_exporter": "python",
   "pygments_lexer": "ipython3",
   "version": "3.6.5"
  }
 },
 "nbformat": 4,
 "nbformat_minor": 2
}
