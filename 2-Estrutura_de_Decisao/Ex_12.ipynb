{
 "cells": [
  {
   "cell_type": "code",
   "execution_count": null,
   "metadata": {},
   "outputs": [],
   "source": [
    "valor_hora = float(input('Digite o valor da hora trabalhada: '))"
   ]
  },
  {
   "cell_type": "code",
   "execution_count": null,
   "metadata": {},
   "outputs": [],
   "source": [
    "horas_trabalhadas = int(input('Digite a quantidade de horas trabalhadas no mês: '))"
   ]
  },
  {
   "cell_type": "code",
   "execution_count": null,
   "metadata": {},
   "outputs": [],
   "source": [
    "salario_bruto = valor_hora * horas_trabalhadas"
   ]
  },
  {
   "cell_type": "code",
   "execution_count": null,
   "metadata": {},
   "outputs": [],
   "source": [
    "# Validação do valor do Imposto de Renda"
   ]
  },
  {
   "cell_type": "code",
   "execution_count": null,
   "metadata": {},
   "outputs": [],
   "source": [
    "if salario_bruto <= 900:\n",
    "    ir = 0\n",
    "elif salario_bruto <= 1500:\n",
    "    ir = salario_bruto * (5 / 100)\n",
    "elif salario_bruto <= 2500:\n",
    "    ir = salario_bruto * (10 /100)\n",
    "else:\n",
    "    ir = salario_bruto * (20 / 100)"
   ]
  },
  {
   "cell_type": "code",
   "execution_count": null,
   "metadata": {},
   "outputs": [],
   "source": [
    "# Foi tomado o valor como 10% baseado no exemplo que estava em tela"
   ]
  },
  {
   "cell_type": "code",
   "execution_count": null,
   "metadata": {},
   "outputs": [],
   "source": [
    "inss = salario_bruto * (10 / 100)"
   ]
  },
  {
   "cell_type": "code",
   "execution_count": null,
   "metadata": {},
   "outputs": [],
   "source": [
    "sindicato = salario_bruto * (3 / 100)"
   ]
  },
  {
   "cell_type": "code",
   "execution_count": null,
   "metadata": {},
   "outputs": [],
   "source": [
    "fgts = salario_bruto * (11 / 100)"
   ]
  },
  {
   "cell_type": "code",
   "execution_count": null,
   "metadata": {},
   "outputs": [],
   "source": [
    "# Soma de todos os descontos"
   ]
  },
  {
   "cell_type": "code",
   "execution_count": null,
   "metadata": {},
   "outputs": [],
   "source": [
    "descontos = ir + inss + sindicato"
   ]
  },
  {
   "cell_type": "code",
   "execution_count": null,
   "metadata": {},
   "outputs": [],
   "source": [
    "# Cálculo do salário líquido"
   ]
  },
  {
   "cell_type": "code",
   "execution_count": null,
   "metadata": {},
   "outputs": [],
   "source": [
    "salario_liquido = salario_bruto - descontos"
   ]
  },
  {
   "cell_type": "code",
   "execution_count": null,
   "metadata": {},
   "outputs": [],
   "source": [
    "'''No exemplo mostra a dedução do INSS, porém no enunciado não pede.\n",
    "Contudo foi inserido no cálculo, pois é um desconto recorrente em qualquer salário.'''"
   ]
  },
  {
   "cell_type": "code",
   "execution_count": null,
   "metadata": {},
   "outputs": [],
   "source": [
    "print(f'''\n",
    "Salário bruto.......... R$ {salario_bruto:.2f}\n",
    "(-) IR................. R$ {ir:.2f}\n",
    "(-) INSS............... R$ {inss:.2f}\n",
    "FGTS................... R$ {fgts:.2f}\n",
    "Total de descontos..... R$ {descontos:.2f}\n",
    "Salário líquido........ R$ {salario_liquido:.2f}''')"
   ]
  }
 ],
 "metadata": {
  "kernelspec": {
   "display_name": "Python 3",
   "language": "python",
   "name": "python3"
  },
  "language_info": {
   "codemirror_mode": {
    "name": "ipython",
    "version": 3
   },
   "file_extension": ".py",
   "mimetype": "text/x-python",
   "name": "python",
   "nbconvert_exporter": "python",
   "pygments_lexer": "ipython3",
   "version": "3.6.5"
  }
 },
 "nbformat": 4,
 "nbformat_minor": 2
}
