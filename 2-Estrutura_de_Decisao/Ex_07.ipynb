{
 "cells": [
  {
   "cell_type": "code",
   "execution_count": null,
   "metadata": {},
   "outputs": [],
   "source": [
    "num1 = float(input('Digite o primeiro número: '))"
   ]
  },
  {
   "cell_type": "code",
   "execution_count": null,
   "metadata": {},
   "outputs": [],
   "source": [
    "num2 = float(input('Digite o segundo número: '))"
   ]
  },
  {
   "cell_type": "code",
   "execution_count": null,
   "metadata": {},
   "outputs": [],
   "source": [
    "num3 = float(input('Digite o terceiro número: '))"
   ]
  },
  {
   "cell_type": "code",
   "execution_count": null,
   "metadata": {},
   "outputs": [],
   "source": [
    "# Esse if verificará se o num1 é o maior de todos\n",
    "if num1 > num2 and num1 > num3:\n",
    "    maior = num1\n",
    "    # Caso entre nesse if é porque o num1 já é o maior, basta agora descobrir o menor\n",
    "    if num2 < num3:\n",
    "        menor = num2\n",
    "    else:\n",
    "        menor = num3\n",
    "# Esse elif serve para verificar qual é o maior, já que o num1 foi descartado.\n",
    "elif num2 > num3:\n",
    "    maior = num2\n",
    "    ''' Caso entre nesse if é porque o num2 é o maior, pois o num1 não é, como já foi verificado anteriormente;\n",
    "    agora basta descobrir o menor.'''\n",
    "    if num1 < num3:\n",
    "        menor = num1\n",
    "    else:\n",
    "        menor = num3\n",
    "# Caso chege nesse else, é porque o num1, nem o num2 são os maiores, restando apenas num3 como sendo o maior.\n",
    "else:\n",
    "    maior = num3\n",
    "    # Basta verificar qual é o menor \n",
    "    if num1 < num2:\n",
    "        menor = num1\n",
    "    else:\n",
    "        menor = num2"
   ]
  },
  {
   "cell_type": "code",
   "execution_count": null,
   "metadata": {},
   "outputs": [],
   "source": [
    "print(f'{menor} é o menor e {maior} é o maior número.')"
   ]
  }
 ],
 "metadata": {
  "kernelspec": {
   "display_name": "Python 3",
   "language": "python",
   "name": "python3"
  },
  "language_info": {
   "codemirror_mode": {
    "name": "ipython",
    "version": 3
   },
   "file_extension": ".py",
   "mimetype": "text/x-python",
   "name": "python",
   "nbconvert_exporter": "python",
   "pygments_lexer": "ipython3",
   "version": "3.6.5"
  }
 },
 "nbformat": 4,
 "nbformat_minor": 2
}
