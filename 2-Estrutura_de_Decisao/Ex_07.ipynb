{
 "cells": [
  {
   "cell_type": "code",
   "execution_count": 9,
   "metadata": {},
   "outputs": [],
   "source": [
    "num1 = float(input('Digite o primeiro número: '))"
   ]
  },
  {
   "cell_type": "code",
   "execution_count": 6,
   "metadata": {},
   "outputs": [],
   "source": [
    "num2 = float(input('Digite o segundo número: '))"
   ]
  },
  {
   "cell_type": "code",
   "execution_count": 10,
   "metadata": {},
   "outputs": [],
   "source": [
    "num3 = float(input('Digite o terceiro número: '))"
   ]
  },
  {
   "cell_type": "code",
   "execution_count": 11,
   "metadata": {},
   "outputs": [],
   "source": [
    "if num1 > num2 and num1 > num3:\n",
    "    maior = num1\n",
    "    if num2 < num3:\n",
    "        menor = num2\n",
    "    else:\n",
    "        menor = num3\n",
    "elif num2 > num3:\n",
    "    maior = num2\n",
    "    if num1 < num3:\n",
    "        menor = num1\n",
    "    else:\n",
    "        menor = num3\n",
    "else:\n",
    "    maior = num3\n",
    "    if num1 < num2:\n",
    "        menor = num1\n",
    "    else:\n",
    "        menor = num2"
   ]
  },
  {
   "cell_type": "code",
   "execution_count": 12,
   "metadata": {},
   "outputs": [
    {
     "name": "stdout",
     "output_type": "stream",
     "text": [
      "8.0 é o menor e 9.0 é o maior número.\n"
     ]
    }
   ],
   "source": [
    "print(f'{menor} é o menor e {maior} é o maior número.')"
   ]
  },
  {
   "cell_type": "code",
   "execution_count": null,
   "metadata": {},
   "outputs": [],
   "source": []
  }
 ],
 "metadata": {
  "kernelspec": {
   "display_name": "Python 3",
   "language": "python",
   "name": "python3"
  },
  "language_info": {
   "codemirror_mode": {
    "name": "ipython",
    "version": 3
   },
   "file_extension": ".py",
   "mimetype": "text/x-python",
   "name": "python",
   "nbconvert_exporter": "python",
   "pygments_lexer": "ipython3",
   "version": "3.6.5"
  }
 },
 "nbformat": 4,
 "nbformat_minor": 2
}
