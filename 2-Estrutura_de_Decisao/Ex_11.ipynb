{
 "cells": [
  {
   "cell_type": "code",
   "execution_count": null,
   "metadata": {},
   "outputs": [],
   "source": [
    "salario = float(input('Digite o valor do seu salário: '))"
   ]
  },
  {
   "cell_type": "code",
   "execution_count": null,
   "metadata": {},
   "outputs": [],
   "source": [
    "''' Verificação de qual classe o salário entra.\n",
    "Foi utilizado a variável porcentagem para já aproveitá-la na hora de informá-la na hora do reajuste.'''\n",
    "if salario <= 280:\n",
    "    porcentagem = 20\n",
    "    aumento = salario * (porcentagem / 100)\n",
    "# Não é necessário colocar salario > 280 and salario <= 700 pois esse elif só será acessado caso o salário já seja maior que 280\n",
    "elif salario <= 700:\n",
    "    porcentagem = 15\n",
    "    aumento = salario * (porcentagem / 100)\n",
    "elif salario <= 1500:\n",
    "    porcentagem = 10\n",
    "    aumento = salario * (porcentagem / 100)\n",
    "else:\n",
    "    porcentagem = 5\n",
    "    aumento = salario * (porcentagem / 100)"
   ]
  },
  {
   "cell_type": "code",
   "execution_count": null,
   "metadata": {},
   "outputs": [],
   "source": [
    "novo_salario = salario + aumento"
   ]
  },
  {
   "cell_type": "code",
   "execution_count": null,
   "metadata": {},
   "outputs": [],
   "source": [
    "'''Na apresentaçãdo da % do reajuste a estrutura :>4 serve para ajudar na formatação,\n",
    "o > informa que é para alinhar à direita, o 4 significa para colocar 4 caracteres de espaço para o alinhamento'''"
   ]
  },
  {
   "cell_type": "code",
   "execution_count": null,
   "metadata": {},
   "outputs": [],
   "source": [
    "print(f'''\n",
    "Salário.............. R$ {salario:.2f}\n",
    "% do reajuste........ {porcentagem:>4}%\n",
    "Valor do aumento..... R$ {aumento:.2f}\n",
    "Novo salário......... R$ {novo_salario:.2f}\n",
    "''')"
   ]
  }
 ],
 "metadata": {
  "kernelspec": {
   "display_name": "Python 3",
   "language": "python",
   "name": "python3"
  },
  "language_info": {
   "codemirror_mode": {
    "name": "ipython",
    "version": 3
   },
   "file_extension": ".py",
   "mimetype": "text/x-python",
   "name": "python",
   "nbconvert_exporter": "python",
   "pygments_lexer": "ipython3",
   "version": "3.6.5"
  }
 },
 "nbformat": 4,
 "nbformat_minor": 2
}
