{
 "cells": [
  {
   "cell_type": "code",
   "execution_count": null,
   "metadata": {},
   "outputs": [],
   "source": [
    "produto1 = float(input('Digite o preço do primeiro produto: '))"
   ]
  },
  {
   "cell_type": "code",
   "execution_count": null,
   "metadata": {},
   "outputs": [],
   "source": [
    "produto2 = float(input('Digite o preço do segundo produto: '))"
   ]
  },
  {
   "cell_type": "code",
   "execution_count": null,
   "metadata": {},
   "outputs": [],
   "source": [
    "produto3 = float(input('Digite o preço do terceiro produto: '))"
   ]
  },
  {
   "cell_type": "code",
   "execution_count": null,
   "metadata": {},
   "outputs": [],
   "source": [
    "# Testa-se o primeiro produto como o mais barato\n",
    "if produto1 < produto2 and produto1 < produto3:\n",
    "    menor = produto1\n",
    "# Caso o primeiro não seja o mais barato, testa-se se o segundo é o mais barato\n",
    "elif produto2 < produto3:\n",
    "    menor = produto2\n",
    "# Caso não seja o primeiro, nem o segundo, resta apenas o terceiro como mais barato\n",
    "else:\n",
    "    menor = produto3"
   ]
  },
  {
   "cell_type": "code",
   "execution_count": null,
   "metadata": {},
   "outputs": [],
   "source": [
    "print(f'O produto a ser comprado é o de preço R$ {menor:.2f}')"
   ]
  }
 ],
 "metadata": {
  "kernelspec": {
   "display_name": "Python 3",
   "language": "python",
   "name": "python3"
  },
  "language_info": {
   "codemirror_mode": {
    "name": "ipython",
    "version": 3
   },
   "file_extension": ".py",
   "mimetype": "text/x-python",
   "name": "python",
   "nbconvert_exporter": "python",
   "pygments_lexer": "ipython3",
   "version": "3.6.5"
  }
 },
 "nbformat": 4,
 "nbformat_minor": 2
}
