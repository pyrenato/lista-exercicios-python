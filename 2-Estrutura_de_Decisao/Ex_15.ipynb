{
 "cells": [
  {
   "cell_type": "code",
   "execution_count": null,
   "metadata": {},
   "outputs": [],
   "source": [
    "lado1 = float(input('Digite o valor do primeiro lado do triângulo: '))"
   ]
  },
  {
   "cell_type": "code",
   "execution_count": null,
   "metadata": {},
   "outputs": [],
   "source": [
    "lado2 = float(input('Digite o valor do segundo lado do triângulo: '))"
   ]
  },
  {
   "cell_type": "code",
   "execution_count": null,
   "metadata": {},
   "outputs": [],
   "source": [
    "lado3 = float(input('Digite o valor do terceiro lado do triângulo: '))"
   ]
  },
  {
   "cell_type": "code",
   "execution_count": null,
   "metadata": {},
   "outputs": [],
   "source": [
    "'''A validação que está escrita nas dicas do exercício não é suficiente. \n",
    "Quando se pesquisa mais afundo descobre-se que um triângulo só é válido caso cumpra 2 requisitos:\n",
    "1) Dois lados somados tem de ser maior que o outro lado que resta\n",
    "por exemplo:\n",
    "a + b tem de ser maior que c\n",
    "1 + 2 > 2\n",
    "2) O valor absoluto, ou seja, sempre positivo, da subtração de dois lados tem de ser menor que o lado restante\n",
    "por exemplo:\n",
    "a - b tem de ser menor que c\n",
    "(1 - 2) < 2 como é o valor absoluto, o resultado é 1 e não -1\n",
    "\n",
    "Como nesse exemplo os 2 critérios foram atendidos o triângulo é válido.'''"
   ]
  },
  {
   "cell_type": "code",
   "execution_count": null,
   "metadata": {},
   "outputs": [],
   "source": [
    "# A função abs() serve justamente para retornar o valor absoluto da subtração, ou seja, o valor positivo."
   ]
  },
  {
   "cell_type": "code",
   "execution_count": null,
   "metadata": {},
   "outputs": [],
   "source": [
    "if abs(lado2 - lado3) < lado1 and lado1 < (lado2 + lado3):\n",
    "    valido = True\n",
    "elif abs(lado1 - lado3) < lado2 and lado2 < (lado1 + lado3):\n",
    "    valido = True\n",
    "elif abs(lado1 - lado2) < lado3 and lado3 < (lado1 + lado2):\n",
    "    valido = True\n",
    "else:\n",
    "    valido = False"
   ]
  },
  {
   "cell_type": "code",
   "execution_count": null,
   "metadata": {},
   "outputs": [],
   "source": [
    "'''Validação do tipo de triângulo,\n",
    "o if permite que mais de um critério seja analisado usando os operadores lógicos'''"
   ]
  },
  {
   "cell_type": "code",
   "execution_count": null,
   "metadata": {},
   "outputs": [],
   "source": [
    "if lado1 == lado2 == lado3:\n",
    "    tipo = 'equilátero'\n",
    "elif lado1 == lado2 or lado1 == lado3 or lado2 == lado3:\n",
    "    tipo = 'isósceles'\n",
    "else:\n",
    "    tipo = 'escaleno'"
   ]
  },
  {
   "cell_type": "code",
   "execution_count": null,
   "metadata": {},
   "outputs": [],
   "source": [
    "if valido == True:\n",
    "    print(f'Triângulo {tipo} válido!')\n",
    "else:\n",
    "    print('Triângulo inválido!')"
   ]
  }
 ],
 "metadata": {
  "kernelspec": {
   "display_name": "Python 3",
   "language": "python",
   "name": "python3"
  },
  "language_info": {
   "codemirror_mode": {
    "name": "ipython",
    "version": 3
   },
   "file_extension": ".py",
   "mimetype": "text/x-python",
   "name": "python",
   "nbconvert_exporter": "python",
   "pygments_lexer": "ipython3",
   "version": "3.6.5"
  }
 },
 "nbformat": 4,
 "nbformat_minor": 2
}
