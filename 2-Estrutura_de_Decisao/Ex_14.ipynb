{
 "cells": [
  {
   "cell_type": "code",
   "execution_count": null,
   "metadata": {},
   "outputs": [],
   "source": [
    "nota1 = float(input('Digite a primeira nota: '))"
   ]
  },
  {
   "cell_type": "code",
   "execution_count": null,
   "metadata": {},
   "outputs": [],
   "source": [
    "nota2 = float(input('Digite a segunda nota: '))"
   ]
  },
  {
   "cell_type": "code",
   "execution_count": null,
   "metadata": {},
   "outputs": [],
   "source": [
    "media = (nota1 + nota2) / 2"
   ]
  },
  {
   "cell_type": "code",
   "execution_count": null,
   "metadata": {},
   "outputs": [],
   "source": [
    "'''Não há a necesidade de colocar nos elifs a outra validação (and media < 9),\n",
    "pois a condição do elif só será executada caso já tenha deixado passar o if anterior.'''"
   ]
  },
  {
   "cell_type": "code",
   "execution_count": null,
   "metadata": {},
   "outputs": [],
   "source": [
    "if media >=9:\n",
    "    conceito = 'A'\n",
    "elif media >= 7.5:\n",
    "    conceito = 'B'\n",
    "elif media >= 6:\n",
    "    conceito = 'C'\n",
    "elif media >= 4:\n",
    "    conceito = 'D'\n",
    "else:\n",
    "    conceito = 'E'"
   ]
  },
  {
   "cell_type": "code",
   "execution_count": null,
   "metadata": {},
   "outputs": [],
   "source": [
    "# Ao invés de fazer três validações, se o conceito é A ou B ou C. Apenas uma usando a estrutura in é eficaz"
   ]
  },
  {
   "cell_type": "code",
   "execution_count": null,
   "metadata": {},
   "outputs": [],
   "source": [
    "if conceito in 'ABC':\n",
    "    status = 'Aprovado'\n",
    "else:\n",
    "    status = 'Reprovado'"
   ]
  },
  {
   "cell_type": "code",
   "execution_count": null,
   "metadata": {},
   "outputs": [],
   "source": [
    "print(f'''\n",
    "Nota 1: {nota1}\n",
    "Nota 2: {nota2}\n",
    "Média: {media}\n",
    "Conceito {conceito}\n",
    "{status}!''')"
   ]
  }
 ],
 "metadata": {
  "kernelspec": {
   "display_name": "Python 3",
   "language": "python",
   "name": "python3"
  },
  "language_info": {
   "codemirror_mode": {
    "name": "ipython",
    "version": 3
   },
   "file_extension": ".py",
   "mimetype": "text/x-python",
   "name": "python",
   "nbconvert_exporter": "python",
   "pygments_lexer": "ipython3",
   "version": "3.6.5"
  }
 },
 "nbformat": 4,
 "nbformat_minor": 2
}
