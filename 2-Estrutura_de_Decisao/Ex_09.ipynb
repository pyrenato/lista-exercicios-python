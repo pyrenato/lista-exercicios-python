{
 "cells": [
  {
   "cell_type": "code",
   "execution_count": null,
   "metadata": {},
   "outputs": [],
   "source": [
    "num1 = int(input('Digite o primeiro número: '))"
   ]
  },
  {
   "cell_type": "code",
   "execution_count": null,
   "metadata": {},
   "outputs": [],
   "source": [
    "num2 = int(input('Digite o segundo número: '))"
   ]
  },
  {
   "cell_type": "code",
   "execution_count": null,
   "metadata": {},
   "outputs": [],
   "source": [
    "num3 = int(input('Digite o terceiro número: '))"
   ]
  },
  {
   "cell_type": "code",
   "execution_count": null,
   "metadata": {},
   "outputs": [],
   "source": [
    "# Esse if descobre se o num1 é o maior\n",
    "if num1 > num2 and num1 > num3:\n",
    "    maior = num1\n",
    "    '''Esse if vai descobir qual dos dois restantes é o maior, consequentemente vai ficar no meio\n",
    "    e o restante será o menor'''\n",
    "    if num2 > num3:\n",
    "        meio = num2\n",
    "        menor = num3\n",
    "    else:\n",
    "        meio = num3\n",
    "        menor = num2\n",
    "# Esse if descobre se o num2 é o maior\n",
    "elif num2 > num3:\n",
    "    maior = num2\n",
    "    # Sabendo que o num2 é o maior, resta descobrir qual dos restantes é o maior e menor\n",
    "    if num1 > num3:\n",
    "        meio = num1\n",
    "        menor = num3\n",
    "    else:\n",
    "        meio = num3\n",
    "        menor = num1\n",
    "# O num3 é assumido como maior, já que todas as outras validações deixaram passar até chegar a esse ponto\n",
    "else:\n",
    "    maior = num3\n",
    "    # Resta descobrir qual dos restantes é o maior e menor\n",
    "    if num1 > num2:\n",
    "        meio = num1\n",
    "        menor = num2\n",
    "    else:\n",
    "        meio = num2\n",
    "        menor = num1"
   ]
  },
  {
   "cell_type": "code",
   "execution_count": null,
   "metadata": {},
   "outputs": [],
   "source": [
    "# Agora é só ordernar na hora de apresentar os dados"
   ]
  },
  {
   "cell_type": "code",
   "execution_count": null,
   "metadata": {},
   "outputs": [],
   "source": [
    "print(f'Os números em ordem descresente são: {menor}, {meio}, {maior}.')"
   ]
  }
 ],
 "metadata": {
  "kernelspec": {
   "display_name": "Python 3",
   "language": "python",
   "name": "python3"
  },
  "language_info": {
   "codemirror_mode": {
    "name": "ipython",
    "version": 3
   },
   "file_extension": ".py",
   "mimetype": "text/x-python",
   "name": "python",
   "nbconvert_exporter": "python",
   "pygments_lexer": "ipython3",
   "version": "3.6.5"
  }
 },
 "nbformat": 4,
 "nbformat_minor": 2
}
