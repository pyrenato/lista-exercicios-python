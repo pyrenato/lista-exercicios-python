{
 "cells": [
  {
   "cell_type": "code",
   "execution_count": null,
   "metadata": {},
   "outputs": [],
   "source": [
    "'''Explicação das funções utilizadas:\n",
    "strip() tira os espaços, caso seja digitado mais de uma coisa sem querer\n",
    "lower() deixa o caracter em minúscula\n",
    "[0] captura apenas o primeiro caracter digitado,\n",
    "sendo assim caso o usuário digite matutino não resultará em erro, pois o programa entenderá apenas m'''"
   ]
  },
  {
   "cell_type": "code",
   "execution_count": null,
   "metadata": {},
   "outputs": [],
   "source": [
    "turno = input('''\n",
    "M - Matutino\n",
    "V - Vespertino\n",
    "N - Noturno\n",
    "Digite o turno que você estuda: ''').strip().lower()[0]"
   ]
  },
  {
   "cell_type": "code",
   "execution_count": null,
   "metadata": {},
   "outputs": [],
   "source": [
    "'''Será testado se o valor digitado é m, v ou n.\n",
    "Qualquer coisa diferente disso será considerado um valor inválido.'''"
   ]
  },
  {
   "cell_type": "code",
   "execution_count": null,
   "metadata": {},
   "outputs": [],
   "source": [
    "if turno == 'm':\n",
    "    print('Bom dia!')\n",
    "elif turno == 'v':\n",
    "    print('Boa tarde!')\n",
    "elif turno == 'n':\n",
    "    print('Boa noite!')\n",
    "else:\n",
    "    print('Valor inválido!')"
   ]
  }
 ],
 "metadata": {
  "kernelspec": {
   "display_name": "Python 3",
   "language": "python",
   "name": "python3"
  },
  "language_info": {
   "codemirror_mode": {
    "name": "ipython",
    "version": 3
   },
   "file_extension": ".py",
   "mimetype": "text/x-python",
   "name": "python",
   "nbconvert_exporter": "python",
   "pygments_lexer": "ipython3",
   "version": "3.6.5"
  }
 },
 "nbformat": 4,
 "nbformat_minor": 2
}
