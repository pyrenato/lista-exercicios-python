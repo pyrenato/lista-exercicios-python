{
 "cells": [
  {
   "cell_type": "code",
   "execution_count": null,
   "metadata": {},
   "outputs": [],
   "source": [
    "num = int(input('Digite um número: '))"
   ]
  },
  {
   "cell_type": "code",
   "execution_count": null,
   "metadata": {},
   "outputs": [],
   "source": [
    "# Pega o número inteiro da centena"
   ]
  },
  {
   "cell_type": "code",
   "execution_count": null,
   "metadata": {},
   "outputs": [],
   "source": [
    "centenas = num // 100"
   ]
  },
  {
   "cell_type": "code",
   "execution_count": null,
   "metadata": {},
   "outputs": [],
   "source": [
    "# Pega o número inteiro da dezena"
   ]
  },
  {
   "cell_type": "code",
   "execution_count": null,
   "metadata": {},
   "outputs": [],
   "source": [
    "dezenas = (num - (centenas * 100)) // 10"
   ]
  },
  {
   "cell_type": "code",
   "execution_count": null,
   "metadata": {},
   "outputs": [],
   "source": [
    "# Pega apenas as unidades"
   ]
  },
  {
   "cell_type": "code",
   "execution_count": null,
   "metadata": {},
   "outputs": [],
   "source": [
    "unidades = num - (centenas * 100) - (dezenas * 10)"
   ]
  },
  {
   "cell_type": "code",
   "execution_count": null,
   "metadata": {},
   "outputs": [],
   "source": [
    "texto = ''"
   ]
  },
  {
   "cell_type": "code",
   "execution_count": null,
   "metadata": {},
   "outputs": [],
   "source": [
    "# Esse contador servirá para a inserção da vírgula posteriormente"
   ]
  },
  {
   "cell_type": "code",
   "execution_count": null,
   "metadata": {},
   "outputs": [],
   "source": [
    "contador = 0"
   ]
  },
  {
   "cell_type": "code",
   "execution_count": null,
   "metadata": {},
   "outputs": [],
   "source": [
    "# Verifica se há centenas\n",
    "if centenas > 0:\n",
    "    contador += 1\n",
    "    texto += str(centenas)\n",
    "    # Verifica se é mais de uma centena\n",
    "    if centenas > 1:\n",
    "        texto += ' centenas '\n",
    "    else:\n",
    "        texto += ' centena '"
   ]
  },
  {
   "cell_type": "code",
   "execution_count": null,
   "metadata": {},
   "outputs": [],
   "source": [
    "# Verifica se há dezenas\n",
    "if dezenas > 0:\n",
    "    contador += 1\n",
    "    if unidades == 0 and centenas != 0:\n",
    "        texto += 'e '\n",
    "    texto += str(dezenas)\n",
    "    \n",
    "    # Veficica se é mais de uma dezena\n",
    "    if dezenas > 1:\n",
    "        texto += ' dezenas '\n",
    "    else:\n",
    "        texto += ' dezena '"
   ]
  },
  {
   "cell_type": "code",
   "execution_count": null,
   "metadata": {},
   "outputs": [],
   "source": [
    "# Verifica se há unidades\n",
    "if unidades > 0:\n",
    "    contador += 1\n",
    "    if centenas != 0 or dezenas != 0:\n",
    "        texto += 'e '\n",
    "    texto  += str(unidades)\n",
    "    \n",
    "    # Verifica se é mais de uma unidade\n",
    "    if unidades > 1:\n",
    "        texto += ' unidades'\n",
    "    else:\n",
    "        texto += ' unidade'"
   ]
  },
  {
   "cell_type": "code",
   "execution_count": null,
   "metadata": {},
   "outputs": [],
   "source": [
    "'''Caso o contador seja igual a 3, significa que a expressão estará completa com centenas, dezenas e unidades.\n",
    "Utilizado o slicing é possível inserir a vírgula.'''"
   ]
  },
  {
   "cell_type": "code",
   "execution_count": null,
   "metadata": {},
   "outputs": [],
   "source": [
    "if contador == 3:\n",
    "    if texto[9] == 's':\n",
    "        print(f'{texto[:10]}, {texto[11:]}')\n",
    "    else:\n",
    "        print(f'{texto[:9]}, {texto[10:]}')\n",
    "else:\n",
    "    print(texto)"
   ]
  }
 ],
 "metadata": {
  "kernelspec": {
   "display_name": "Python 3",
   "language": "python",
   "name": "python3"
  },
  "language_info": {
   "codemirror_mode": {
    "name": "ipython",
    "version": 3
   },
   "file_extension": ".py",
   "mimetype": "text/x-python",
   "name": "python",
   "nbconvert_exporter": "python",
   "pygments_lexer": "ipython3",
   "version": "3.6.5"
  }
 },
 "nbformat": 4,
 "nbformat_minor": 2
}
