{
 "cells": [
  {
   "cell_type": "code",
   "execution_count": null,
   "metadata": {},
   "outputs": [],
   "source": [
    "'''Um ano é bissexto se ele for divisível de forma inteira por 400\n",
    "ou se ele for divisível por 4 de forma inteira ao mesmo tempo que não é divisível por 100'''"
   ]
  },
  {
   "cell_type": "code",
   "execution_count": null,
   "metadata": {},
   "outputs": [],
   "source": [
    "ano = int(input('Digite um ano: '))"
   ]
  },
  {
   "cell_type": "code",
   "execution_count": null,
   "metadata": {},
   "outputs": [],
   "source": [
    "'''Caberia tudo em apenas um if (if ano % 400 == 0 or (ano % 4 == 0 and ano % 100 != 0)),\n",
    "porém ficaria muito grande e confuso. A divisão no elif traz mais clareza ao código."
   ]
  },
  {
   "cell_type": "code",
   "execution_count": null,
   "metadata": {},
   "outputs": [],
   "source": [
    "if ano % 400 == 0:\n",
    "    bissexto = True\n",
    "elif ano % 4 == 0 and ano % 100 != 0:\n",
    "    bissexto = True\n",
    "else:\n",
    "    bissexto = False"
   ]
  },
  {
   "cell_type": "code",
   "execution_count": null,
   "metadata": {},
   "outputs": [],
   "source": [
    "if bissexto == True:\n",
    "    print(f'{ano} é bissexto!')\n",
    "else:\n",
    "    print(f'{ano} não é bissexto!')"
   ]
  }
 ],
 "metadata": {
  "kernelspec": {
   "display_name": "Python 3",
   "language": "python",
   "name": "python3"
  },
  "language_info": {
   "codemirror_mode": {
    "name": "ipython",
    "version": 3
   },
   "file_extension": ".py",
   "mimetype": "text/x-python",
   "name": "python",
   "nbconvert_exporter": "python",
   "pygments_lexer": "ipython3",
   "version": "3.6.5"
  }
 },
 "nbformat": 4,
 "nbformat_minor": 2
}
