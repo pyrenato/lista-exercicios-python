{
 "cells": [
  {
   "cell_type": "code",
   "execution_count": null,
   "metadata": {},
   "outputs": [],
   "source": [
    "data = input('Digite uma data (dd/mm/aaaa): ')"
   ]
  },
  {
   "cell_type": "code",
   "execution_count": null,
   "metadata": {},
   "outputs": [],
   "source": [
    "'''Faz-se o slicing para pegar apenas o dia, o mês e o ano, sem as barras.\n",
    "Deve-se converter para int, pois as validações a seguir não podem ser feitas com strings'''"
   ]
  },
  {
   "cell_type": "code",
   "execution_count": null,
   "metadata": {},
   "outputs": [],
   "source": [
    "dia = int(data[:2])"
   ]
  },
  {
   "cell_type": "code",
   "execution_count": null,
   "metadata": {},
   "outputs": [],
   "source": [
    "mes = int(data[3:5])"
   ]
  },
  {
   "cell_type": "code",
   "execution_count": null,
   "metadata": {},
   "outputs": [],
   "source": [
    "ano = int(data[6:])"
   ]
  },
  {
   "cell_type": "code",
   "execution_count": null,
   "metadata": {},
   "outputs": [],
   "source": [
    "# Tupla com os meses que têm 31 dias"
   ]
  },
  {
   "cell_type": "code",
   "execution_count": null,
   "metadata": {},
   "outputs": [],
   "source": [
    "meses_31 = (1,3,5,7,8,10,12)"
   ]
  },
  {
   "cell_type": "code",
   "execution_count": null,
   "metadata": {},
   "outputs": [],
   "source": [
    "# Tupla com os meses que têm 30 dias"
   ]
  },
  {
   "cell_type": "code",
   "execution_count": null,
   "metadata": {},
   "outputs": [],
   "source": [
    "meses_30 = (4,6,9,11)"
   ]
  },
  {
   "cell_type": "code",
   "execution_count": null,
   "metadata": {},
   "outputs": [],
   "source": [
    "# Verificação se é um ano bissexto ou não"
   ]
  },
  {
   "cell_type": "code",
   "execution_count": null,
   "metadata": {},
   "outputs": [],
   "source": [
    "if ano % 400 == 0:\n",
    "    bissexto = True\n",
    "elif ano % 4 == 0 and ano % 100 != 0:\n",
    "    bissexto = True\n",
    "else:\n",
    "    bissexto = False"
   ]
  },
  {
   "cell_type": "code",
   "execution_count": null,
   "metadata": {},
   "outputs": [],
   "source": [
    "# Inicialmente a data começa como válida, sendo que qualquer irregularidade irá torná-la inválida"
   ]
  },
  {
   "cell_type": "code",
   "execution_count": null,
   "metadata": {},
   "outputs": [],
   "source": [
    "data_valida = True"
   ]
  },
  {
   "cell_type": "code",
   "execution_count": null,
   "metadata": {},
   "outputs": [],
   "source": [
    "# Validação nos meses de 31 dias\n",
    "if mes in meses_31:\n",
    "    if dia < 1 or dia > 31:\n",
    "        data_valida = False\n",
    "        \n",
    "# Validação nos meses de 30 dias\n",
    "elif mes in meses_30:\n",
    "    if dia < 1 or dia > 30:\n",
    "        data_valida = False\n",
    "\n",
    "# Validação do mês de fevereiro, pois dependendo do ano tem 29 ou 28 dias\n",
    "else:\n",
    "    if bissexto is True:\n",
    "        # Validação se o mês é fevereiro\n",
    "        if mes == 2:\n",
    "            # Validação do fevereiro com 29 dias\n",
    "            if dia < 1 or dia > 29:\n",
    "                data_valida = False\n",
    "                \n",
    "        # Essa validação serve para não aceitar um mês maior que 12\n",
    "        else:\n",
    "            data_valida = False\n",
    "    else:\n",
    "        if mes == 2:\n",
    "            # Validação do fevereiro com 28 dias\n",
    "            if dia < 1 or dia > 28:\n",
    "                data_valida = False\n",
    "        else:\n",
    "            data_valida = False"
   ]
  },
  {
   "cell_type": "code",
   "execution_count": null,
   "metadata": {},
   "outputs": [],
   "source": [
    "if data_valida is True:\n",
    "    print(f'{data} é uma data válida')\n",
    "else:\n",
    "    print(f'{data} não é uma data válida!')"
   ]
  }
 ],
 "metadata": {
  "kernelspec": {
   "display_name": "Python 3",
   "language": "python",
   "name": "python3"
  },
  "language_info": {
   "codemirror_mode": {
    "name": "ipython",
    "version": 3
   },
   "file_extension": ".py",
   "mimetype": "text/x-python",
   "name": "python",
   "nbconvert_exporter": "python",
   "pygments_lexer": "ipython3",
   "version": "3.6.5"
  }
 },
 "nbformat": 4,
 "nbformat_minor": 2
}
