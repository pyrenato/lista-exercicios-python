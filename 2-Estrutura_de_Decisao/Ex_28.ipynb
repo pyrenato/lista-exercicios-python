{
 "cells": [
  {
   "cell_type": "code",
   "execution_count": null,
   "metadata": {},
   "outputs": [],
   "source": [
    "from sys import exit"
   ]
  },
  {
   "cell_type": "code",
   "execution_count": null,
   "metadata": {},
   "outputs": [],
   "source": [
    "carne = int(input('''\n",
    "Carnes disponíveis\n",
    "1) Filé Duplo\n",
    "2) Alcatra\n",
    "3) Picanha\n",
    "Escolha o tipo de carne: '''))"
   ]
  },
  {
   "cell_type": "code",
   "execution_count": null,
   "metadata": {},
   "outputs": [],
   "source": [
    "# Validação da opção do tipo da carne"
   ]
  },
  {
   "cell_type": "code",
   "execution_count": null,
   "metadata": {},
   "outputs": [],
   "source": [
    "if carne < 1 or carne > 3:\n",
    "    print('Opção inválida!')\n",
    "    exit()"
   ]
  },
  {
   "cell_type": "code",
   "execution_count": null,
   "metadata": {},
   "outputs": [],
   "source": [
    "kg = float(input('Digite a quantidade de quilos: '))"
   ]
  },
  {
   "cell_type": "code",
   "execution_count": null,
   "metadata": {},
   "outputs": [],
   "source": [
    "# Verificação do tipo da carne e atribuição do preço correspondente"
   ]
  },
  {
   "cell_type": "code",
   "execution_count": null,
   "metadata": {},
   "outputs": [],
   "source": [
    "if carne == 1:\n",
    "    tipo_carne = 'Filé Duplo'\n",
    "    if kg <= 5:\n",
    "        preco = 4.9\n",
    "    else:\n",
    "        preco = 5.8\n",
    "elif carne == 2:\n",
    "    tipo_carne = 'Alcatra'\n",
    "    if kg <= 5:\n",
    "        preco = 5.9\n",
    "    else:\n",
    "        preco = 6.8\n",
    "else:\n",
    "    tipo_carne = 'Picanha'\n",
    "    if kg <= 5:\n",
    "        preco = 6.9\n",
    "    else:\n",
    "        preco = 7.8"
   ]
  },
  {
   "cell_type": "code",
   "execution_count": null,
   "metadata": {},
   "outputs": [],
   "source": [
    "# Cálculo do valor bruto a ser pago"
   ]
  },
  {
   "cell_type": "code",
   "execution_count": null,
   "metadata": {},
   "outputs": [],
   "source": [
    "valor_bruto = kg * preco"
   ]
  },
  {
   "cell_type": "code",
   "execution_count": null,
   "metadata": {},
   "outputs": [],
   "source": [
    "# Verificação se será usado o cartão que dá descontno"
   ]
  },
  {
   "cell_type": "code",
   "execution_count": null,
   "metadata": {},
   "outputs": [],
   "source": [
    "forma_pgto = input('Será utilizado o cartão Tabajara como forma de pagamento (s/n)?').lower()[0]"
   ]
  },
  {
   "cell_type": "code",
   "execution_count": null,
   "metadata": {},
   "outputs": [],
   "source": [
    "# Aplicação (ou não) do desconto"
   ]
  },
  {
   "cell_type": "code",
   "execution_count": null,
   "metadata": {},
   "outputs": [],
   "source": [
    "if forma_pgto == 's':\n",
    "    desconto = valor_bruto * (10 / 100)\n",
    "    valor_total = valor_bruto - desconto\n",
    "else:\n",
    "    desconto = 0\n",
    "    valor_total = valor_bruto"
   ]
  },
  {
   "cell_type": "code",
   "execution_count": null,
   "metadata": {},
   "outputs": [],
   "source": [
    "print(f'''\n",
    "{tipo_carne}          {kg} kg\n",
    "Preço Total        R$ {valor_bruto:.2f}\n",
    "Valor do Desconto  R$ {desconto:.2f}\n",
    "Valor a ser pago   R$ {valor_total:.2f}''')"
   ]
  }
 ],
 "metadata": {
  "kernelspec": {
   "display_name": "Python 3",
   "language": "python",
   "name": "python3"
  },
  "language_info": {
   "codemirror_mode": {
    "name": "ipython",
    "version": 3
   },
   "file_extension": ".py",
   "mimetype": "text/x-python",
   "name": "python",
   "nbconvert_exporter": "python",
   "pygments_lexer": "ipython3",
   "version": "3.6.5"
  }
 },
 "nbformat": 4,
 "nbformat_minor": 2
}
