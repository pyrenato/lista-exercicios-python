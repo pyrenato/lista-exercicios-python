{
 "cells": [
  {
   "cell_type": "code",
   "execution_count": null,
   "metadata": {},
   "outputs": [],
   "source": [
    "from sys import exit"
   ]
  },
  {
   "cell_type": "code",
   "execution_count": null,
   "metadata": {},
   "outputs": [],
   "source": [
    "combustivel = input('''\n",
    "A - Álcool\n",
    "G - Gasolina\n",
    "Escolha o combustível: ''').lower()[0]"
   ]
  },
  {
   "cell_type": "code",
   "execution_count": null,
   "metadata": {},
   "outputs": [],
   "source": [
    "# Validação se opção está dentro da esperada"
   ]
  },
  {
   "cell_type": "code",
   "execution_count": null,
   "metadata": {},
   "outputs": [],
   "source": [
    "if combustivel not in 'ag':\n",
    "    print('Opção inválida!')\n",
    "    exit()"
   ]
  },
  {
   "cell_type": "code",
   "execution_count": null,
   "metadata": {},
   "outputs": [],
   "source": [
    "litros = float(input('Digite a quantidade de litros de combustível: '))"
   ]
  },
  {
   "cell_type": "code",
   "execution_count": null,
   "metadata": {},
   "outputs": [],
   "source": [
    "# Verifica se o combustível é o álcool\n",
    "if combustivel == 'a':\n",
    "    preco = 1.90\n",
    "    valor_bruto = litros * preco\n",
    "    \n",
    "    # Atribuição correta do valor do desconto\n",
    "    if litros <= 20:\n",
    "        desconto = valor_bruto * (3 / 100)\n",
    "    else:\n",
    "        desconto = valor_bruto * (5 / 100)\n",
    "        \n",
    "'''Verifica se o combustível é a gasolina. Não há outra possibilidade,\n",
    "pois se não estiver entre álcool e gasolina a aplicação já haveria sido encerrada anteriormente'''\n",
    "else:\n",
    "    preco = 2.50\n",
    "    valor_bruto = litros * preco\n",
    "    \n",
    "    # Atribuição correta do valor do desconto\n",
    "    if litros <= 20:\n",
    "        desconto = valor_bruto * (4 / 100)\n",
    "    else:\n",
    "        desconto = valor_bruto * (6 / 100)"
   ]
  },
  {
   "cell_type": "code",
   "execution_count": null,
   "metadata": {},
   "outputs": [],
   "source": [
    "valor_liquido = valor_bruto - desconto"
   ]
  },
  {
   "cell_type": "code",
   "execution_count": null,
   "metadata": {},
   "outputs": [],
   "source": [
    "print(f'Valor total a ser pago R$ {valor_liquido:.2f}')"
   ]
  }
 ],
 "metadata": {
  "kernelspec": {
   "display_name": "Python 3",
   "language": "python",
   "name": "python3"
  },
  "language_info": {
   "codemirror_mode": {
    "name": "ipython",
    "version": 3
   },
   "file_extension": ".py",
   "mimetype": "text/x-python",
   "name": "python",
   "nbconvert_exporter": "python",
   "pygments_lexer": "ipython3",
   "version": "3.6.5"
  }
 },
 "nbformat": 4,
 "nbformat_minor": 2
}
