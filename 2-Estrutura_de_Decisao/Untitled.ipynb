{
 "cells": [
  {
   "cell_type": "code",
   "execution_count": 36,
   "metadata": {},
   "outputs": [],
   "source": [
    "valor_hora = float(input('Digite o valor da hora trabalhada: '))"
   ]
  },
  {
   "cell_type": "code",
   "execution_count": 37,
   "metadata": {},
   "outputs": [],
   "source": [
    "horas_trabalhadas = int(input('Digite a quantidade de horas trabalhadas: '))"
   ]
  },
  {
   "cell_type": "code",
   "execution_count": 38,
   "metadata": {},
   "outputs": [],
   "source": [
    "salario_bruto = valor_hora * horas_trabalhadas"
   ]
  },
  {
   "cell_type": "code",
   "execution_count": 39,
   "metadata": {},
   "outputs": [],
   "source": [
    "if salario_bruto <= 900:\n",
    "    ir = 0\n",
    "elif salario_bruto <= 1500:\n",
    "    ir = salario_bruto * (5 / 100)\n",
    "elif salario_bruto <= 2500:\n",
    "    ir = salario_bruto * (10 /100)\n",
    "else:\n",
    "    ir = salario_bruto * (20 / 100)"
   ]
  },
  {
   "cell_type": "code",
   "execution_count": 40,
   "metadata": {},
   "outputs": [],
   "source": [
    "inss = salario_bruto * (10 / 100)"
   ]
  },
  {
   "cell_type": "code",
   "execution_count": 41,
   "metadata": {},
   "outputs": [],
   "source": [
    "sindicato = salario_bruto * (3 / 100)"
   ]
  },
  {
   "cell_type": "code",
   "execution_count": 42,
   "metadata": {},
   "outputs": [],
   "source": [
    "fgts = salario_bruto * (11 / 100)"
   ]
  },
  {
   "cell_type": "code",
   "execution_count": 47,
   "metadata": {},
   "outputs": [],
   "source": [
    "descontos = ir + inss + sindicato"
   ]
  },
  {
   "cell_type": "code",
   "execution_count": 48,
   "metadata": {},
   "outputs": [],
   "source": [
    "salario_liquido = salario_bruto - descontos"
   ]
  },
  {
   "cell_type": "code",
   "execution_count": 49,
   "metadata": {},
   "outputs": [
    {
     "name": "stdout",
     "output_type": "stream",
     "text": [
      "\n",
      "Salário bruto.......... R$ 1100.00\n",
      "(-) IR................. R$ 55.00\n",
      "(-) INSS............... R$ 110.00\n",
      "FGTS................... R$ 121.00\n",
      "Total de descontos..... R$ 165.00\n",
      "Salário líquido........ R$ 935.00\n"
     ]
    }
   ],
   "source": [
    "print(f'''\n",
    "Salário bruto.......... R$ {salario_bruto:.2f}\n",
    "(-) IR................. R$ {ir:.2f}\n",
    "(-) INSS............... R$ {inss:.2f}\n",
    "FGTS................... R$ {fgts:.2f}\n",
    "Total de descontos..... R$ {descontos:.2f}\n",
    "Salário líquido........ R$ {salario_liquido:.2f}''')"
   ]
  },
  {
   "cell_type": "code",
   "execution_count": null,
   "metadata": {},
   "outputs": [],
   "source": []
  }
 ],
 "metadata": {
  "kernelspec": {
   "display_name": "Python 3",
   "language": "python",
   "name": "python3"
  },
  "language_info": {
   "codemirror_mode": {
    "name": "ipython",
    "version": 3
   },
   "file_extension": ".py",
   "mimetype": "text/x-python",
   "name": "python",
   "nbconvert_exporter": "python",
   "pygments_lexer": "ipython3",
   "version": "3.6.5"
  }
 },
 "nbformat": 4,
 "nbformat_minor": 2
}
