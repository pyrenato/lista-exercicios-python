{
 "cells": [
  {
   "cell_type": "code",
   "execution_count": null,
   "metadata": {},
   "outputs": [],
   "source": [
    "lista_temperaturas = list()"
   ]
  },
  {
   "cell_type": "code",
   "execution_count": null,
   "metadata": {},
   "outputs": [],
   "source": [
    "contador = 1"
   ]
  },
  {
   "cell_type": "code",
   "execution_count": null,
   "metadata": {},
   "outputs": [],
   "source": [
    "# O loop adiciona a temperatura digitada a uma lista\n",
    "while True:\n",
    "    temp = float(input(f'Digite a {contador}ª temperatura: '))\n",
    "    lista_temperaturas.append(temp)\n",
    "    contador += 1\n",
    "    \n",
    "    # Validação de continuidade de execução da aplicação\n",
    "    continuar = input('Deseja adicionar mais temperaturas (s/n)? ').lower()[0]\n",
    "    \n",
    "    if continuar == 'n':\n",
    "        break"
   ]
  },
  {
   "cell_type": "code",
   "execution_count": null,
   "metadata": {},
   "outputs": [],
   "source": [
    "media = sum(lista_temperaturas) / len(lista_temperaturas)"
   ]
  },
  {
   "cell_type": "code",
   "execution_count": null,
   "metadata": {},
   "outputs": [],
   "source": [
    "# Apresentação dos Dados"
   ]
  },
  {
   "cell_type": "code",
   "execution_count": null,
   "metadata": {},
   "outputs": [],
   "source": [
    "print(f'''\n",
    "Maior temperatura: {max(lista_temperaturas)}\n",
    "Menor temperatura: {min(lista_temperaturas)}\n",
    "Média de temperaturas: {media:.2f}''')"
   ]
  }
 ],
 "metadata": {
  "kernelspec": {
   "display_name": "Python 3",
   "language": "python",
   "name": "python3"
  },
  "language_info": {
   "codemirror_mode": {
    "name": "ipython",
    "version": 3
   },
   "file_extension": ".py",
   "mimetype": "text/x-python",
   "name": "python",
   "nbconvert_exporter": "python",
   "pygments_lexer": "ipython3",
   "version": "3.6.5"
  }
 },
 "nbformat": 4,
 "nbformat_minor": 2
}
