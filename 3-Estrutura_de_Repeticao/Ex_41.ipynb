{
 "cells": [
  {
   "cell_type": "code",
   "execution_count": null,
   "metadata": {},
   "outputs": [],
   "source": [
    "divida = float(input('Digite o valor da dívida: R$ '))"
   ]
  },
  {
   "cell_type": "code",
   "execution_count": null,
   "metadata": {},
   "outputs": [],
   "source": [
    "# Apresentação do cabeçalho da tabela\n",
    "print('Valor da Dívida | Valor dos Juros | Qtd de Parcelas | Valor da Pacela')\n",
    "for valor in range(5):\n",
    "    # Na primeira execução do laço as variáveis juros e parcelas são criadas\n",
    "    if valor == 0:\n",
    "        juros = 0\n",
    "        parcelas = 1\n",
    "        \n",
    "    # É necessária essa validação na segunda execução pois caso contrário a incrementação aconteceria de forma equivocada\n",
    "    elif valor == 1:\n",
    "        juros = 10\n",
    "        # Nesse caso soma-se 2 pois a primeira parcela já está com o valor 1\n",
    "        parcelas += 2\n",
    "        \n",
    "    # A partir desse ponto já acontece apenas a incrementação dos valores normalmente\n",
    "    else:\n",
    "        juros += 5\n",
    "        parcelas += 3\n",
    "    \n",
    "    # Cálculo da dívida\n",
    "    divida += divida * (juros / 100)\n",
    "    \n",
    "    # Cálculo das parcelas\n",
    "    valor_parcela = divida / parcelas\n",
    "    \n",
    "    # Apresentação dos dados\n",
    "    print(f\"  R$ {divida:2.2f} {juros:>12}%{parcelas:>18}{'R$':>13} {valor_parcela:>.2f}\")"
   ]
  }
 ],
 "metadata": {
  "kernelspec": {
   "display_name": "Python 3",
   "language": "python",
   "name": "python3"
  },
  "language_info": {
   "codemirror_mode": {
    "name": "ipython",
    "version": 3
   },
   "file_extension": ".py",
   "mimetype": "text/x-python",
   "name": "python",
   "nbconvert_exporter": "python",
   "pygments_lexer": "ipython3",
   "version": "3.6.5"
  }
 },
 "nbformat": 4,
 "nbformat_minor": 2
}
