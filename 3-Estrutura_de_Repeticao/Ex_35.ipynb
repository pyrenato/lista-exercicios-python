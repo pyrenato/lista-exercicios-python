{
 "cells": [
  {
   "cell_type": "code",
   "execution_count": null,
   "metadata": {},
   "outputs": [],
   "source": [
    "# Esse exercício é quase igual ao 23"
   ]
  },
  {
   "cell_type": "code",
   "execution_count": null,
   "metadata": {},
   "outputs": [],
   "source": [
    "numero = int(input('Digite um número: '))"
   ]
  },
  {
   "cell_type": "code",
   "execution_count": null,
   "metadata": {},
   "outputs": [],
   "source": [
    "numeros_primos = []"
   ]
  },
  {
   "cell_type": "code",
   "execution_count": null,
   "metadata": {},
   "outputs": [],
   "source": [
    "# Esse for irá percorrer de um por um o número digitado\n",
    "for num in range(1,numero+1):\n",
    "    # Uma lista vazia será criada a cada execução do laço para a verificação do número primo\n",
    "    numeros_divisiveis = []\n",
    "    \n",
    "    # Verificação do número primo\n",
    "    for num_primo in range(num, 0, -1):        \n",
    "        if num % num_primo == 0:\n",
    "            numeros_divisiveis.append(num_primo)\n",
    "            \n",
    "    \n",
    "    # Caso o número seja primo será adicionado na lista dos números primos\n",
    "    if len(numeros_divisiveis) == 2:\n",
    "        numeros_primos.append(num)"
   ]
  },
  {
   "cell_type": "code",
   "execution_count": null,
   "metadata": {},
   "outputs": [],
   "source": [
    "print(f'Entre 1 e {numero} existem {len(numeros_primos)} números primos, sendo eles: ', end='')\n",
    "for num in numeros_primos:\n",
    "    print(num, end=' ')"
   ]
  }
 ],
 "metadata": {
  "kernelspec": {
   "display_name": "Python 3",
   "language": "python",
   "name": "python3"
  },
  "language_info": {
   "codemirror_mode": {
    "name": "ipython",
    "version": 3
   },
   "file_extension": ".py",
   "mimetype": "text/x-python",
   "name": "python",
   "nbconvert_exporter": "python",
   "pygments_lexer": "ipython3",
   "version": "3.6.5"
  }
 },
 "nbformat": 4,
 "nbformat_minor": 2
}
