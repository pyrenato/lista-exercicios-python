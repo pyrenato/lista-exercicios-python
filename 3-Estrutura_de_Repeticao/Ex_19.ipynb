{
 "cells": [
  {
   "cell_type": "code",
   "execution_count": null,
   "metadata": {},
   "outputs": [],
   "source": [
    "lista_numeros = []"
   ]
  },
  {
   "cell_type": "code",
   "execution_count": null,
   "metadata": {},
   "outputs": [],
   "source": [
    "''' O while dentro do for verifica se o número está dentro do que foi estipulado,\n",
    "note que o break irá parar apenas o while e o for continuará a ser executado.'''"
   ]
  },
  {
   "cell_type": "code",
   "execution_count": null,
   "metadata": {},
   "outputs": [],
   "source": [
    "for num in range(5):\n",
    "    while True:\n",
    "        numero = int(input(f'Digite o {num+1}º número (entre 0 e 1000): '))\n",
    "        if numero >= 0 and numero <= 1000:\n",
    "            lista_numeros.append(numero)\n",
    "            break\n",
    "        else:\n",
    "            print('Número inválido!\\n')"
   ]
  },
  {
   "cell_type": "code",
   "execution_count": null,
   "metadata": {},
   "outputs": [],
   "source": [
    "print(f'{max(lista_numeros)} é o valor máximo')"
   ]
  },
  {
   "cell_type": "code",
   "execution_count": null,
   "metadata": {},
   "outputs": [],
   "source": [
    "print(f'A soma dos valores é igual a {sum(lista_numeros)}')"
   ]
  }
 ],
 "metadata": {
  "kernelspec": {
   "display_name": "Python 3",
   "language": "python",
   "name": "python3"
  },
  "language_info": {
   "codemirror_mode": {
    "name": "ipython",
    "version": 3
   },
   "file_extension": ".py",
   "mimetype": "text/x-python",
   "name": "python",
   "nbconvert_exporter": "python",
   "pygments_lexer": "ipython3",
   "version": "3.6.5"
  }
 },
 "nbformat": 4,
 "nbformat_minor": 2
}
