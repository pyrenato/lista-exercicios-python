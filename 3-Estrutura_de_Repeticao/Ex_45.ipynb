{
 "cells": [
  {
   "cell_type": "code",
   "execution_count": null,
   "metadata": {},
   "outputs": [],
   "source": [
    "# Caso o professor queira inserir o gabarito essa célula NÃO deve ser executada\n",
    "gabarito = ['a', 'b', 'c', 'd', 'e', 'e', 'd', 'c', 'b', 'a']"
   ]
  },
  {
   "cell_type": "code",
   "execution_count": null,
   "metadata": {},
   "outputs": [],
   "source": [
    "# Essa lista de alunos terá o conceito de lista dentro de lista, o que na verdade é uma matriz\n",
    "lista_alunos = []"
   ]
  },
  {
   "cell_type": "code",
   "execution_count": null,
   "metadata": {},
   "outputs": [],
   "source": [
    "lista_corretas = []"
   ]
  },
  {
   "cell_type": "code",
   "execution_count": null,
   "metadata": {},
   "outputs": [],
   "source": [
    "corretas = 0"
   ]
  },
  {
   "cell_type": "code",
   "execution_count": null,
   "metadata": {},
   "outputs": [],
   "source": [
    "# Essa célula só deve ser executada se o professor desejar inserir o gabarito diferente do que foi passado no exerício.\n",
    "gabarito = []\n",
    "for gab in range(10):\n",
    "    resposta = input(f'Digite o gabarito da {gab+1}ª questão: ').lower()\n",
    "    gabarito.append(resposta)"
   ]
  },
  {
   "cell_type": "code",
   "execution_count": null,
   "metadata": {},
   "outputs": [],
   "source": [
    "# Laço para repetição da inserção dos dados\n",
    "while True:\n",
    "    # A cada repetição do laço essa lista é limpada, pois a resposta de um aluno não deve servir para o próximo\n",
    "    respostas = []\n",
    "    \n",
    "    # Inserção das respostas do aluno\n",
    "    for questao in range(10):\n",
    "        resp = input(f'Resposta da {questao+1}ª questão: ').lower()\n",
    "        # Todas as respostas são adicionadas a uma lista chamada respostas\n",
    "        respostas.append(resp)\n",
    "    # Essa lista resposta por sua vez é adicionada a uma lista de alunos, ou seja, o aluno 1 tem uma lista de repostas, o 2 outra, e assim por diante\n",
    "    lista_alunos.append(respostas)\n",
    "    \n",
    "    # Verificação da continuidade do loop\n",
    "    continuar = input('Deseja continuar (s/n)? ').lower()[0]\n",
    "    if continuar == 'n':\n",
    "        break"
   ]
  },
  {
   "cell_type": "code",
   "execution_count": null,
   "metadata": {},
   "outputs": [],
   "source": [
    "# Verificação das respostas corretas\n",
    "for aluno in range(len(lista_alunos)):\n",
    "    # Variável de controle\n",
    "    contador = 0\n",
    "    \n",
    "    # Variável que é zerada a cada repetição desse laço, pois igual anteriormente a resposta de um aluno não pode interferir na do outro\n",
    "    corretas = 0\n",
    "    \n",
    "    # Esse laço verifica se a resposta de cada aluno bate com a do gabarito\n",
    "    for resp in lista_alunos[aluno]:\n",
    "        if resp == gabarito[contador]:\n",
    "            corretas += 1\n",
    "        contador += 1\n",
    "    # A cada final desse laço é inserido em uma lista a quantidade de respostas corretas\n",
    "    lista_corretas.append(corretas)"
   ]
  },
  {
   "cell_type": "code",
   "execution_count": null,
   "metadata": {},
   "outputs": [],
   "source": [
    "# Verificação do maior e menor acerto, bem como o cálculo da média"
   ]
  },
  {
   "cell_type": "code",
   "execution_count": null,
   "metadata": {},
   "outputs": [],
   "source": [
    "maior_acerto = max(lista_corretas)"
   ]
  },
  {
   "cell_type": "code",
   "execution_count": null,
   "metadata": {},
   "outputs": [],
   "source": [
    "menor_acerto = min(lista_corretas)"
   ]
  },
  {
   "cell_type": "code",
   "execution_count": null,
   "metadata": {},
   "outputs": [],
   "source": [
    "media = sum(lista_corretas) / len(lista_corretas)"
   ]
  },
  {
   "cell_type": "code",
   "execution_count": null,
   "metadata": {},
   "outputs": [],
   "source": [
    "# Apresentação dos dados"
   ]
  },
  {
   "cell_type": "code",
   "execution_count": null,
   "metadata": {},
   "outputs": [],
   "source": [
    "print(f'''\n",
    "Maior quantidade de acertos: {maior_acerto}\n",
    "Menor quantidade de acertos: {menor_acerto}\n",
    "Quantidade de alunos que utilizaram o sistema: {len(lista_alunos)} alunos\n",
    "Média de notas: {media:.2f}''')"
   ]
  }
 ],
 "metadata": {
  "kernelspec": {
   "display_name": "Python 3",
   "language": "python",
   "name": "python3"
  },
  "language_info": {
   "codemirror_mode": {
    "name": "ipython",
    "version": 3
   },
   "file_extension": ".py",
   "mimetype": "text/x-python",
   "name": "python",
   "nbconvert_exporter": "python",
   "pygments_lexer": "ipython3",
   "version": "3.6.5"
  }
 },
 "nbformat": 4,
 "nbformat_minor": 2
}
