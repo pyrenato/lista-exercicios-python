{
 "cells": [
  {
   "cell_type": "code",
   "execution_count": null,
   "metadata": {},
   "outputs": [],
   "source": [
    "# Esse exerício é bem parecido com o 49, a diferença é que o numerador não muda, é sempre 1"
   ]
  },
  {
   "cell_type": "code",
   "execution_count": null,
   "metadata": {},
   "outputs": [],
   "source": [
    "termo = int(input('Digite até qual termo deseja obter a soma: '))"
   ]
  },
  {
   "cell_type": "code",
   "execution_count": null,
   "metadata": {},
   "outputs": [],
   "source": [
    "soma = 0"
   ]
  },
  {
   "cell_type": "code",
   "execution_count": null,
   "metadata": {},
   "outputs": [],
   "source": [
    "for num in range(termo):\n",
    "    if num == 0:\n",
    "        numerador = 1\n",
    "        denominador = 1\n",
    "        print(f'H = {numerador}/{denominador} +', end='')\n",
    "    else:\n",
    "        denominador += 1\n",
    "        if num == termo - 1:\n",
    "            print(f' {numerador}/{denominador}', end='')\n",
    "        else:\n",
    "            print(f' {numerador}/{denominador} +', end='')\n",
    "        \n",
    "    \n",
    "    soma += numerador / denominador"
   ]
  },
  {
   "cell_type": "code",
   "execution_count": null,
   "metadata": {},
   "outputs": [],
   "source": [
    "print(f'A soma total é igual a {soma:.2f}')"
   ]
  }
 ],
 "metadata": {
  "kernelspec": {
   "display_name": "Python 3",
   "language": "python",
   "name": "python3"
  },
  "language_info": {
   "codemirror_mode": {
    "name": "ipython",
    "version": 3
   },
   "file_extension": ".py",
   "mimetype": "text/x-python",
   "name": "python",
   "nbconvert_exporter": "python",
   "pygments_lexer": "ipython3",
   "version": "3.6.5"
  }
 },
 "nbformat": 4,
 "nbformat_minor": 2
}
