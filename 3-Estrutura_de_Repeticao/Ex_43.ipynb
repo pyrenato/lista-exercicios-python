{
 "cells": [
  {
   "cell_type": "code",
   "execution_count": null,
   "metadata": {},
   "outputs": [],
   "source": [
    "produtos = ['Cachorro Quente', 'Bauru Simples', 'Bauru com Ovo', 'Hambúrguer', 'Cheeseburger', 'Refrigerante']"
   ]
  },
  {
   "cell_type": "code",
   "execution_count": null,
   "metadata": {},
   "outputs": [],
   "source": [
    "codigos = [100, 101, 102, 103, 104, 105]"
   ]
  },
  {
   "cell_type": "code",
   "execution_count": null,
   "metadata": {},
   "outputs": [],
   "source": [
    "precos = [1.20, 1.30, 1.50, 1.20, 1.30, 1.00]"
   ]
  },
  {
   "cell_type": "code",
   "execution_count": null,
   "metadata": {},
   "outputs": [],
   "source": [
    "# Apresentação do Cardápio"
   ]
  },
  {
   "cell_type": "code",
   "execution_count": null,
   "metadata": {},
   "outputs": [],
   "source": [
    "print('Especificação  | Código |  Preço')\n",
    "for item in range(len(produtos)):\n",
    "    print(f'{produtos[item]:17} {codigos[item]:<7} R${precos[item]:<.2f}')"
   ]
  },
  {
   "cell_type": "code",
   "execution_count": null,
   "metadata": {},
   "outputs": [],
   "source": [
    "continua = True"
   ]
  },
  {
   "cell_type": "code",
   "execution_count": null,
   "metadata": {},
   "outputs": [],
   "source": [
    "total = 0"
   ]
  },
  {
   "cell_type": "code",
   "execution_count": null,
   "metadata": {},
   "outputs": [],
   "source": [
    "# Laço de repetição que insere os dados do pedido\n",
    "while continua is True:\n",
    "    while True:\n",
    "        cod = int(input('Digite o código do produto: '))\n",
    "        \n",
    "        # Validação do código\n",
    "        if cod in codigos:\n",
    "            qtd = int(input(f'Digite a quantidade do produto: '))\n",
    "            \n",
    "            # Esse break para a validação do código, ou seja, o código é válido\n",
    "            break\n",
    "        else:\n",
    "            print('\\nCódigo inválido!')\n",
    "    \n",
    "    # Cálculo parcial do preço\n",
    "    parcial = precos[codigos.index(cod)] * qtd\n",
    "    \n",
    "    # Soma total dos pedidos\n",
    "    total += parcial\n",
    "    \n",
    "    # Validação da continuidade do programa\n",
    "    continua = input('Deseja continuar (s/n)? ').lower()[0]\n",
    "    if continua == 'n':\n",
    "        continua = False\n",
    "    else:\n",
    "        continua = True\n",
    "        "
   ]
  },
  {
   "cell_type": "code",
   "execution_count": null,
   "metadata": {},
   "outputs": [],
   "source": [
    "# Apresentação dos dados"
   ]
  },
  {
   "cell_type": "code",
   "execution_count": null,
   "metadata": {},
   "outputs": [],
   "source": [
    "print(f'Valor total do pedido R$ {total:.2f}')"
   ]
  }
 ],
 "metadata": {
  "kernelspec": {
   "display_name": "Python 3",
   "language": "python",
   "name": "python3"
  },
  "language_info": {
   "codemirror_mode": {
    "name": "ipython",
    "version": 3
   },
   "file_extension": ".py",
   "mimetype": "text/x-python",
   "name": "python",
   "nbconvert_exporter": "python",
   "pygments_lexer": "ipython3",
   "version": "3.6.5"
  }
 },
 "nbformat": 4,
 "nbformat_minor": 2
}
