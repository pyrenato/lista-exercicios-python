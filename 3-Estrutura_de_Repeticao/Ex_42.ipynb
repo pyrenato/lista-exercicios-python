{
 "cells": [
  {
   "cell_type": "code",
   "execution_count": null,
   "metadata": {},
   "outputs": [],
   "source": [
    "intervalo1 = 0 # números de 0 a 25"
   ]
  },
  {
   "cell_type": "code",
   "execution_count": null,
   "metadata": {},
   "outputs": [],
   "source": [
    "intervalo2 = 0 # números de 26 a 50"
   ]
  },
  {
   "cell_type": "code",
   "execution_count": null,
   "metadata": {},
   "outputs": [],
   "source": [
    "intervalo3 = 0 # números de 51 a 75"
   ]
  },
  {
   "cell_type": "code",
   "execution_count": null,
   "metadata": {},
   "outputs": [],
   "source": [
    "intervalo4 = 0 # números de 76 a 10"
   ]
  },
  {
   "cell_type": "code",
   "execution_count": null,
   "metadata": {},
   "outputs": [],
   "source": [
    "while True:\n",
    "    numero = int(input('Insira um número de 0 a 100 (digite um negativo para parar): '))\n",
    "    \n",
    "    # Validação se o número está entre 0 e 100\n",
    "    if numero <= 100:        \n",
    "        # Validação se o número é negativo, para parar a execução do loop\n",
    "        if numero < 0:               \n",
    "            break\n",
    "            \n",
    "        # Verificação do intervalo\n",
    "        else:            \n",
    "            if numero <= 25:\n",
    "                intervalo1 += 1\n",
    "            elif numero <= 50:\n",
    "                intervalo2 += 1\n",
    "            elif numero <= 75:\n",
    "                intervalo3 += 1\n",
    "            else:\n",
    "                intervalo4 += 1\n",
    "    else:\n",
    "        print('\\nNúmero inválido!')\n",
    "    "
   ]
  },
  {
   "cell_type": "code",
   "execution_count": null,
   "metadata": {},
   "outputs": [],
   "source": [
    "# Apresentação dos Dados"
   ]
  },
  {
   "cell_type": "code",
   "execution_count": null,
   "metadata": {},
   "outputs": [],
   "source": [
    "print(f'''\n",
    "De 0 a 25: {intervalo1} números\n",
    "De 26 a 50: {intervalo2} números\n",
    "De 51 a 75: {intervalo3} números\n",
    "De 76 a 100: {intervalo4} números''')"
   ]
  }
 ],
 "metadata": {
  "kernelspec": {
   "display_name": "Python 3",
   "language": "python",
   "name": "python3"
  },
  "language_info": {
   "codemirror_mode": {
    "name": "ipython",
    "version": 3
   },
   "file_extension": ".py",
   "mimetype": "text/x-python",
   "name": "python",
   "nbconvert_exporter": "python",
   "pygments_lexer": "ipython3",
   "version": "3.6.5"
  }
 },
 "nbformat": 4,
 "nbformat_minor": 2
}
