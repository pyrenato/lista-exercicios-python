{
 "cells": [
  {
   "cell_type": "code",
   "execution_count": null,
   "metadata": {},
   "outputs": [],
   "source": [
    "fatorial = 1"
   ]
  },
  {
   "cell_type": "code",
   "execution_count": null,
   "metadata": {},
   "outputs": [],
   "source": [
    "continuar = True"
   ]
  },
  {
   "cell_type": "code",
   "execution_count": null,
   "metadata": {},
   "outputs": [],
   "source": [
    "# While para repetir a operação\n",
    "while continuar is True:\n",
    "    \n",
    "    # While para verificação se o número está entre os valores permitidos\n",
    "    while True:\n",
    "        numero = int(input('Digite um número (entre 1 e 16): '))\n",
    "        if numero > 0 and numero <= 16:\n",
    "            break\n",
    "        else:\n",
    "            print('Número inválido!\\n')\n",
    "    \n",
    "    # Cálculo e apresentação do fatorial\n",
    "    for num in range(numero,0,-1):\n",
    "        fatorial *= num\n",
    "        if num == numero:\n",
    "            print(f'{num}! = {num} x', end=' ')\n",
    "        elif num == 1:\n",
    "            print(f'{num} = {fatorial}')\n",
    "        else:\n",
    "            print(f'{num} x ', end='')\n",
    "    \n",
    "    # Verificação de continuidade\n",
    "    continuar = input('Deseja realizar uma nova operação (s/n)? ').lower()[0]\n",
    "    \n",
    "    if continuar == 'n':\n",
    "        continuar = False   \n",
    "    else:\n",
    "        continuar = True"
   ]
  }
 ],
 "metadata": {
  "kernelspec": {
   "display_name": "Python 3",
   "language": "python",
   "name": "python3"
  },
  "language_info": {
   "codemirror_mode": {
    "name": "ipython",
    "version": 3
   },
   "file_extension": ".py",
   "mimetype": "text/x-python",
   "name": "python",
   "nbconvert_exporter": "python",
   "pygments_lexer": "ipython3",
   "version": "3.6.5"
  }
 },
 "nbformat": 4,
 "nbformat_minor": 2
}
