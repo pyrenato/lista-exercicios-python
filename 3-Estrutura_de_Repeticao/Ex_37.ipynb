{
 "cells": [
  {
   "cell_type": "code",
   "execution_count": null,
   "metadata": {},
   "outputs": [],
   "source": [
    "lista_codigos = list()"
   ]
  },
  {
   "cell_type": "code",
   "execution_count": null,
   "metadata": {},
   "outputs": [],
   "source": [
    "lista_alturas = list()"
   ]
  },
  {
   "cell_type": "code",
   "execution_count": null,
   "metadata": {},
   "outputs": [],
   "source": [
    "lista_pesos = list()"
   ]
  },
  {
   "cell_type": "code",
   "execution_count": null,
   "metadata": {},
   "outputs": [],
   "source": [
    "contador = 1"
   ]
  },
  {
   "cell_type": "code",
   "execution_count": null,
   "metadata": {},
   "outputs": [],
   "source": [
    "# Insersão dos dados nas respectivas listas\n",
    "while True:\n",
    "    codigo = int(input(f'Código do {contador}º aluno: '))\n",
    "    \n",
    "    # Validação de continuação\n",
    "    if codigo == 0:\n",
    "        break\n",
    "    else:\n",
    "        lista_codigos.append(codigo)\n",
    "    altura = float(input(f'Altura do {contador}º aluno: '))\n",
    "    lista_alturas.append(altura)\n",
    "    peso = float(input(f'Peso do {contador}º aluno: '))\n",
    "    lista_pesos.append(peso)\n",
    "    \n",
    "    contador += 1"
   ]
  },
  {
   "cell_type": "code",
   "execution_count": null,
   "metadata": {},
   "outputs": [],
   "source": [
    "'''A variavel mais_alto está recebendo o índice da maior altura,\n",
    "como foi inserido o código, altura e peso de um aluno por vez; os índices das listas se correspondem, ou seja,\n",
    "o índice 1 da lista de alturas corresponde ao 1 da lista de codigos e por sua vez, ao 1 da lista de pesos.\n",
    "Assim tendo o índice do mais alto consegue-se ter o índice do código, que será o mesmo.\n",
    "Foi feito esse mesmo procedimento para todas as validações.'''"
   ]
  },
  {
   "cell_type": "code",
   "execution_count": null,
   "metadata": {},
   "outputs": [],
   "source": [
    "mais_alto = lista_alturas.index(max(lista_alturas))"
   ]
  },
  {
   "cell_type": "code",
   "execution_count": null,
   "metadata": {},
   "outputs": [],
   "source": [
    "mais_baixo = lista_alturas.index(min(lista_alturas))"
   ]
  },
  {
   "cell_type": "code",
   "execution_count": null,
   "metadata": {},
   "outputs": [],
   "source": [
    "mais_gordo = lista_pesos.index(max(lista_pesos))"
   ]
  },
  {
   "cell_type": "code",
   "execution_count": null,
   "metadata": {},
   "outputs": [],
   "source": [
    "mais_magro = lista_pesos.index(min(lista_pesos))"
   ]
  },
  {
   "cell_type": "code",
   "execution_count": null,
   "metadata": {},
   "outputs": [],
   "source": [
    "# Apresentação dos dados"
   ]
  },
  {
   "cell_type": "code",
   "execution_count": null,
   "metadata": {},
   "outputs": [],
   "source": [
    "print(f'''Mais alto:\n",
    "Código: {lista_codigos[mais_alto]}\\nAltura: {max(lista_alturas):.2f}m''')"
   ]
  },
  {
   "cell_type": "code",
   "execution_count": null,
   "metadata": {},
   "outputs": [],
   "source": [
    "print(f'''Mais baixo:\n",
    "Código: {lista_codigos[mais_baixo]}\\nAltura: {min(lista_alturas):.2f}m''')"
   ]
  },
  {
   "cell_type": "code",
   "execution_count": null,
   "metadata": {},
   "outputs": [],
   "source": [
    "print(f'''Mais gordo:\n",
    "Código: {lista_codigos[mais_gordo]}\\nPeso: {max(lista_pesos):.2f}kg''')"
   ]
  },
  {
   "cell_type": "code",
   "execution_count": null,
   "metadata": {},
   "outputs": [],
   "source": [
    "print(f'''Mais magro:\n",
    "Código: {lista_codigos[mais_magro]}\\nPeso: {min(lista_pesos):.2f}kg''')"
   ]
  },
  {
   "cell_type": "code",
   "execution_count": null,
   "metadata": {},
   "outputs": [],
   "source": [
    "media_alturas = sum(lista_alturas) / len(lista_alturas)"
   ]
  },
  {
   "cell_type": "code",
   "execution_count": null,
   "metadata": {},
   "outputs": [],
   "source": [
    "media_pesos = sum(lista_pesos) / len(lista_pesos)"
   ]
  },
  {
   "cell_type": "code",
   "execution_count": null,
   "metadata": {},
   "outputs": [],
   "source": [
    "print(f'Média das alturas: {media_alturas:.2f}m')"
   ]
  },
  {
   "cell_type": "code",
   "execution_count": null,
   "metadata": {},
   "outputs": [],
   "source": [
    "print(f'Média dos pesos: {media_pesos:.2f}kg')"
   ]
  }
 ],
 "metadata": {
  "kernelspec": {
   "display_name": "Python 3",
   "language": "python",
   "name": "python3"
  },
  "language_info": {
   "codemirror_mode": {
    "name": "ipython",
    "version": 3
   },
   "file_extension": ".py",
   "mimetype": "text/x-python",
   "name": "python",
   "nbconvert_exporter": "python",
   "pygments_lexer": "ipython3",
   "version": "3.6.5"
  }
 },
 "nbformat": 4,
 "nbformat_minor": 2
}
