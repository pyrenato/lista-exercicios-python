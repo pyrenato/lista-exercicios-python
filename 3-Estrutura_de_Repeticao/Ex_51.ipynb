{
 "cells": [
  {
   "cell_type": "code",
   "execution_count": null,
   "metadata": {},
   "outputs": [],
   "source": [
    "# Esse exercício é igual ao 49"
   ]
  },
  {
   "cell_type": "code",
   "execution_count": null,
   "metadata": {},
   "outputs": [],
   "source": [
    "soma = 0"
   ]
  },
  {
   "cell_type": "code",
   "execution_count": null,
   "metadata": {},
   "outputs": [],
   "source": [
    "termo = int(input('Digite até qual termo deseja verificar a série: '))"
   ]
  },
  {
   "cell_type": "code",
   "execution_count": null,
   "metadata": {},
   "outputs": [],
   "source": [
    "# Laço de repetição para fazer o acréscimo correspondente"
   ]
  },
  {
   "cell_type": "code",
   "execution_count": null,
   "metadata": {},
   "outputs": [],
   "source": [
    "for num in range(termo):\n",
    "    # Na primeira execução as variáveis são instanciadas e iniciadas com o valor 1\n",
    "    if num == 0:\n",
    "        n = 1\n",
    "        m = 1\n",
    "        print(f'{n}/{m} + ', end ='')\n",
    "    \n",
    "    # Nas próximas execuções as variáveis acrescem de acordo com o pedido do exercício\n",
    "    else:\n",
    "        n += 1\n",
    "        m += 2\n",
    "        if num == termo - 1:\n",
    "            print(f'{n}/{m}')\n",
    "        else:\n",
    "            print(f'{n}/{m} + ', end='')\n",
    "    soma += n / m"
   ]
  },
  {
   "cell_type": "code",
   "execution_count": null,
   "metadata": {},
   "outputs": [],
   "source": [
    "print(f'A soma dos valores divididos é igual a {soma:.2f}')"
   ]
  }
 ],
 "metadata": {
  "kernelspec": {
   "display_name": "Python 3",
   "language": "python",
   "name": "python3"
  },
  "language_info": {
   "codemirror_mode": {
    "name": "ipython",
    "version": 3
   },
   "file_extension": ".py",
   "mimetype": "text/x-python",
   "name": "python",
   "nbconvert_exporter": "python",
   "pygments_lexer": "ipython3",
   "version": "3.6.5"
  }
 },
 "nbformat": 4,
 "nbformat_minor": 2
}
