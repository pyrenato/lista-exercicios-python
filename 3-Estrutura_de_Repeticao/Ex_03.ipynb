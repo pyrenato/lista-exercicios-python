{
 "cells": [
  {
   "cell_type": "code",
   "execution_count": null,
   "metadata": {},
   "outputs": [],
   "source": [
    "'''Todas as validações dessa aplicação seguem a mesma lógica.\n",
    "Estão dentro de um while infinito que só para quando a requisição for atendinda,\n",
    "caso não seja recebido o valor esperado, é informado o erro e repete-se a solicitação'''"
   ]
  },
  {
   "cell_type": "code",
   "execution_count": null,
   "metadata": {},
   "outputs": [],
   "source": [
    "while True:\n",
    "    nome = input('Digite o nome: ')\n",
    "    if len(nome) > 3:\n",
    "        break\n",
    "    else:\n",
    "        print('O nome deve ter mais que 3 caracteres!')"
   ]
  },
  {
   "cell_type": "code",
   "execution_count": null,
   "metadata": {},
   "outputs": [],
   "source": [
    "while True:\n",
    "    idade = int(input('Digite a idade: '))\n",
    "    if idade >= 0 and idade <= 150:\n",
    "        break\n",
    "    else:\n",
    "        print('A idade deve estar entre 0 e 150 anos!')\n",
    "        "
   ]
  },
  {
   "cell_type": "code",
   "execution_count": null,
   "metadata": {},
   "outputs": [],
   "source": [
    "while True:\n",
    "    salario = float(input('Digite o salário: '))\n",
    "    if salario > 0:\n",
    "        break\n",
    "    else:\n",
    "        print('O salário deve ser maior que zero!')"
   ]
  },
  {
   "cell_type": "code",
   "execution_count": null,
   "metadata": {},
   "outputs": [],
   "source": [
    "while True:\n",
    "    sexo = input('Digite o sexo (m/f): ').lower()[0]\n",
    "    if sexo in 'mf':\n",
    "        break\n",
    "    else:\n",
    "        print('Opção inválida!')"
   ]
  },
  {
   "cell_type": "code",
   "execution_count": null,
   "metadata": {},
   "outputs": [],
   "source": [
    "while True:\n",
    "    estado_civil = input('''\n",
    "S - solteiro\n",
    "C - casado\n",
    "V - viuvo\n",
    "D - divorciado\n",
    "Digite o estado civil: ''').lower()[0]\n",
    "    if estado_civil in 'scvd':\n",
    "        break\n",
    "    else:\n",
    "        print('Opção inválida!')"
   ]
  }
 ],
 "metadata": {
  "kernelspec": {
   "display_name": "Python 3",
   "language": "python",
   "name": "python3"
  },
  "language_info": {
   "codemirror_mode": {
    "name": "ipython",
    "version": 3
   },
   "file_extension": ".py",
   "mimetype": "text/x-python",
   "name": "python",
   "nbconvert_exporter": "python",
   "pygments_lexer": "ipython3",
   "version": "3.6.5"
  }
 },
 "nbformat": 4,
 "nbformat_minor": 2
}
