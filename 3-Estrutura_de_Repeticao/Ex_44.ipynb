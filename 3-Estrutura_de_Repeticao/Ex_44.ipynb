{
 "cells": [
  {
   "cell_type": "code",
   "execution_count": null,
   "metadata": {},
   "outputs": [],
   "source": [
    "codigos = [1, 2, 3, 4]"
   ]
  },
  {
   "cell_type": "code",
   "execution_count": null,
   "metadata": {},
   "outputs": [],
   "source": [
    "candidatos = ['João', 'José', 'Carlos', 'Roberto']"
   ]
  },
  {
   "cell_type": "code",
   "execution_count": null,
   "metadata": {},
   "outputs": [],
   "source": [
    "lista_votos = []"
   ]
  },
  {
   "cell_type": "code",
   "execution_count": null,
   "metadata": {},
   "outputs": [],
   "source": [
    "# Apresentação dos candidatos"
   ]
  },
  {
   "cell_type": "code",
   "execution_count": null,
   "metadata": {},
   "outputs": [],
   "source": [
    "print('Cód - Candidato')\n",
    "for candidato in range(len(candidatos)):\n",
    "    print(f'{codigos[candidato]} - {candidatos[candidato]}')\n",
    "print('5 - Voto nulo\\n6 - Voto em Branco')"
   ]
  },
  {
   "cell_type": "code",
   "execution_count": null,
   "metadata": {},
   "outputs": [],
   "source": [
    "# Validação do código digitado\n",
    "while True:\n",
    "    cod = int(input('Digite o voto (0 para sair): '))\n",
    "    if cod <= 6:\n",
    "        if cod == 0:\n",
    "            break\n",
    "        \n",
    "        # Esse else será executado se o código já tiver sido validado\n",
    "        else:\n",
    "            lista_votos.append(cod)\n",
    "    else:\n",
    "        print('\\nCódigo inválido!')"
   ]
  },
  {
   "cell_type": "code",
   "execution_count": null,
   "metadata": {},
   "outputs": [],
   "source": [
    "# Cálculo do percentual dos votos nulos e brancos"
   ]
  },
  {
   "cell_type": "code",
   "execution_count": null,
   "metadata": {},
   "outputs": [],
   "source": [
    "percent_nulos = (lista_votos.count(5) * 100) / len(lista_votos)"
   ]
  },
  {
   "cell_type": "code",
   "execution_count": null,
   "metadata": {},
   "outputs": [],
   "source": [
    "percent_brancos = (lista_votos.count(6) * 100) / len(lista_votos)"
   ]
  },
  {
   "cell_type": "code",
   "execution_count": null,
   "metadata": {},
   "outputs": [],
   "source": [
    "# Apresentação dos dados"
   ]
  },
  {
   "cell_type": "code",
   "execution_count": null,
   "metadata": {},
   "outputs": [],
   "source": [
    "for voto in range(6):    \n",
    "    if voto == 4:\n",
    "        print(f'Votos nulos - {lista_votos.count(voto+1)} votos')\n",
    "    elif voto == 5:\n",
    "        print(f'Votos em branco - {lista_votos.count(voto+1)} votos')\n",
    "    else:\n",
    "        print(f'{candidatos[voto]} - {lista_votos.count(voto+1)} votos')\n",
    "\n",
    "print(f'Percentual dos votos nulos: {percent_nulos:.2f} %')\n",
    "print(f'Percentual dos votos em branco: {percent_brancos:.2f} %')"
   ]
  }
 ],
 "metadata": {
  "kernelspec": {
   "display_name": "Python 3",
   "language": "python",
   "name": "python3"
  },
  "language_info": {
   "codemirror_mode": {
    "name": "ipython",
    "version": 3
   },
   "file_extension": ".py",
   "mimetype": "text/x-python",
   "name": "python",
   "nbconvert_exporter": "python",
   "pygments_lexer": "ipython3",
   "version": "3.6.5"
  }
 },
 "nbformat": 4,
 "nbformat_minor": 2
}
