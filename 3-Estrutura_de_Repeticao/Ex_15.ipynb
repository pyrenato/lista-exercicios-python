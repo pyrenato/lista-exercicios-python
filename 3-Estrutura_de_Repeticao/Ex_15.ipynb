{
 "cells": [
  {
   "cell_type": "code",
   "execution_count": null,
   "metadata": {},
   "outputs": [],
   "source": [
    "numero = int(input('Digite um número: '))"
   ]
  },
  {
   "cell_type": "code",
   "execution_count": null,
   "metadata": {},
   "outputs": [],
   "source": [
    "valor_inicial = 1\n",
    "valor_final = 0\n",
    "contador = 1\n",
    "while contador <= numero:\n",
    "    fibonacci = valor_inicial + valor_final\n",
    "    valor_inicial = valor_final\n",
    "    valor_final = fibonacci\n",
    "    print(fibonacci, end=' ')\n",
    "    contador += 1"
   ]
  },
  {
   "cell_type": "code",
   "execution_count": null,
   "metadata": {},
   "outputs": [],
   "source": [
    "'''É definido o valor inicial e o valor final fora do laço, pois estes são para a primeira vez que ele rodar\n",
    "Como no enunciado pede-se o enésimo termo, ou seja, quantas vezes o loop irá ser executado é criado um contador\n",
    "A sequência se dá pela soma do valor inicial com o final\n",
    "Após isso o termo final se torna o inicial e o termo final se torna o fibonacci\n",
    "É impresso na tela e o contador acrescenta mais um.'''"
   ]
  }
 ],
 "metadata": {
  "kernelspec": {
   "display_name": "Python 3",
   "language": "python",
   "name": "python3"
  },
  "language_info": {
   "codemirror_mode": {
    "name": "ipython",
    "version": 3
   },
   "file_extension": ".py",
   "mimetype": "text/x-python",
   "name": "python",
   "nbconvert_exporter": "python",
   "pygments_lexer": "ipython3",
   "version": "3.6.5"
  }
 },
 "nbformat": 4,
 "nbformat_minor": 2
}
