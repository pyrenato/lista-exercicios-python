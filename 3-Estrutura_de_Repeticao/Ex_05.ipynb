{
 "cells": [
  {
   "cell_type": "code",
   "execution_count": null,
   "metadata": {},
   "outputs": [],
   "source": [
    "pais_A = 80000"
   ]
  },
  {
   "cell_type": "code",
   "execution_count": null,
   "metadata": {},
   "outputs": [],
   "source": [
    "pais_B = 200000"
   ]
  },
  {
   "cell_type": "code",
   "execution_count": null,
   "metadata": {},
   "outputs": [],
   "source": [
    "# Caso o valor da taxa A seja menor que a de B, a população nunca irá alcançar e o while rodará infinitamente."
   ]
  },
  {
   "cell_type": "code",
   "execution_count": null,
   "metadata": {},
   "outputs": [],
   "source": [
    "while True:\n",
    "    taxa_A = float(input('Digite o valor da taxa de crescimento do país A: '))\n",
    "    taxa_B = float(input('Digite o valor da taxa de crescimento do país B: '))\n",
    "    if taxa_A > taxa_B:\n",
    "        break\n",
    "    else:\n",
    "        print('O valor da taxa do país A não pode ser menor que a do país B!\\n')"
   ]
  },
  {
   "cell_type": "code",
   "execution_count": null,
   "metadata": {},
   "outputs": [],
   "source": [
    "anos = 0"
   ]
  },
  {
   "cell_type": "code",
   "execution_count": null,
   "metadata": {},
   "outputs": [],
   "source": [
    "while pais_A < pais_B:\n",
    "    pais_A += pais_A * (taxa_A / 100)\n",
    "    pais_B += pais_B * (taxa_B / 100)\n",
    "    anos += 1"
   ]
  },
  {
   "cell_type": "code",
   "execution_count": null,
   "metadata": {},
   "outputs": [],
   "source": [
    "print(f'Serão necessários {anos} anos para que a população do país A ultrapasse a de B.')"
   ]
  }
 ],
 "metadata": {
  "kernelspec": {
   "display_name": "Python 3",
   "language": "python",
   "name": "python3"
  },
  "language_info": {
   "codemirror_mode": {
    "name": "ipython",
    "version": 3
   },
   "file_extension": ".py",
   "mimetype": "text/x-python",
   "name": "python",
   "nbconvert_exporter": "python",
   "pygments_lexer": "ipython3",
   "version": "3.6.5"
  }
 },
 "nbformat": 4,
 "nbformat_minor": 2
}
