{
 "cells": [
  {
   "cell_type": "code",
   "execution_count": 11,
   "metadata": {},
   "outputs": [],
   "source": [
    "lista_codigos = []"
   ]
  },
  {
   "cell_type": "code",
   "execution_count": 12,
   "metadata": {},
   "outputs": [],
   "source": [
    "lista_carros = []"
   ]
  },
  {
   "cell_type": "code",
   "execution_count": 13,
   "metadata": {},
   "outputs": [],
   "source": [
    "lista_acidentes = []"
   ]
  },
  {
   "cell_type": "code",
   "execution_count": 14,
   "metadata": {},
   "outputs": [],
   "source": [
    "for cidade in range(3):\n",
    "    codigo = int(input(f'Digite o código da {cidade+1}ª cidade: '))\n",
    "    lista_codigos.append(codigo)\n",
    "    carro = int(input(f'Digite a quantidade de veículos de passeio da {cidade+1}ª cidade: '))\n",
    "    lista_carros.append(carro)\n",
    "    acidente = int(input(f'Digite a quantidade e acidentes com vítimas da {cidade+1}ª cidade: '))\n",
    "    lista_acidentes.append(acidente)"
   ]
  },
  {
   "cell_type": "code",
   "execution_count": 15,
   "metadata": {},
   "outputs": [],
   "source": [
    "maior_indice = lista_acidentes.index(max(lista_acidentes))"
   ]
  },
  {
   "cell_type": "code",
   "execution_count": 16,
   "metadata": {},
   "outputs": [],
   "source": [
    "menor_indice = lista_acidentes.index(min(lista_acidentes))"
   ]
  },
  {
   "cell_type": "code",
   "execution_count": 17,
   "metadata": {},
   "outputs": [],
   "source": [
    "media_carros = sum(lista_carros) / len(lista_carros)"
   ]
  },
  {
   "cell_type": "code",
   "execution_count": 18,
   "metadata": {},
   "outputs": [],
   "source": [
    "total = 0"
   ]
  },
  {
   "cell_type": "code",
   "execution_count": 19,
   "metadata": {},
   "outputs": [],
   "source": [
    "contador = 0"
   ]
  },
  {
   "cell_type": "code",
   "execution_count": 20,
   "metadata": {},
   "outputs": [],
   "source": [
    "for item in lista_carros:\n",
    "    if item < 2000:\n",
    "        total += item \n",
    "        contador += 1"
   ]
  },
  {
   "cell_type": "code",
   "execution_count": 21,
   "metadata": {},
   "outputs": [],
   "source": [
    "media = total / contador"
   ]
  },
  {
   "cell_type": "code",
   "execution_count": 22,
   "metadata": {},
   "outputs": [
    {
     "name": "stdout",
     "output_type": "stream",
     "text": [
      "A cidade de código 2 é a de maior índice de acidentes com vítimas, com 200 acidentes.\n",
      "A cidade de código 1 é a de menor índice de acidentes com vítimas, com 114 acidentes\n",
      "A média de veículos das 5 cidades é de 2391.67 carros\n",
      "A média de acidentes das cidades com menos de 2000 veículos de passeio é igual a 1887.50\n"
     ]
    }
   ],
   "source": [
    "print(f'''A cidade de código {lista_codigos[maior_indice]} é a de maior índice de acidentes com vítimas, com {max(lista_acidentes)} acidentes.\n",
    "A cidade de código {lista_codigos[menor_indice]} é a de menor índice de acidentes com vítimas, com {min(lista_acidentes)} acidentes\n",
    "A média de veículos das 5 cidades é de {media_carros:.2f} carros\n",
    "A média de acidentes das cidades com menos de 2000 veículos de passeio é igual a {media:.2f}''')"
   ]
  },
  {
   "cell_type": "code",
   "execution_count": null,
   "metadata": {},
   "outputs": [],
   "source": []
  },
  {
   "cell_type": "code",
   "execution_count": null,
   "metadata": {},
   "outputs": [],
   "source": []
  }
 ],
 "metadata": {
  "kernelspec": {
   "display_name": "Python 3",
   "language": "python",
   "name": "python3"
  },
  "language_info": {
   "codemirror_mode": {
    "name": "ipython",
    "version": 3
   },
   "file_extension": ".py",
   "mimetype": "text/x-python",
   "name": "python",
   "nbconvert_exporter": "python",
   "pygments_lexer": "ipython3",
   "version": "3.6.5"
  }
 },
 "nbformat": 4,
 "nbformat_minor": 2
}
