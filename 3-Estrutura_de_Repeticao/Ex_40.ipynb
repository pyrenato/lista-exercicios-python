{
 "cells": [
  {
   "cell_type": "code",
   "execution_count": null,
   "metadata": {},
   "outputs": [],
   "source": [
    "lista_codigos = []"
   ]
  },
  {
   "cell_type": "code",
   "execution_count": null,
   "metadata": {},
   "outputs": [],
   "source": [
    "lista_carros = []"
   ]
  },
  {
   "cell_type": "code",
   "execution_count": null,
   "metadata": {},
   "outputs": [],
   "source": [
    "lista_acidentes = []"
   ]
  },
  {
   "cell_type": "code",
   "execution_count": null,
   "metadata": {},
   "outputs": [],
   "source": [
    "# Loop para inserção dos dados"
   ]
  },
  {
   "cell_type": "code",
   "execution_count": null,
   "metadata": {},
   "outputs": [],
   "source": [
    "for cidade in range(5):\n",
    "    codigo = int(input(f'Digite o código da {cidade+1}ª cidade: '))\n",
    "    lista_codigos.append(codigo)\n",
    "    carro = int(input(f'Digite a quantidade de veículos de passeio da {cidade+1}ª cidade: '))\n",
    "    lista_carros.append(carro)\n",
    "    acidente = int(input(f'Digite a quantidade e acidentes com vítimas da {cidade+1}ª cidade: '))\n",
    "    lista_acidentes.append(acidente)"
   ]
  },
  {
   "cell_type": "code",
   "execution_count": null,
   "metadata": {},
   "outputs": [],
   "source": [
    "# Retorna o índice do maior e menor número de acidentes com vítimas"
   ]
  },
  {
   "cell_type": "code",
   "execution_count": null,
   "metadata": {},
   "outputs": [],
   "source": [
    "maior_indice = lista_acidentes.index(max(lista_acidentes))"
   ]
  },
  {
   "cell_type": "code",
   "execution_count": null,
   "metadata": {},
   "outputs": [],
   "source": [
    "menor_indice = lista_acidentes.index(min(lista_acidentes))"
   ]
  },
  {
   "cell_type": "code",
   "execution_count": null,
   "metadata": {},
   "outputs": [],
   "source": [
    "# Cálculo da média"
   ]
  },
  {
   "cell_type": "code",
   "execution_count": null,
   "metadata": {},
   "outputs": [],
   "source": [
    "media_carros = sum(lista_carros) / len(lista_carros)"
   ]
  },
  {
   "cell_type": "code",
   "execution_count": null,
   "metadata": {},
   "outputs": [],
   "source": [
    "# Total e contador são variáveis que serão usadas na busca da média de acidentes das cidades que têm menos de 2000 carros"
   ]
  },
  {
   "cell_type": "code",
   "execution_count": null,
   "metadata": {},
   "outputs": [],
   "source": [
    "total = 0"
   ]
  },
  {
   "cell_type": "code",
   "execution_count": null,
   "metadata": {},
   "outputs": [],
   "source": [
    "contador = 0"
   ]
  },
  {
   "cell_type": "code",
   "execution_count": null,
   "metadata": {},
   "outputs": [],
   "source": [
    "'''Loop que percorre a lista de carros verificando se tem menos de 2 mil carros,\n",
    "caso isso seja verdadeiro adiciona o valor da lista de acidentes na variável total e o contador incrementa'''"
   ]
  },
  {
   "cell_type": "code",
   "execution_count": null,
   "metadata": {},
   "outputs": [],
   "source": [
    "for item in range(len(lista_carros)):\n",
    "    if lista_carros[item] < 2000:\n",
    "        print(lista_acidentes[item])\n",
    "        total += lista_acidentes[item]\n",
    "        contador += 1"
   ]
  },
  {
   "cell_type": "code",
   "execution_count": null,
   "metadata": {},
   "outputs": [],
   "source": [
    "# Cálculo da méida de acidentes das cidades com menos de 2 mil carros"
   ]
  },
  {
   "cell_type": "code",
   "execution_count": null,
   "metadata": {},
   "outputs": [],
   "source": [
    "media = total / contador"
   ]
  },
  {
   "cell_type": "code",
   "execution_count": null,
   "metadata": {},
   "outputs": [],
   "source": [
    "# Apresentação dos dados"
   ]
  },
  {
   "cell_type": "code",
   "execution_count": null,
   "metadata": {},
   "outputs": [],
   "source": [
    "print(f'''A cidade de código {lista_codigos[maior_indice]} é a de maior índice de acidentes com vítimas, com {max(lista_acidentes)} acidentes.\n",
    "A cidade de código {lista_codigos[menor_indice]} é a de menor índice de acidentes com vítimas, com {min(lista_acidentes)} acidentes\n",
    "A média de veículos das 5 cidades é de {media_carros:.0f} carros\n",
    "A média de acidentes das cidades com menos de 2000 veículos de passeio é igual a {media:.2f}''')"
   ]
  }
 ],
 "metadata": {
  "kernelspec": {
   "display_name": "Python 3",
   "language": "python",
   "name": "python3"
  },
  "language_info": {
   "codemirror_mode": {
    "name": "ipython",
    "version": 3
   },
   "file_extension": ".py",
   "mimetype": "text/x-python",
   "name": "python",
   "nbconvert_exporter": "python",
   "pygments_lexer": "ipython3",
   "version": "3.6.5"
  }
 },
 "nbformat": 4,
 "nbformat_minor": 2
}
