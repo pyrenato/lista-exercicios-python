{
 "cells": [
  {
   "cell_type": "code",
   "execution_count": null,
   "metadata": {},
   "outputs": [],
   "source": [
    "numero = int(input('Digite um número: '))"
   ]
  },
  {
   "cell_type": "code",
   "execution_count": null,
   "metadata": {},
   "outputs": [],
   "source": [
    "numeros_divisiveis = list()"
   ]
  },
  {
   "cell_type": "code",
   "execution_count": null,
   "metadata": {},
   "outputs": [],
   "source": [
    "'''Nesse caso ao invés do contador foi usado uma lista,\n",
    "sempre que o numero for divisivel pelo num do for ele é adicionado a lista numeros_divisiveis'''"
   ]
  },
  {
   "cell_type": "code",
   "execution_count": null,
   "metadata": {},
   "outputs": [],
   "source": [
    "for num in range(numero, 0,-1):\n",
    "    if numero % num == 0:\n",
    "        numeros_divisiveis.append(num)"
   ]
  },
  {
   "cell_type": "code",
   "execution_count": null,
   "metadata": {},
   "outputs": [],
   "source": [
    "'''Caso o tamanho da lista seja 2, significa que o número só é divisível por 1 e ele mesmo, ou seja, é primo.\n",
    "Caso contrário basta apresentar na tela os números divisíveis\n",
    "Foi utilizado um for para melhor apresentação dos dados, sem haver a quebra de linha'''"
   ]
  },
  {
   "cell_type": "code",
   "execution_count": null,
   "metadata": {},
   "outputs": [],
   "source": [
    "if len(numeros_divisiveis) == 2:\n",
    "    print(f'{numero} é primo!')\n",
    "else:\n",
    "    print(f'{numero} não é primo e é divisível pelos números ', end ='')\n",
    "    for num in numeros_divisiveis:\n",
    "        print(num, end=' ')"
   ]
  }
 ],
 "metadata": {
  "kernelspec": {
   "display_name": "Python 3",
   "language": "python",
   "name": "python3"
  },
  "language_info": {
   "codemirror_mode": {
    "name": "ipython",
    "version": 3
   },
   "file_extension": ".py",
   "mimetype": "text/x-python",
   "name": "python",
   "nbconvert_exporter": "python",
   "pygments_lexer": "ipython3",
   "version": "3.6.5"
  }
 },
 "nbformat": 4,
 "nbformat_minor": 2
}
