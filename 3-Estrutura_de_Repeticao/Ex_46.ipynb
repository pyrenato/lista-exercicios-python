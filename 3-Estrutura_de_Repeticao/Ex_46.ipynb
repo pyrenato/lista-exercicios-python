{
 "cells": [
  {
   "cell_type": "code",
   "execution_count": null,
   "metadata": {},
   "outputs": [],
   "source": [
    "saltos = []"
   ]
  },
  {
   "cell_type": "code",
   "execution_count": null,
   "metadata": {},
   "outputs": [],
   "source": [
    "while True:\n",
    "    nome = input('Digite o nome do atleta: ')\n",
    "    # Validação de continuididade do laço\n",
    "    if nome == '':\n",
    "        break\n",
    "    \n",
    "    # Loop de inserção dos dados\n",
    "    for slt in range(5):\n",
    "        salto = float(input(f'{slt+1}º Salto: '))\n",
    "        saltos.append(salto)\n",
    "    \n",
    "    # Método que ordena uma lista do menor valor para o maior\n",
    "    saltos.sort()\n",
    "    \n",
    "    # Cálculo da média, ou seja, soma dos valores intermediários dividido por 3\n",
    "    media = sum(saltos[1:4]) / 3\n",
    "    \n",
    "    # Apresentação dos dados, o -1 retorna o valor final da lista e o metodo capitalize() retorna a string com a primeira letra maiúscula\n",
    "    print(f'''\n",
    "Melhor salto: {saltos[-1]} m\n",
    "Pior salto: {saltos[0]} m\n",
    "Média dos demais saltos: {media:.2f}\n",
    "\n",
    "Resultado Final:\n",
    "{nome.capitalize()}: {media:.2f} m''')"
   ]
  }
 ],
 "metadata": {
  "kernelspec": {
   "display_name": "Python 3",
   "language": "python",
   "name": "python3"
  },
  "language_info": {
   "codemirror_mode": {
    "name": "ipython",
    "version": 3
   },
   "file_extension": ".py",
   "mimetype": "text/x-python",
   "name": "python",
   "nbconvert_exporter": "python",
   "pygments_lexer": "ipython3",
   "version": "3.6.5"
  }
 },
 "nbformat": 4,
 "nbformat_minor": 2
}
