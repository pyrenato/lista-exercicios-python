{
 "cells": [
  {
   "cell_type": "code",
   "execution_count": null,
   "metadata": {},
   "outputs": [],
   "source": [
    "# Validação do número inserido"
   ]
  },
  {
   "cell_type": "code",
   "execution_count": null,
   "metadata": {},
   "outputs": [],
   "source": [
    "while True:\n",
    "    numero = int(input('Digite um número de 1 a 10: '))\n",
    "    if numero >= 1 and numero <= 10:\n",
    "        break\n",
    "    else:\n",
    "        print('Número inválido!')"
   ]
  },
  {
   "cell_type": "code",
   "execution_count": null,
   "metadata": {},
   "outputs": [],
   "source": [
    "'''A variável numero corresponde ao número inserido pelo usuário\n",
    "A variável num corresponde a variável interna do for\n",
    "Na estrutura {num:2} o 2 serve para melhor visualização, pois sem ele o último resultado fica desalinhado.'''"
   ]
  },
  {
   "cell_type": "code",
   "execution_count": null,
   "metadata": {},
   "outputs": [],
   "source": [
    "print(f'Tabuada de {numero}:')\n",
    "\n",
    "for num in range(1, numero+1):\n",
    "    print(f'{numero} x {num:2} = {numero * num}')"
   ]
  }
 ],
 "metadata": {
  "kernelspec": {
   "display_name": "Python 3",
   "language": "python",
   "name": "python3"
  },
  "language_info": {
   "codemirror_mode": {
    "name": "ipython",
    "version": 3
   },
   "file_extension": ".py",
   "mimetype": "text/x-python",
   "name": "python",
   "nbconvert_exporter": "python",
   "pygments_lexer": "ipython3",
   "version": "3.6.5"
  }
 },
 "nbformat": 4,
 "nbformat_minor": 2
}
