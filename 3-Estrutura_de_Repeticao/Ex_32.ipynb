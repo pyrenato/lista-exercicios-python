{
 "cells": [
  {
   "cell_type": "code",
   "execution_count": 1,
   "metadata": {},
   "outputs": [],
   "source": [
    "# Esse exerício é igual ao 17"
   ]
  },
  {
   "cell_type": "code",
   "execution_count": 2,
   "metadata": {},
   "outputs": [],
   "source": [
    "numero = int(input('Digite um número: '))"
   ]
  },
  {
   "cell_type": "code",
   "execution_count": 3,
   "metadata": {},
   "outputs": [],
   "source": [
    "fatorial = 1"
   ]
  },
  {
   "cell_type": "code",
   "execution_count": 4,
   "metadata": {},
   "outputs": [
    {
     "name": "stdout",
     "output_type": "stream",
     "text": [
      "5! = 5 . 4 . 3 . 2 . 1 = 120\n"
     ]
    }
   ],
   "source": [
    "for num in range(numero,0,-1):\n",
    "    fatorial *= num\n",
    "    if num == numero:\n",
    "        print(f'{num}! = {num} .', end=' ')\n",
    "    elif num == 1:\n",
    "        print(f'{num} = {fatorial}')\n",
    "    else:\n",
    "        print(f'{num} . ', end='')"
   ]
  },
  {
   "cell_type": "code",
   "execution_count": null,
   "metadata": {},
   "outputs": [],
   "source": [
    "'''A variável fatorial começa com 1, pois se começar com 0 o resultado seria 0, afinal qualquer número multiplicado por 0 é 0\n",
    "O for começa de trás pra frente devido a estrutura colocada (numero até o 0, lembre-se que o último número no range não é contado)\n",
    "o -1 informa que é para ir de trás pra frente, ou seja, diminuindo um número a cada execução do laço\n",
    "Logo após isso fatorial recebe o próprio fatorial * num\n",
    "As verificações do if são apenas para apresentação dos dados,\n",
    "ficar organizado entre o primeiro, o último e os do meio.'''"
   ]
  }
 ],
 "metadata": {
  "kernelspec": {
   "display_name": "Python 3",
   "language": "python",
   "name": "python3"
  },
  "language_info": {
   "codemirror_mode": {
    "name": "ipython",
    "version": 3
   },
   "file_extension": ".py",
   "mimetype": "text/x-python",
   "name": "python",
   "nbconvert_exporter": "python",
   "pygments_lexer": "ipython3",
   "version": "3.6.5"
  }
 },
 "nbformat": 4,
 "nbformat_minor": 2
}
