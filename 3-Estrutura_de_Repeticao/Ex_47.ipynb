{
 "cells": [
  {
   "cell_type": "code",
   "execution_count": null,
   "metadata": {},
   "outputs": [],
   "source": [
    "# Esse exerício é bem parecido com o anterior (Ex_46)"
   ]
  },
  {
   "cell_type": "code",
   "execution_count": null,
   "metadata": {},
   "outputs": [],
   "source": [
    "notas = []"
   ]
  },
  {
   "cell_type": "code",
   "execution_count": null,
   "metadata": {},
   "outputs": [],
   "source": [
    "nome = input('Digite o nome do atleta: ')\n",
    "\n",
    "# Loop de inserção dos dados\n",
    "for nt in range(7):\n",
    "    nota = float(input(f'{nt+1}ª nota: '))\n",
    "    notas.append(nota)\n",
    "\n",
    "# Método que ordena uma lista do menor valor para o maior\n",
    "notas.sort()\n",
    "\n",
    "# Cálculo da média, ou seja, soma dos valores intermediários dividido por 3\n",
    "media = sum(notas[1:6]) / 5\n",
    "\n",
    "# Apresentação dos dados, o -1 retorna o valor final da lista e o metodo capitalize() retorna a string com a primeira letra maiúscula\n",
    "print(f'''\n",
    "Resultado Final:\n",
    "Atleta: {nome.capitalize()}\n",
    "Melhor nota: {notas[-1]}\n",
    "Pior nota: {notas[0]}\n",
    "Média: {media:.2f}''')"
   ]
  }
 ],
 "metadata": {
  "kernelspec": {
   "display_name": "Python 3",
   "language": "python",
   "name": "python3"
  },
  "language_info": {
   "codemirror_mode": {
    "name": "ipython",
    "version": 3
   },
   "file_extension": ".py",
   "mimetype": "text/x-python",
   "name": "python",
   "nbconvert_exporter": "python",
   "pygments_lexer": "ipython3",
   "version": "3.6.5"
  }
 },
 "nbformat": 4,
 "nbformat_minor": 2
}
